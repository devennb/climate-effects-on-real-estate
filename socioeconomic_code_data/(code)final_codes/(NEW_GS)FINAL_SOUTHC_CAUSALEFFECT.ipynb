{
 "cells": [
  {
   "cell_type": "code",
   "execution_count": 1,
   "id": "be99f462",
   "metadata": {},
   "outputs": [],
   "source": [
    "import pandas as pd"
   ]
  },
  {
   "cell_type": "code",
   "execution_count": 2,
   "id": "78959550",
   "metadata": {},
   "outputs": [],
   "source": [
    "#Read socioeconomic status per zipcode"
   ]
  },
  {
   "cell_type": "code",
   "execution_count": 3,
   "id": "0dd8ce40",
   "metadata": {},
   "outputs": [],
   "source": [
    "socioeconomic_df = pd.read_csv(\"acs_socioeconomic_2019.csv\")"
   ]
  },
  {
   "cell_type": "code",
   "execution_count": 4,
   "id": "d0caa00c",
   "metadata": {},
   "outputs": [],
   "source": [
    "#Read causal effect file(South Carolina)"
   ]
  },
  {
   "cell_type": "code",
   "execution_count": 5,
   "id": "da0b9a7e",
   "metadata": {},
   "outputs": [],
   "source": [
    "sc_treatment_effect = pd.read_csv('SC_climate_causal_effect.csv')"
   ]
  },
  {
   "cell_type": "code",
   "execution_count": 6,
   "id": "58e30396",
   "metadata": {},
   "outputs": [
    {
     "data": {
      "text/html": [
       "<div>\n",
       "<style scoped>\n",
       "    .dataframe tbody tr th:only-of-type {\n",
       "        vertical-align: middle;\n",
       "    }\n",
       "\n",
       "    .dataframe tbody tr th {\n",
       "        vertical-align: top;\n",
       "    }\n",
       "\n",
       "    .dataframe thead th {\n",
       "        text-align: right;\n",
       "    }\n",
       "</style>\n",
       "<table border=\"1\" class=\"dataframe\">\n",
       "  <thead>\n",
       "    <tr style=\"text-align: right;\">\n",
       "      <th></th>\n",
       "      <th>zip</th>\n",
       "      <th>1</th>\n",
       "      <th>2</th>\n",
       "      <th>3</th>\n",
       "      <th>4</th>\n",
       "      <th>5</th>\n",
       "      <th>6</th>\n",
       "      <th>elderlyReturns</th>\n",
       "      <th>returnsTotalwSalariesWages</th>\n",
       "      <th>returnsDependentCareCredit</th>\n",
       "      <th>returnsEducationCredit</th>\n",
       "      <th>risk_group</th>\n",
       "      <th>propensity_score</th>\n",
       "      <th>price_shift</th>\n",
       "      <th>y_0</th>\n",
       "      <th>y_0_corrected</th>\n",
       "      <th>y_1</th>\n",
       "      <th>y_1_corrected</th>\n",
       "      <th>treatment_effect</th>\n",
       "      <th>treatment_effect_no_corr</th>\n",
       "    </tr>\n",
       "  </thead>\n",
       "  <tbody>\n",
       "    <tr>\n",
       "      <th>0</th>\n",
       "      <td>28420</td>\n",
       "      <td>0.376623</td>\n",
       "      <td>0.285714</td>\n",
       "      <td>0.129870</td>\n",
       "      <td>0.084416</td>\n",
       "      <td>0.097403</td>\n",
       "      <td>0.025974</td>\n",
       "      <td>0.233766</td>\n",
       "      <td>0.798701</td>\n",
       "      <td>0.240260</td>\n",
       "      <td>0.025974</td>\n",
       "      <td>True</td>\n",
       "      <td>0.314452</td>\n",
       "      <td>7.708431</td>\n",
       "      <td>13.356656</td>\n",
       "      <td>13.356656</td>\n",
       "      <td>9.933475</td>\n",
       "      <td>2.857529</td>\n",
       "      <td>-10.499126</td>\n",
       "      <td>-3.423181</td>\n",
       "    </tr>\n",
       "    <tr>\n",
       "      <th>1</th>\n",
       "      <td>28422</td>\n",
       "      <td>0.244318</td>\n",
       "      <td>0.223485</td>\n",
       "      <td>0.159091</td>\n",
       "      <td>0.115530</td>\n",
       "      <td>0.204545</td>\n",
       "      <td>0.053030</td>\n",
       "      <td>0.429924</td>\n",
       "      <td>0.704545</td>\n",
       "      <td>0.202652</td>\n",
       "      <td>0.034091</td>\n",
       "      <td>True</td>\n",
       "      <td>0.453671</td>\n",
       "      <td>10.273772</td>\n",
       "      <td>7.550509</td>\n",
       "      <td>7.550509</td>\n",
       "      <td>6.880352</td>\n",
       "      <td>14.360263</td>\n",
       "      <td>6.809754</td>\n",
       "      <td>-0.670156</td>\n",
       "    </tr>\n",
       "    <tr>\n",
       "      <th>2</th>\n",
       "      <td>28451</td>\n",
       "      <td>0.228377</td>\n",
       "      <td>0.220281</td>\n",
       "      <td>0.159352</td>\n",
       "      <td>0.115040</td>\n",
       "      <td>0.213464</td>\n",
       "      <td>0.063485</td>\n",
       "      <td>0.393268</td>\n",
       "      <td>0.718790</td>\n",
       "      <td>0.202812</td>\n",
       "      <td>0.037921</td>\n",
       "      <td>True</td>\n",
       "      <td>0.438314</td>\n",
       "      <td>7.888837</td>\n",
       "      <td>8.578595</td>\n",
       "      <td>8.578595</td>\n",
       "      <td>7.565351</td>\n",
       "      <td>8.303374</td>\n",
       "      <td>-0.275221</td>\n",
       "      <td>-1.013244</td>\n",
       "    </tr>\n",
       "    <tr>\n",
       "      <th>3</th>\n",
       "      <td>28461</td>\n",
       "      <td>0.212701</td>\n",
       "      <td>0.176741</td>\n",
       "      <td>0.128539</td>\n",
       "      <td>0.101760</td>\n",
       "      <td>0.253252</td>\n",
       "      <td>0.127008</td>\n",
       "      <td>0.574598</td>\n",
       "      <td>0.597552</td>\n",
       "      <td>0.122418</td>\n",
       "      <td>0.024484</td>\n",
       "      <td>True</td>\n",
       "      <td>0.596646</td>\n",
       "      <td>7.638342</td>\n",
       "      <td>4.752342</td>\n",
       "      <td>4.752342</td>\n",
       "      <td>5.040440</td>\n",
       "      <td>9.394616</td>\n",
       "      <td>4.642274</td>\n",
       "      <td>0.288097</td>\n",
       "    </tr>\n",
       "    <tr>\n",
       "      <th>4</th>\n",
       "      <td>28462</td>\n",
       "      <td>0.332815</td>\n",
       "      <td>0.250389</td>\n",
       "      <td>0.139969</td>\n",
       "      <td>0.085537</td>\n",
       "      <td>0.146190</td>\n",
       "      <td>0.045101</td>\n",
       "      <td>0.387247</td>\n",
       "      <td>0.713841</td>\n",
       "      <td>0.183515</td>\n",
       "      <td>0.026439</td>\n",
       "      <td>True</td>\n",
       "      <td>0.426997</td>\n",
       "      <td>8.920533</td>\n",
       "      <td>9.015925</td>\n",
       "      <td>9.015925</td>\n",
       "      <td>8.536726</td>\n",
       "      <td>9.435578</td>\n",
       "      <td>0.419653</td>\n",
       "      <td>-0.479199</td>\n",
       "    </tr>\n",
       "  </tbody>\n",
       "</table>\n",
       "</div>"
      ],
      "text/plain": [
       "     zip         1         2         3         4         5         6  \\\n",
       "0  28420  0.376623  0.285714  0.129870  0.084416  0.097403  0.025974   \n",
       "1  28422  0.244318  0.223485  0.159091  0.115530  0.204545  0.053030   \n",
       "2  28451  0.228377  0.220281  0.159352  0.115040  0.213464  0.063485   \n",
       "3  28461  0.212701  0.176741  0.128539  0.101760  0.253252  0.127008   \n",
       "4  28462  0.332815  0.250389  0.139969  0.085537  0.146190  0.045101   \n",
       "\n",
       "   elderlyReturns  returnsTotalwSalariesWages  returnsDependentCareCredit  \\\n",
       "0        0.233766                    0.798701                    0.240260   \n",
       "1        0.429924                    0.704545                    0.202652   \n",
       "2        0.393268                    0.718790                    0.202812   \n",
       "3        0.574598                    0.597552                    0.122418   \n",
       "4        0.387247                    0.713841                    0.183515   \n",
       "\n",
       "   returnsEducationCredit  risk_group  propensity_score  price_shift  \\\n",
       "0                0.025974        True          0.314452     7.708431   \n",
       "1                0.034091        True          0.453671    10.273772   \n",
       "2                0.037921        True          0.438314     7.888837   \n",
       "3                0.024484        True          0.596646     7.638342   \n",
       "4                0.026439        True          0.426997     8.920533   \n",
       "\n",
       "         y_0  y_0_corrected       y_1  y_1_corrected  treatment_effect  \\\n",
       "0  13.356656      13.356656  9.933475       2.857529        -10.499126   \n",
       "1   7.550509       7.550509  6.880352      14.360263          6.809754   \n",
       "2   8.578595       8.578595  7.565351       8.303374         -0.275221   \n",
       "3   4.752342       4.752342  5.040440       9.394616          4.642274   \n",
       "4   9.015925       9.015925  8.536726       9.435578          0.419653   \n",
       "\n",
       "   treatment_effect_no_corr  \n",
       "0                 -3.423181  \n",
       "1                 -0.670156  \n",
       "2                 -1.013244  \n",
       "3                  0.288097  \n",
       "4                 -0.479199  "
      ]
     },
     "execution_count": 6,
     "metadata": {},
     "output_type": "execute_result"
    }
   ],
   "source": [
    "sc_treatment_effect.head()"
   ]
  },
  {
   "cell_type": "code",
   "execution_count": 7,
   "id": "cbb14259",
   "metadata": {},
   "outputs": [],
   "source": [
    "#Merge by zip"
   ]
  },
  {
   "cell_type": "code",
   "execution_count": 8,
   "id": "60df4ca3",
   "metadata": {},
   "outputs": [],
   "source": [
    "socioeconomic_df['zip'] = socioeconomic_df['zip'].astype(str).str.zfill(5)\n",
    "sc_treatment_effect['zip'] = sc_treatment_effect['zip'].astype(str).str.zfill(5)"
   ]
  },
  {
   "cell_type": "code",
   "execution_count": 9,
   "id": "e90e0615",
   "metadata": {},
   "outputs": [],
   "source": [
    "sc_socioeconomic_treatment_effect = pd.merge(socioeconomic_df, sc_treatment_effect, on=\"zip\")"
   ]
  },
  {
   "cell_type": "code",
   "execution_count": 10,
   "id": "998bd2e0",
   "metadata": {},
   "outputs": [],
   "source": [
    "#OLS regression treatment effect ~ socioeconomic variables"
   ]
  },
  {
   "cell_type": "code",
   "execution_count": 11,
   "id": "c39f8dcd",
   "metadata": {},
   "outputs": [
    {
     "name": "stdout",
     "output_type": "stream",
     "text": [
      "                               OLS Regression Results                               \n",
      "====================================================================================\n",
      "Dep. Variable:     treatment_effect_no_corr   R-squared:                       0.301\n",
      "Model:                                  OLS   Adj. R-squared:                  0.284\n",
      "Method:                       Least Squares   F-statistic:                     17.42\n",
      "Date:                      Thu, 08 May 2025   Prob (F-statistic):           6.56e-12\n",
      "Time:                              20:44:50   Log-Likelihood:                -315.65\n",
      "No. Observations:                       167   AIC:                             641.3\n",
      "Df Residuals:                           162   BIC:                             656.9\n",
      "Df Model:                                 4                                         \n",
      "Covariance Type:                  nonrobust                                         \n",
      "====================================================================================\n",
      "                       coef    std err          t      P>|t|      [0.025      0.975]\n",
      "------------------------------------------------------------------------------------\n",
      "const               -3.0157      0.880     -3.426      0.001      -4.754      -1.277\n",
      "pct_poverty          7.3665      2.167      3.399      0.001       3.087      11.646\n",
      "pct_black            1.9496      0.758      2.573      0.011       0.454       3.446\n",
      "pct_college_plus    -2.2033      1.060     -2.079      0.039      -4.296      -0.111\n",
      "pct_mortgage         1.1009      1.261      0.873      0.384      -1.389       3.591\n",
      "==============================================================================\n",
      "Omnibus:                       15.496   Durbin-Watson:                   1.697\n",
      "Prob(Omnibus):                  0.000   Jarque-Bera (JB):               49.349\n",
      "Skew:                           0.133   Prob(JB):                     1.92e-11\n",
      "Kurtosis:                       5.650   Cond. No.                         22.6\n",
      "==============================================================================\n",
      "\n",
      "Notes:\n",
      "[1] Standard Errors assume that the covariance matrix of the errors is correctly specified.\n"
     ]
    }
   ],
   "source": [
    "import statsmodels.api as sm\n",
    "\n",
    "X = sc_socioeconomic_treatment_effect[['pct_poverty', 'pct_black', 'pct_college_plus', 'pct_mortgage']]\n",
    "X = sm.add_constant(X)\n",
    "y = sc_socioeconomic_treatment_effect['treatment_effect_no_corr']\n",
    "\n",
    "model = sm.OLS(y, X).fit()\n",
    "print(model.summary())"
   ]
  },
  {
   "cell_type": "code",
   "execution_count": 12,
   "id": "5b846e45",
   "metadata": {},
   "outputs": [],
   "source": [
    "# Mean treatment effect"
   ]
  },
  {
   "cell_type": "code",
   "execution_count": 13,
   "id": "437fdaf4",
   "metadata": {},
   "outputs": [
    {
     "data": {
      "text/plain": [
       "-1.2897673143493686"
      ]
     },
     "execution_count": 13,
     "metadata": {},
     "output_type": "execute_result"
    }
   ],
   "source": [
    "sc_socioeconomic_treatment_effect['treatment_effect_no_corr'].mean()"
   ]
  },
  {
   "cell_type": "code",
   "execution_count": 14,
   "id": "855f6bcc",
   "metadata": {},
   "outputs": [],
   "source": [
    "# Mean treatment effect: Lower 25% & Upper 25%"
   ]
  },
  {
   "cell_type": "code",
   "execution_count": 15,
   "id": "6aa36c4c",
   "metadata": {},
   "outputs": [],
   "source": [
    "low_poverty = sc_socioeconomic_treatment_effect[sc_socioeconomic_treatment_effect['pct_poverty'] <= sc_socioeconomic_treatment_effect['pct_poverty'].quantile(0.25)]"
   ]
  },
  {
   "cell_type": "code",
   "execution_count": 16,
   "id": "1100a950",
   "metadata": {},
   "outputs": [
    {
     "data": {
      "text/plain": [
       "-2.4890308304691375"
      ]
     },
     "execution_count": 16,
     "metadata": {},
     "output_type": "execute_result"
    }
   ],
   "source": [
    "low_poverty['treatment_effect_no_corr'].mean()"
   ]
  },
  {
   "cell_type": "code",
   "execution_count": 17,
   "id": "c5dece7a",
   "metadata": {},
   "outputs": [],
   "source": [
    "high_poverty = sc_socioeconomic_treatment_effect[sc_socioeconomic_treatment_effect['pct_poverty'] >= sc_socioeconomic_treatment_effect['pct_poverty'].quantile(0.75)]"
   ]
  },
  {
   "cell_type": "code",
   "execution_count": 18,
   "id": "e9073bf9",
   "metadata": {},
   "outputs": [
    {
     "data": {
      "text/plain": [
       "-0.29057234098666995"
      ]
     },
     "execution_count": 18,
     "metadata": {},
     "output_type": "execute_result"
    }
   ],
   "source": [
    "high_poverty['treatment_effect_no_corr'].mean()"
   ]
  },
  {
   "cell_type": "code",
   "execution_count": 19,
   "id": "ecf93703",
   "metadata": {},
   "outputs": [],
   "source": [
    "low_black = sc_socioeconomic_treatment_effect[sc_socioeconomic_treatment_effect['pct_black'] <= sc_socioeconomic_treatment_effect['pct_black'].quantile(0.25)]"
   ]
  },
  {
   "cell_type": "code",
   "execution_count": 20,
   "id": "b3a3bd67",
   "metadata": {},
   "outputs": [
    {
     "data": {
      "text/plain": [
       "-2.4536102105764463"
      ]
     },
     "execution_count": 20,
     "metadata": {},
     "output_type": "execute_result"
    }
   ],
   "source": [
    "low_black['treatment_effect_no_corr'].mean()"
   ]
  },
  {
   "cell_type": "code",
   "execution_count": 21,
   "id": "9463adc6",
   "metadata": {},
   "outputs": [],
   "source": [
    "high_black = sc_socioeconomic_treatment_effect[sc_socioeconomic_treatment_effect['pct_black'] >= sc_socioeconomic_treatment_effect['pct_black'].quantile(0.75)]"
   ]
  },
  {
   "cell_type": "code",
   "execution_count": 22,
   "id": "47356f9d",
   "metadata": {},
   "outputs": [
    {
     "data": {
      "text/plain": [
       "-0.0967199319410548"
      ]
     },
     "execution_count": 22,
     "metadata": {},
     "output_type": "execute_result"
    }
   ],
   "source": [
    "high_black['treatment_effect_no_corr'].mean()"
   ]
  },
  {
   "cell_type": "code",
   "execution_count": 23,
   "id": "71e2db0d",
   "metadata": {},
   "outputs": [],
   "source": [
    "low_college = sc_socioeconomic_treatment_effect[sc_socioeconomic_treatment_effect['pct_college_plus'] <= sc_socioeconomic_treatment_effect['pct_college_plus'].quantile(0.25)]"
   ]
  },
  {
   "cell_type": "code",
   "execution_count": 24,
   "id": "eeaf9164",
   "metadata": {},
   "outputs": [
    {
     "data": {
      "text/plain": [
       "-0.7249423902645631"
      ]
     },
     "execution_count": 24,
     "metadata": {},
     "output_type": "execute_result"
    }
   ],
   "source": [
    "low_college['treatment_effect_no_corr'].mean()"
   ]
  },
  {
   "cell_type": "code",
   "execution_count": 25,
   "id": "4b1eefc8",
   "metadata": {},
   "outputs": [],
   "source": [
    "high_college = sc_socioeconomic_treatment_effect[sc_socioeconomic_treatment_effect['pct_college_plus'] >= sc_socioeconomic_treatment_effect['pct_college_plus'].quantile(0.75)]"
   ]
  },
  {
   "cell_type": "code",
   "execution_count": 26,
   "id": "c477d304",
   "metadata": {},
   "outputs": [
    {
     "data": {
      "text/plain": [
       "-2.184293221746404"
      ]
     },
     "execution_count": 26,
     "metadata": {},
     "output_type": "execute_result"
    }
   ],
   "source": [
    "high_college['treatment_effect_no_corr'].mean()"
   ]
  },
  {
   "cell_type": "code",
   "execution_count": 27,
   "id": "0700d3d2",
   "metadata": {},
   "outputs": [],
   "source": [
    "low_mortgage = sc_socioeconomic_treatment_effect[sc_socioeconomic_treatment_effect['pct_mortgage'] <= sc_socioeconomic_treatment_effect['pct_mortgage'].quantile(0.25)]"
   ]
  },
  {
   "cell_type": "code",
   "execution_count": 28,
   "id": "ad23a5fe",
   "metadata": {},
   "outputs": [
    {
     "data": {
      "text/plain": [
       "-0.6073603961437387"
      ]
     },
     "execution_count": 28,
     "metadata": {},
     "output_type": "execute_result"
    }
   ],
   "source": [
    "low_mortgage['treatment_effect_no_corr'].mean()"
   ]
  },
  {
   "cell_type": "code",
   "execution_count": 29,
   "id": "3bdc85dd",
   "metadata": {},
   "outputs": [],
   "source": [
    "high_mortgage = sc_socioeconomic_treatment_effect[sc_socioeconomic_treatment_effect['pct_mortgage'] >= sc_socioeconomic_treatment_effect['pct_mortgage'].quantile(0.75)]"
   ]
  },
  {
   "cell_type": "code",
   "execution_count": 30,
   "id": "868afe7e",
   "metadata": {},
   "outputs": [
    {
     "data": {
      "text/plain": [
       "-1.8254419273908495"
      ]
     },
     "execution_count": 30,
     "metadata": {},
     "output_type": "execute_result"
    }
   ],
   "source": [
    "high_mortgage['treatment_effect_no_corr'].mean()"
   ]
  },
  {
   "cell_type": "code",
   "execution_count": 31,
   "id": "eef045a9",
   "metadata": {},
   "outputs": [],
   "source": [
    "#Get South C socioeconomic status"
   ]
  },
  {
   "cell_type": "code",
   "execution_count": 32,
   "id": "a39845c7",
   "metadata": {},
   "outputs": [],
   "source": [
    "socioeconomic_df = pd.read_csv(\"acs_socioeconomic_2019.csv\")"
   ]
  },
  {
   "cell_type": "code",
   "execution_count": 33,
   "id": "bfc95390",
   "metadata": {},
   "outputs": [],
   "source": [
    "zipdata = pd.read_excel(\"uszips.xlsx\")"
   ]
  },
  {
   "cell_type": "code",
   "execution_count": 34,
   "id": "feaf919f",
   "metadata": {},
   "outputs": [],
   "source": [
    "socioeconomic_df['zip'] = socioeconomic_df['zip'].astype(str).str.zfill(5)\n",
    "zipdata['zip'] = zipdata['zip'].astype(str).str.zfill(5)"
   ]
  },
  {
   "cell_type": "code",
   "execution_count": 35,
   "id": "164eb8ba",
   "metadata": {},
   "outputs": [],
   "source": [
    "southc_zipdata = zipdata[zipdata['state_name'] == 'South Carolina']"
   ]
  },
  {
   "cell_type": "code",
   "execution_count": 36,
   "id": "f9fc0599",
   "metadata": {},
   "outputs": [],
   "source": [
    "sc_socioeconomic = pd.merge(socioeconomic_df, southc_zipdata, on=\"zip\")"
   ]
  },
  {
   "cell_type": "code",
   "execution_count": 37,
   "id": "07a92a9e",
   "metadata": {},
   "outputs": [],
   "source": [
    "sc_socioeconomic = sc_socioeconomic.dropna(subset=['pct_poverty', 'pct_black', 'pct_college_plus', 'pct_mortgage'])"
   ]
  },
  {
   "cell_type": "code",
   "execution_count": 38,
   "id": "0bbeac11",
   "metadata": {},
   "outputs": [],
   "source": [
    "#Cluster zip using socioeconomic variables"
   ]
  },
  {
   "cell_type": "code",
   "execution_count": 39,
   "id": "b2712ff3",
   "metadata": {},
   "outputs": [],
   "source": [
    "from sklearn.preprocessing import StandardScaler"
   ]
  },
  {
   "cell_type": "code",
   "execution_count": 40,
   "id": "69f7ddbc",
   "metadata": {},
   "outputs": [],
   "source": [
    "features = ['pct_poverty', 'pct_black', 'pct_college_plus', 'pct_mortgage']"
   ]
  },
  {
   "cell_type": "code",
   "execution_count": 41,
   "id": "82c2178b",
   "metadata": {},
   "outputs": [],
   "source": [
    "scaler = StandardScaler()\n",
    "sc_socioeconomic_scaled = scaler.fit_transform(sc_socioeconomic[features])"
   ]
  },
  {
   "cell_type": "code",
   "execution_count": 42,
   "id": "33c2a0cf",
   "metadata": {},
   "outputs": [],
   "source": [
    "from sklearn.cluster import KMeans\n",
    "from sklearn.metrics import silhouette_score"
   ]
  },
  {
   "cell_type": "code",
   "execution_count": 43,
   "id": "4cca4aee",
   "metadata": {},
   "outputs": [
    {
     "name": "stderr",
     "output_type": "stream",
     "text": [
      "C:\\Users\\user\\anaconda3\\Lib\\site-packages\\sklearn\\cluster\\_kmeans.py:1412: FutureWarning: The default value of `n_init` will change from 10 to 'auto' in 1.4. Set the value of `n_init` explicitly to suppress the warning\n",
      "  super()._check_params_vs_input(X, default_n_init=10)\n"
     ]
    },
    {
     "name": "stdout",
     "output_type": "stream",
     "text": [
      "For n_clusters =2, the average silhouette_score is :0.33313310017166503\n",
      "For n_clusters =3, the average silhouette_score is :0.26045234223891073\n",
      "For n_clusters =4, the average silhouette_score is :0.24300514291757397\n",
      "For n_clusters =5, the average silhouette_score is :0.2446912075738036\n"
     ]
    },
    {
     "name": "stderr",
     "output_type": "stream",
     "text": [
      "C:\\Users\\user\\anaconda3\\Lib\\site-packages\\sklearn\\cluster\\_kmeans.py:1412: FutureWarning: The default value of `n_init` will change from 10 to 'auto' in 1.4. Set the value of `n_init` explicitly to suppress the warning\n",
      "  super()._check_params_vs_input(X, default_n_init=10)\n",
      "C:\\Users\\user\\anaconda3\\Lib\\site-packages\\sklearn\\cluster\\_kmeans.py:1412: FutureWarning: The default value of `n_init` will change from 10 to 'auto' in 1.4. Set the value of `n_init` explicitly to suppress the warning\n",
      "  super()._check_params_vs_input(X, default_n_init=10)\n",
      "C:\\Users\\user\\anaconda3\\Lib\\site-packages\\sklearn\\cluster\\_kmeans.py:1412: FutureWarning: The default value of `n_init` will change from 10 to 'auto' in 1.4. Set the value of `n_init` explicitly to suppress the warning\n",
      "  super()._check_params_vs_input(X, default_n_init=10)\n",
      "C:\\Users\\user\\anaconda3\\Lib\\site-packages\\sklearn\\cluster\\_kmeans.py:1412: FutureWarning: The default value of `n_init` will change from 10 to 'auto' in 1.4. Set the value of `n_init` explicitly to suppress the warning\n",
      "  super()._check_params_vs_input(X, default_n_init=10)\n"
     ]
    },
    {
     "name": "stdout",
     "output_type": "stream",
     "text": [
      "For n_clusters =6, the average silhouette_score is :0.2371572130155402\n",
      "For n_clusters =7, the average silhouette_score is :0.22711534924135665\n",
      "For n_clusters =8, the average silhouette_score is :0.23612487062316118\n",
      "For n_clusters =9, the average silhouette_score is :0.2200524263664066\n"
     ]
    },
    {
     "name": "stderr",
     "output_type": "stream",
     "text": [
      "C:\\Users\\user\\anaconda3\\Lib\\site-packages\\sklearn\\cluster\\_kmeans.py:1412: FutureWarning: The default value of `n_init` will change from 10 to 'auto' in 1.4. Set the value of `n_init` explicitly to suppress the warning\n",
      "  super()._check_params_vs_input(X, default_n_init=10)\n",
      "C:\\Users\\user\\anaconda3\\Lib\\site-packages\\sklearn\\cluster\\_kmeans.py:1412: FutureWarning: The default value of `n_init` will change from 10 to 'auto' in 1.4. Set the value of `n_init` explicitly to suppress the warning\n",
      "  super()._check_params_vs_input(X, default_n_init=10)\n",
      "C:\\Users\\user\\anaconda3\\Lib\\site-packages\\sklearn\\cluster\\_kmeans.py:1412: FutureWarning: The default value of `n_init` will change from 10 to 'auto' in 1.4. Set the value of `n_init` explicitly to suppress the warning\n",
      "  super()._check_params_vs_input(X, default_n_init=10)\n",
      "C:\\Users\\user\\anaconda3\\Lib\\site-packages\\sklearn\\cluster\\_kmeans.py:1412: FutureWarning: The default value of `n_init` will change from 10 to 'auto' in 1.4. Set the value of `n_init` explicitly to suppress the warning\n",
      "  super()._check_params_vs_input(X, default_n_init=10)\n"
     ]
    },
    {
     "name": "stdout",
     "output_type": "stream",
     "text": [
      "For n_clusters =10, the average silhouette_score is :0.22734268660157833\n"
     ]
    }
   ],
   "source": [
    "#Clustering\n",
    "range_n_clusters = [2, 3, 4, 5, 6, 7, 8, 9, 10]\n",
    "for k in range_n_clusters: #try different numbers of clusters\n",
    "    kmeans = KMeans(n_clusters=k, random_state=324)\n",
    "    cluster_labels = kmeans.fit_predict(sc_socioeconomic_scaled)\n",
    "    #report average Silhouette score\n",
    "    silhouette_avg = silhouette_score(sc_socioeconomic_scaled, cluster_labels)\n",
    "    print(\"For n_clusters ={},\".format(k)+\" the average silhouette_score is :{}\".format(silhouette_avg))"
   ]
  },
  {
   "cell_type": "code",
   "execution_count": 44,
   "id": "5f261b14",
   "metadata": {},
   "outputs": [
    {
     "name": "stderr",
     "output_type": "stream",
     "text": [
      "C:\\Users\\user\\anaconda3\\Lib\\site-packages\\sklearn\\cluster\\_kmeans.py:1412: FutureWarning: The default value of `n_init` will change from 10 to 'auto' in 1.4. Set the value of `n_init` explicitly to suppress the warning\n",
      "  super()._check_params_vs_input(X, default_n_init=10)\n"
     ]
    }
   ],
   "source": [
    "kmeans = KMeans(n_clusters=2, random_state=324)\n",
    "cluster_labels = kmeans.fit_predict(sc_socioeconomic_scaled)"
   ]
  },
  {
   "cell_type": "code",
   "execution_count": 45,
   "id": "378c59e8",
   "metadata": {},
   "outputs": [],
   "source": [
    "sc_socioeconomic['cluster'] = cluster_labels"
   ]
  },
  {
   "cell_type": "code",
   "execution_count": 46,
   "id": "3130cc71",
   "metadata": {},
   "outputs": [
    {
     "name": "stdout",
     "output_type": "stream",
     "text": [
      "         pct_poverty  pct_black  pct_college_plus  pct_mortgage\n",
      "cluster                                                        \n",
      "0           0.117207   0.165796          0.320939      0.607544\n",
      "1           0.226877   0.427276          0.132875      0.392172\n"
     ]
    }
   ],
   "source": [
    "cluster_profile = sc_socioeconomic.groupby('cluster')[features].mean()\n",
    "print(cluster_profile)"
   ]
  },
  {
   "cell_type": "code",
   "execution_count": 47,
   "id": "4e881c3f",
   "metadata": {},
   "outputs": [
    {
     "data": {
      "text/html": [
       "<div>\n",
       "<style scoped>\n",
       "    .dataframe tbody tr th:only-of-type {\n",
       "        vertical-align: middle;\n",
       "    }\n",
       "\n",
       "    .dataframe tbody tr th {\n",
       "        vertical-align: top;\n",
       "    }\n",
       "\n",
       "    .dataframe thead th {\n",
       "        text-align: right;\n",
       "    }\n",
       "</style>\n",
       "<table border=\"1\" class=\"dataframe\">\n",
       "  <thead>\n",
       "    <tr style=\"text-align: right;\">\n",
       "      <th></th>\n",
       "      <th>zip</th>\n",
       "      <th>pct_poverty</th>\n",
       "      <th>pct_black</th>\n",
       "      <th>pct_college_plus</th>\n",
       "      <th>pct_mortgage</th>\n",
       "      <th>lat</th>\n",
       "      <th>lng</th>\n",
       "      <th>city</th>\n",
       "      <th>state_id</th>\n",
       "      <th>state_name</th>\n",
       "      <th>...</th>\n",
       "      <th>density</th>\n",
       "      <th>county_fips</th>\n",
       "      <th>county_name</th>\n",
       "      <th>county_weights</th>\n",
       "      <th>county_names_all</th>\n",
       "      <th>county_fips_all</th>\n",
       "      <th>imprecise</th>\n",
       "      <th>military</th>\n",
       "      <th>timezone</th>\n",
       "      <th>cluster</th>\n",
       "    </tr>\n",
       "  </thead>\n",
       "  <tbody>\n",
       "    <tr>\n",
       "      <th>0</th>\n",
       "      <td>29449</td>\n",
       "      <td>0.139399</td>\n",
       "      <td>0.546705</td>\n",
       "      <td>0.237241</td>\n",
       "      <td>0.388565</td>\n",
       "      <td>32.70183</td>\n",
       "      <td>-80.28038</td>\n",
       "      <td>Hollywood</td>\n",
       "      <td>SC</td>\n",
       "      <td>South Carolina</td>\n",
       "      <td>...</td>\n",
       "      <td>39.7</td>\n",
       "      <td>45019</td>\n",
       "      <td>Charleston</td>\n",
       "      <td>{\"45019\": 100}</td>\n",
       "      <td>Charleston</td>\n",
       "      <td>45019</td>\n",
       "      <td>False</td>\n",
       "      <td>False</td>\n",
       "      <td>America/New_York</td>\n",
       "      <td>1</td>\n",
       "    </tr>\n",
       "    <tr>\n",
       "      <th>1</th>\n",
       "      <td>29458</td>\n",
       "      <td>0.251346</td>\n",
       "      <td>0.645357</td>\n",
       "      <td>0.250355</td>\n",
       "      <td>0.423634</td>\n",
       "      <td>33.11922</td>\n",
       "      <td>-79.48720</td>\n",
       "      <td>McClellanville</td>\n",
       "      <td>SC</td>\n",
       "      <td>South Carolina</td>\n",
       "      <td>...</td>\n",
       "      <td>8.1</td>\n",
       "      <td>45019</td>\n",
       "      <td>Charleston</td>\n",
       "      <td>{\"45019\": 100}</td>\n",
       "      <td>Charleston</td>\n",
       "      <td>45019</td>\n",
       "      <td>False</td>\n",
       "      <td>False</td>\n",
       "      <td>America/New_York</td>\n",
       "      <td>1</td>\n",
       "    </tr>\n",
       "    <tr>\n",
       "      <th>2</th>\n",
       "      <td>29461</td>\n",
       "      <td>0.110507</td>\n",
       "      <td>0.272988</td>\n",
       "      <td>0.202815</td>\n",
       "      <td>0.647531</td>\n",
       "      <td>33.17009</td>\n",
       "      <td>-80.00773</td>\n",
       "      <td>Moncks Corner</td>\n",
       "      <td>SC</td>\n",
       "      <td>South Carolina</td>\n",
       "      <td>...</td>\n",
       "      <td>100.0</td>\n",
       "      <td>45015</td>\n",
       "      <td>Berkeley</td>\n",
       "      <td>{\"45015\": 100}</td>\n",
       "      <td>Berkeley</td>\n",
       "      <td>45015</td>\n",
       "      <td>False</td>\n",
       "      <td>False</td>\n",
       "      <td>America/New_York</td>\n",
       "      <td>0</td>\n",
       "    </tr>\n",
       "    <tr>\n",
       "      <th>3</th>\n",
       "      <td>29464</td>\n",
       "      <td>0.055358</td>\n",
       "      <td>0.071277</td>\n",
       "      <td>0.610156</td>\n",
       "      <td>0.693284</td>\n",
       "      <td>32.82082</td>\n",
       "      <td>-79.85583</td>\n",
       "      <td>Mount Pleasant</td>\n",
       "      <td>SC</td>\n",
       "      <td>South Carolina</td>\n",
       "      <td>...</td>\n",
       "      <td>663.0</td>\n",
       "      <td>45019</td>\n",
       "      <td>Charleston</td>\n",
       "      <td>{\"45019\": 99.63, \"45015\": 0.37}</td>\n",
       "      <td>Charleston|Berkeley</td>\n",
       "      <td>45019|45015</td>\n",
       "      <td>False</td>\n",
       "      <td>False</td>\n",
       "      <td>America/New_York</td>\n",
       "      <td>0</td>\n",
       "    </tr>\n",
       "    <tr>\n",
       "      <th>4</th>\n",
       "      <td>29470</td>\n",
       "      <td>0.206845</td>\n",
       "      <td>0.253148</td>\n",
       "      <td>0.215537</td>\n",
       "      <td>0.536713</td>\n",
       "      <td>32.81904</td>\n",
       "      <td>-80.23855</td>\n",
       "      <td>Ravenel</td>\n",
       "      <td>SC</td>\n",
       "      <td>South Carolina</td>\n",
       "      <td>...</td>\n",
       "      <td>31.3</td>\n",
       "      <td>45019</td>\n",
       "      <td>Charleston</td>\n",
       "      <td>{\"45019\": 66.26, \"45035\": 33.74}</td>\n",
       "      <td>Charleston|Dorchester</td>\n",
       "      <td>45019|45035</td>\n",
       "      <td>False</td>\n",
       "      <td>False</td>\n",
       "      <td>America/New_York</td>\n",
       "      <td>0</td>\n",
       "    </tr>\n",
       "    <tr>\n",
       "      <th>...</th>\n",
       "      <td>...</td>\n",
       "      <td>...</td>\n",
       "      <td>...</td>\n",
       "      <td>...</td>\n",
       "      <td>...</td>\n",
       "      <td>...</td>\n",
       "      <td>...</td>\n",
       "      <td>...</td>\n",
       "      <td>...</td>\n",
       "      <td>...</td>\n",
       "      <td>...</td>\n",
       "      <td>...</td>\n",
       "      <td>...</td>\n",
       "      <td>...</td>\n",
       "      <td>...</td>\n",
       "      <td>...</td>\n",
       "      <td>...</td>\n",
       "      <td>...</td>\n",
       "      <td>...</td>\n",
       "      <td>...</td>\n",
       "      <td>...</td>\n",
       "    </tr>\n",
       "    <tr>\n",
       "      <th>415</th>\n",
       "      <td>29146</td>\n",
       "      <td>0.279799</td>\n",
       "      <td>0.614806</td>\n",
       "      <td>0.183251</td>\n",
       "      <td>0.380762</td>\n",
       "      <td>33.50816</td>\n",
       "      <td>-81.29812</td>\n",
       "      <td>Springfield</td>\n",
       "      <td>SC</td>\n",
       "      <td>South Carolina</td>\n",
       "      <td>...</td>\n",
       "      <td>8.3</td>\n",
       "      <td>45075</td>\n",
       "      <td>Orangeburg</td>\n",
       "      <td>{\"45075\": 66.63, \"45003\": 33.37}</td>\n",
       "      <td>Orangeburg|Aiken</td>\n",
       "      <td>45075|45003</td>\n",
       "      <td>False</td>\n",
       "      <td>False</td>\n",
       "      <td>America/New_York</td>\n",
       "      <td>1</td>\n",
       "    </tr>\n",
       "    <tr>\n",
       "      <th>416</th>\n",
       "      <td>29045</td>\n",
       "      <td>0.111174</td>\n",
       "      <td>0.270372</td>\n",
       "      <td>0.306351</td>\n",
       "      <td>0.653321</td>\n",
       "      <td>34.18389</td>\n",
       "      <td>-80.81410</td>\n",
       "      <td>Elgin</td>\n",
       "      <td>SC</td>\n",
       "      <td>South Carolina</td>\n",
       "      <td>...</td>\n",
       "      <td>164.3</td>\n",
       "      <td>45055</td>\n",
       "      <td>Kershaw</td>\n",
       "      <td>{\"45055\": 64.46, \"45079\": 33.6, \"45039\": 1.94}</td>\n",
       "      <td>Kershaw|Richland|Fairfield</td>\n",
       "      <td>45055|45079|45039</td>\n",
       "      <td>False</td>\n",
       "      <td>False</td>\n",
       "      <td>America/New_York</td>\n",
       "      <td>0</td>\n",
       "    </tr>\n",
       "    <tr>\n",
       "      <th>417</th>\n",
       "      <td>29118</td>\n",
       "      <td>0.150916</td>\n",
       "      <td>0.623173</td>\n",
       "      <td>0.309524</td>\n",
       "      <td>0.480581</td>\n",
       "      <td>33.57056</td>\n",
       "      <td>-80.89501</td>\n",
       "      <td>Orangeburg</td>\n",
       "      <td>SC</td>\n",
       "      <td>South Carolina</td>\n",
       "      <td>...</td>\n",
       "      <td>79.0</td>\n",
       "      <td>45075</td>\n",
       "      <td>Orangeburg</td>\n",
       "      <td>{\"45075\": 92.88, \"45017\": 7.12}</td>\n",
       "      <td>Orangeburg|Calhoun</td>\n",
       "      <td>45075|45017</td>\n",
       "      <td>False</td>\n",
       "      <td>False</td>\n",
       "      <td>America/New_York</td>\n",
       "      <td>1</td>\n",
       "    </tr>\n",
       "    <tr>\n",
       "      <th>418</th>\n",
       "      <td>29372</td>\n",
       "      <td>0.167905</td>\n",
       "      <td>0.199421</td>\n",
       "      <td>0.082238</td>\n",
       "      <td>0.464953</td>\n",
       "      <td>34.90590</td>\n",
       "      <td>-81.70878</td>\n",
       "      <td>Pacolet</td>\n",
       "      <td>SC</td>\n",
       "      <td>South Carolina</td>\n",
       "      <td>...</td>\n",
       "      <td>31.2</td>\n",
       "      <td>45021</td>\n",
       "      <td>Cherokee</td>\n",
       "      <td>{\"45021\": 42.36, \"45083\": 31.88, \"45087\": 25.76}</td>\n",
       "      <td>Cherokee|Spartanburg|Union</td>\n",
       "      <td>45021|45083|45087</td>\n",
       "      <td>False</td>\n",
       "      <td>False</td>\n",
       "      <td>America/New_York</td>\n",
       "      <td>1</td>\n",
       "    </tr>\n",
       "    <tr>\n",
       "      <th>419</th>\n",
       "      <td>29492</td>\n",
       "      <td>0.032777</td>\n",
       "      <td>0.092943</td>\n",
       "      <td>0.610949</td>\n",
       "      <td>0.750202</td>\n",
       "      <td>32.91657</td>\n",
       "      <td>-79.87818</td>\n",
       "      <td>Charleston</td>\n",
       "      <td>SC</td>\n",
       "      <td>South Carolina</td>\n",
       "      <td>...</td>\n",
       "      <td>144.5</td>\n",
       "      <td>45015</td>\n",
       "      <td>Berkeley</td>\n",
       "      <td>{\"45015\": 99.87, \"45019\": 0.13}</td>\n",
       "      <td>Berkeley|Charleston</td>\n",
       "      <td>45015|45019</td>\n",
       "      <td>False</td>\n",
       "      <td>False</td>\n",
       "      <td>America/New_York</td>\n",
       "      <td>0</td>\n",
       "    </tr>\n",
       "  </tbody>\n",
       "</table>\n",
       "<p>404 rows × 23 columns</p>\n",
       "</div>"
      ],
      "text/plain": [
       "       zip  pct_poverty  pct_black  pct_college_plus  pct_mortgage       lat  \\\n",
       "0    29449     0.139399   0.546705          0.237241      0.388565  32.70183   \n",
       "1    29458     0.251346   0.645357          0.250355      0.423634  33.11922   \n",
       "2    29461     0.110507   0.272988          0.202815      0.647531  33.17009   \n",
       "3    29464     0.055358   0.071277          0.610156      0.693284  32.82082   \n",
       "4    29470     0.206845   0.253148          0.215537      0.536713  32.81904   \n",
       "..     ...          ...        ...               ...           ...       ...   \n",
       "415  29146     0.279799   0.614806          0.183251      0.380762  33.50816   \n",
       "416  29045     0.111174   0.270372          0.306351      0.653321  34.18389   \n",
       "417  29118     0.150916   0.623173          0.309524      0.480581  33.57056   \n",
       "418  29372     0.167905   0.199421          0.082238      0.464953  34.90590   \n",
       "419  29492     0.032777   0.092943          0.610949      0.750202  32.91657   \n",
       "\n",
       "          lng            city state_id      state_name  ...  density  \\\n",
       "0   -80.28038       Hollywood       SC  South Carolina  ...     39.7   \n",
       "1   -79.48720  McClellanville       SC  South Carolina  ...      8.1   \n",
       "2   -80.00773   Moncks Corner       SC  South Carolina  ...    100.0   \n",
       "3   -79.85583  Mount Pleasant       SC  South Carolina  ...    663.0   \n",
       "4   -80.23855         Ravenel       SC  South Carolina  ...     31.3   \n",
       "..        ...             ...      ...             ...  ...      ...   \n",
       "415 -81.29812     Springfield       SC  South Carolina  ...      8.3   \n",
       "416 -80.81410           Elgin       SC  South Carolina  ...    164.3   \n",
       "417 -80.89501      Orangeburg       SC  South Carolina  ...     79.0   \n",
       "418 -81.70878         Pacolet       SC  South Carolina  ...     31.2   \n",
       "419 -79.87818      Charleston       SC  South Carolina  ...    144.5   \n",
       "\n",
       "     county_fips  county_name  \\\n",
       "0          45019   Charleston   \n",
       "1          45019   Charleston   \n",
       "2          45015     Berkeley   \n",
       "3          45019   Charleston   \n",
       "4          45019   Charleston   \n",
       "..           ...          ...   \n",
       "415        45075   Orangeburg   \n",
       "416        45055      Kershaw   \n",
       "417        45075   Orangeburg   \n",
       "418        45021     Cherokee   \n",
       "419        45015     Berkeley   \n",
       "\n",
       "                                       county_weights  \\\n",
       "0                                      {\"45019\": 100}   \n",
       "1                                      {\"45019\": 100}   \n",
       "2                                      {\"45015\": 100}   \n",
       "3                     {\"45019\": 99.63, \"45015\": 0.37}   \n",
       "4                    {\"45019\": 66.26, \"45035\": 33.74}   \n",
       "..                                                ...   \n",
       "415                  {\"45075\": 66.63, \"45003\": 33.37}   \n",
       "416    {\"45055\": 64.46, \"45079\": 33.6, \"45039\": 1.94}   \n",
       "417                   {\"45075\": 92.88, \"45017\": 7.12}   \n",
       "418  {\"45021\": 42.36, \"45083\": 31.88, \"45087\": 25.76}   \n",
       "419                   {\"45015\": 99.87, \"45019\": 0.13}   \n",
       "\n",
       "               county_names_all    county_fips_all imprecise military  \\\n",
       "0                    Charleston              45019     False    False   \n",
       "1                    Charleston              45019     False    False   \n",
       "2                      Berkeley              45015     False    False   \n",
       "3           Charleston|Berkeley        45019|45015     False    False   \n",
       "4         Charleston|Dorchester        45019|45035     False    False   \n",
       "..                          ...                ...       ...      ...   \n",
       "415            Orangeburg|Aiken        45075|45003     False    False   \n",
       "416  Kershaw|Richland|Fairfield  45055|45079|45039     False    False   \n",
       "417          Orangeburg|Calhoun        45075|45017     False    False   \n",
       "418  Cherokee|Spartanburg|Union  45021|45083|45087     False    False   \n",
       "419         Berkeley|Charleston        45015|45019     False    False   \n",
       "\n",
       "             timezone  cluster  \n",
       "0    America/New_York        1  \n",
       "1    America/New_York        1  \n",
       "2    America/New_York        0  \n",
       "3    America/New_York        0  \n",
       "4    America/New_York        0  \n",
       "..                ...      ...  \n",
       "415  America/New_York        1  \n",
       "416  America/New_York        0  \n",
       "417  America/New_York        1  \n",
       "418  America/New_York        1  \n",
       "419  America/New_York        0  \n",
       "\n",
       "[404 rows x 23 columns]"
      ]
     },
     "execution_count": 47,
     "metadata": {},
     "output_type": "execute_result"
    }
   ],
   "source": [
    "sc_socioeconomic"
   ]
  },
  {
   "cell_type": "code",
   "execution_count": 48,
   "id": "bce70adb",
   "metadata": {},
   "outputs": [],
   "source": [
    "sc_socioeconomic.to_csv(\"sc_socioeconomic.csv\", index=False)"
   ]
  }
 ],
 "metadata": {
  "kernelspec": {
   "display_name": "Python (Anaconda Base)",
   "language": "python",
   "name": "base"
  },
  "language_info": {
   "codemirror_mode": {
    "name": "ipython",
    "version": 3
   },
   "file_extension": ".py",
   "mimetype": "text/x-python",
   "name": "python",
   "nbconvert_exporter": "python",
   "pygments_lexer": "ipython3",
   "version": "3.11.4"
  }
 },
 "nbformat": 4,
 "nbformat_minor": 5
}
