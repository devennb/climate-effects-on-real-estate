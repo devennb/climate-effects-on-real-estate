{
 "cells": [
  {
   "cell_type": "code",
   "execution_count": 1,
   "id": "b793ad66",
   "metadata": {},
   "outputs": [],
   "source": [
    "import pandas as pd"
   ]
  },
  {
   "cell_type": "code",
   "execution_count": 2,
   "id": "03c1df02",
   "metadata": {},
   "outputs": [],
   "source": [
    "#Read socioeconomic status per zipcode"
   ]
  },
  {
   "cell_type": "code",
   "execution_count": 3,
   "id": "543094de",
   "metadata": {},
   "outputs": [],
   "source": [
    "socioeconomic_df = pd.read_csv(\"acs_socioeconomic_2019.csv\")"
   ]
  },
  {
   "cell_type": "code",
   "execution_count": 4,
   "id": "71805f01",
   "metadata": {},
   "outputs": [],
   "source": [
    "#Read causal effect file(North Carolina)"
   ]
  },
  {
   "cell_type": "code",
   "execution_count": 5,
   "id": "da0b9a7e",
   "metadata": {},
   "outputs": [],
   "source": [
    "nc_treatment_effect = pd.read_csv('NC_climate_causal_effect.csv')"
   ]
  },
  {
   "cell_type": "code",
   "execution_count": 6,
   "id": "58e30396",
   "metadata": {},
   "outputs": [
    {
     "data": {
      "text/html": [
       "<div>\n",
       "<style scoped>\n",
       "    .dataframe tbody tr th:only-of-type {\n",
       "        vertical-align: middle;\n",
       "    }\n",
       "\n",
       "    .dataframe tbody tr th {\n",
       "        vertical-align: top;\n",
       "    }\n",
       "\n",
       "    .dataframe thead th {\n",
       "        text-align: right;\n",
       "    }\n",
       "</style>\n",
       "<table border=\"1\" class=\"dataframe\">\n",
       "  <thead>\n",
       "    <tr style=\"text-align: right;\">\n",
       "      <th></th>\n",
       "      <th>zip</th>\n",
       "      <th>1</th>\n",
       "      <th>2</th>\n",
       "      <th>3</th>\n",
       "      <th>4</th>\n",
       "      <th>5</th>\n",
       "      <th>6</th>\n",
       "      <th>elderlyReturns</th>\n",
       "      <th>returnsTotalwSalariesWages</th>\n",
       "      <th>returnsDependentCareCredit</th>\n",
       "      <th>returnsEducationCredit</th>\n",
       "      <th>risk_group</th>\n",
       "      <th>propensity_score</th>\n",
       "      <th>price_shift</th>\n",
       "      <th>y_0</th>\n",
       "      <th>y_0_corrected</th>\n",
       "      <th>y_1</th>\n",
       "      <th>y_1_corrected</th>\n",
       "      <th>treatment_effect</th>\n",
       "      <th>treatment_effect_no_corr</th>\n",
       "    </tr>\n",
       "  </thead>\n",
       "  <tbody>\n",
       "    <tr>\n",
       "      <th>0</th>\n",
       "      <td>27006</td>\n",
       "      <td>0.208388</td>\n",
       "      <td>0.171691</td>\n",
       "      <td>0.132372</td>\n",
       "      <td>0.110092</td>\n",
       "      <td>0.239843</td>\n",
       "      <td>0.137615</td>\n",
       "      <td>0.390564</td>\n",
       "      <td>0.739187</td>\n",
       "      <td>0.237221</td>\n",
       "      <td>0.041940</td>\n",
       "      <td>False</td>\n",
       "      <td>0.317018</td>\n",
       "      <td>4.240454</td>\n",
       "      <td>5.317369</td>\n",
       "      <td>3.740585</td>\n",
       "      <td>5.603561</td>\n",
       "      <td>5.603561</td>\n",
       "      <td>1.862976</td>\n",
       "      <td>0.286192</td>\n",
       "    </tr>\n",
       "    <tr>\n",
       "      <th>1</th>\n",
       "      <td>27012</td>\n",
       "      <td>0.221239</td>\n",
       "      <td>0.183118</td>\n",
       "      <td>0.142274</td>\n",
       "      <td>0.106195</td>\n",
       "      <td>0.238257</td>\n",
       "      <td>0.108918</td>\n",
       "      <td>0.345133</td>\n",
       "      <td>0.772634</td>\n",
       "      <td>0.272294</td>\n",
       "      <td>0.053778</td>\n",
       "      <td>False</td>\n",
       "      <td>0.305139</td>\n",
       "      <td>7.370041</td>\n",
       "      <td>6.168546</td>\n",
       "      <td>7.897662</td>\n",
       "      <td>5.664368</td>\n",
       "      <td>5.664368</td>\n",
       "      <td>-2.233294</td>\n",
       "      <td>-0.504178</td>\n",
       "    </tr>\n",
       "    <tr>\n",
       "      <th>2</th>\n",
       "      <td>27021</td>\n",
       "      <td>0.267081</td>\n",
       "      <td>0.255901</td>\n",
       "      <td>0.165217</td>\n",
       "      <td>0.113043</td>\n",
       "      <td>0.166460</td>\n",
       "      <td>0.032298</td>\n",
       "      <td>0.306832</td>\n",
       "      <td>0.798758</td>\n",
       "      <td>0.249689</td>\n",
       "      <td>0.042236</td>\n",
       "      <td>False</td>\n",
       "      <td>0.335222</td>\n",
       "      <td>10.635492</td>\n",
       "      <td>11.393980</td>\n",
       "      <td>10.253015</td>\n",
       "      <td>7.388397</td>\n",
       "      <td>7.388397</td>\n",
       "      <td>-2.864618</td>\n",
       "      <td>-4.005583</td>\n",
       "    </tr>\n",
       "    <tr>\n",
       "      <th>3</th>\n",
       "      <td>27023</td>\n",
       "      <td>0.225806</td>\n",
       "      <td>0.164363</td>\n",
       "      <td>0.125960</td>\n",
       "      <td>0.102919</td>\n",
       "      <td>0.238095</td>\n",
       "      <td>0.142857</td>\n",
       "      <td>0.350230</td>\n",
       "      <td>0.778802</td>\n",
       "      <td>0.279570</td>\n",
       "      <td>0.052227</td>\n",
       "      <td>False</td>\n",
       "      <td>0.301009</td>\n",
       "      <td>7.528401</td>\n",
       "      <td>4.777645</td>\n",
       "      <td>8.712971</td>\n",
       "      <td>4.755638</td>\n",
       "      <td>4.755638</td>\n",
       "      <td>-3.957333</td>\n",
       "      <td>-0.022006</td>\n",
       "    </tr>\n",
       "    <tr>\n",
       "      <th>4</th>\n",
       "      <td>27025</td>\n",
       "      <td>0.278008</td>\n",
       "      <td>0.284232</td>\n",
       "      <td>0.163900</td>\n",
       "      <td>0.107884</td>\n",
       "      <td>0.139004</td>\n",
       "      <td>0.026971</td>\n",
       "      <td>0.290456</td>\n",
       "      <td>0.823651</td>\n",
       "      <td>0.261411</td>\n",
       "      <td>0.031120</td>\n",
       "      <td>False</td>\n",
       "      <td>0.338318</td>\n",
       "      <td>12.138618</td>\n",
       "      <td>12.103373</td>\n",
       "      <td>12.156638</td>\n",
       "      <td>6.827178</td>\n",
       "      <td>6.827178</td>\n",
       "      <td>-5.329460</td>\n",
       "      <td>-5.276196</td>\n",
       "    </tr>\n",
       "  </tbody>\n",
       "</table>\n",
       "</div>"
      ],
      "text/plain": [
       "     zip         1         2         3         4         5         6  \\\n",
       "0  27006  0.208388  0.171691  0.132372  0.110092  0.239843  0.137615   \n",
       "1  27012  0.221239  0.183118  0.142274  0.106195  0.238257  0.108918   \n",
       "2  27021  0.267081  0.255901  0.165217  0.113043  0.166460  0.032298   \n",
       "3  27023  0.225806  0.164363  0.125960  0.102919  0.238095  0.142857   \n",
       "4  27025  0.278008  0.284232  0.163900  0.107884  0.139004  0.026971   \n",
       "\n",
       "   elderlyReturns  returnsTotalwSalariesWages  returnsDependentCareCredit  \\\n",
       "0        0.390564                    0.739187                    0.237221   \n",
       "1        0.345133                    0.772634                    0.272294   \n",
       "2        0.306832                    0.798758                    0.249689   \n",
       "3        0.350230                    0.778802                    0.279570   \n",
       "4        0.290456                    0.823651                    0.261411   \n",
       "\n",
       "   returnsEducationCredit  risk_group  propensity_score  price_shift  \\\n",
       "0                0.041940       False          0.317018     4.240454   \n",
       "1                0.053778       False          0.305139     7.370041   \n",
       "2                0.042236       False          0.335222    10.635492   \n",
       "3                0.052227       False          0.301009     7.528401   \n",
       "4                0.031120       False          0.338318    12.138618   \n",
       "\n",
       "         y_0  y_0_corrected       y_1  y_1_corrected  treatment_effect  \\\n",
       "0   5.317369       3.740585  5.603561       5.603561          1.862976   \n",
       "1   6.168546       7.897662  5.664368       5.664368         -2.233294   \n",
       "2  11.393980      10.253015  7.388397       7.388397         -2.864618   \n",
       "3   4.777645       8.712971  4.755638       4.755638         -3.957333   \n",
       "4  12.103373      12.156638  6.827178       6.827178         -5.329460   \n",
       "\n",
       "   treatment_effect_no_corr  \n",
       "0                  0.286192  \n",
       "1                 -0.504178  \n",
       "2                 -4.005583  \n",
       "3                 -0.022006  \n",
       "4                 -5.276196  "
      ]
     },
     "execution_count": 6,
     "metadata": {},
     "output_type": "execute_result"
    }
   ],
   "source": [
    "nc_treatment_effect.head()"
   ]
  },
  {
   "cell_type": "code",
   "execution_count": 7,
   "id": "cbb14259",
   "metadata": {},
   "outputs": [],
   "source": [
    "#Merge by zip"
   ]
  },
  {
   "cell_type": "code",
   "execution_count": 8,
   "id": "60df4ca3",
   "metadata": {},
   "outputs": [],
   "source": [
    "socioeconomic_df['zip'] = socioeconomic_df['zip'].astype(str).str.zfill(5)\n",
    "nc_treatment_effect['zip'] = nc_treatment_effect['zip'].astype(str).str.zfill(5)"
   ]
  },
  {
   "cell_type": "code",
   "execution_count": 9,
   "id": "e90e0615",
   "metadata": {},
   "outputs": [],
   "source": [
    "nc_socioeconomic_treatment_effect = pd.merge(socioeconomic_df, nc_treatment_effect, on=\"zip\")"
   ]
  },
  {
   "cell_type": "code",
   "execution_count": 10,
   "id": "998bd2e0",
   "metadata": {},
   "outputs": [],
   "source": [
    "#OLS regression treatment effect ~ socioeconomic variables"
   ]
  },
  {
   "cell_type": "code",
   "execution_count": 11,
   "id": "c39f8dcd",
   "metadata": {},
   "outputs": [
    {
     "name": "stdout",
     "output_type": "stream",
     "text": [
      "                               OLS Regression Results                               \n",
      "====================================================================================\n",
      "Dep. Variable:     treatment_effect_no_corr   R-squared:                       0.732\n",
      "Model:                                  OLS   Adj. R-squared:                  0.730\n",
      "Method:                       Least Squares   F-statistic:                     255.9\n",
      "Date:                      Thu, 08 May 2025   Prob (F-statistic):          1.21e-105\n",
      "Time:                              20:44:34   Log-Likelihood:                -664.83\n",
      "No. Observations:                       379   AIC:                             1340.\n",
      "Df Residuals:                           374   BIC:                             1359.\n",
      "Df Model:                                 4                                         \n",
      "Covariance Type:                  nonrobust                                         \n",
      "====================================================================================\n",
      "                       coef    std err          t      P>|t|      [0.025      0.975]\n",
      "------------------------------------------------------------------------------------\n",
      "const               -1.5719      0.506     -3.104      0.002      -2.568      -0.576\n",
      "pct_poverty        -16.0933      1.337    -12.036      0.000     -18.722     -13.464\n",
      "pct_black           -2.7255      0.563     -4.838      0.000      -3.833      -1.618\n",
      "pct_college_plus     8.5280      0.569     14.998      0.000       7.410       9.646\n",
      "pct_mortgage        -3.9683      0.794     -4.997      0.000      -5.530      -2.407\n",
      "==============================================================================\n",
      "Omnibus:                       11.600   Durbin-Watson:                   1.983\n",
      "Prob(Omnibus):                  0.003   Jarque-Bera (JB):               21.831\n",
      "Skew:                           0.100   Prob(JB):                     1.82e-05\n",
      "Kurtosis:                       4.159   Cond. No.                         25.1\n",
      "==============================================================================\n",
      "\n",
      "Notes:\n",
      "[1] Standard Errors assume that the covariance matrix of the errors is correctly specified.\n"
     ]
    }
   ],
   "source": [
    "import statsmodels.api as sm\n",
    "\n",
    "X = nc_socioeconomic_treatment_effect[['pct_poverty', 'pct_black', 'pct_college_plus', 'pct_mortgage']]\n",
    "X = sm.add_constant(X)\n",
    "y = nc_socioeconomic_treatment_effect['treatment_effect_no_corr']\n",
    "\n",
    "model = sm.OLS(y, X).fit()\n",
    "print(model.summary())"
   ]
  },
  {
   "cell_type": "code",
   "execution_count": 12,
   "id": "43f825fa",
   "metadata": {},
   "outputs": [],
   "source": [
    "# Mean treatment effect"
   ]
  },
  {
   "cell_type": "code",
   "execution_count": 13,
   "id": "4e37e9e1",
   "metadata": {},
   "outputs": [
    {
     "data": {
      "text/plain": [
       "-4.3511696492877245"
      ]
     },
     "execution_count": 13,
     "metadata": {},
     "output_type": "execute_result"
    }
   ],
   "source": [
    "nc_socioeconomic_treatment_effect['treatment_effect_no_corr'].mean()"
   ]
  },
  {
   "cell_type": "code",
   "execution_count": 14,
   "id": "9f1c73c1",
   "metadata": {},
   "outputs": [],
   "source": [
    "# Mean treatment effect: Lower 25% & Upper 25%"
   ]
  },
  {
   "cell_type": "code",
   "execution_count": 15,
   "id": "9039c40c",
   "metadata": {},
   "outputs": [],
   "source": [
    "low_poverty = nc_socioeconomic_treatment_effect[nc_socioeconomic_treatment_effect['pct_poverty'] <= nc_socioeconomic_treatment_effect['pct_poverty'].quantile(0.25)]"
   ]
  },
  {
   "cell_type": "code",
   "execution_count": 16,
   "id": "ce2e6812",
   "metadata": {},
   "outputs": [
    {
     "data": {
      "text/plain": [
       "-1.6223829113447403"
      ]
     },
     "execution_count": 16,
     "metadata": {},
     "output_type": "execute_result"
    }
   ],
   "source": [
    "low_poverty['treatment_effect_no_corr'].mean()"
   ]
  },
  {
   "cell_type": "code",
   "execution_count": 17,
   "id": "2f95bba0",
   "metadata": {},
   "outputs": [],
   "source": [
    "high_poverty = nc_socioeconomic_treatment_effect[nc_socioeconomic_treatment_effect['pct_poverty'] >= nc_socioeconomic_treatment_effect['pct_poverty'].quantile(0.75)]"
   ]
  },
  {
   "cell_type": "code",
   "execution_count": 18,
   "id": "23e4065b",
   "metadata": {},
   "outputs": [
    {
     "data": {
      "text/plain": [
       "-6.7865282995141225"
      ]
     },
     "execution_count": 18,
     "metadata": {},
     "output_type": "execute_result"
    }
   ],
   "source": [
    "high_poverty['treatment_effect_no_corr'].mean()"
   ]
  },
  {
   "cell_type": "code",
   "execution_count": 19,
   "id": "3ed0a1fa",
   "metadata": {},
   "outputs": [],
   "source": [
    "low_black = nc_socioeconomic_treatment_effect[nc_socioeconomic_treatment_effect['pct_black'] <= nc_socioeconomic_treatment_effect['pct_black'].quantile(0.25)]"
   ]
  },
  {
   "cell_type": "code",
   "execution_count": 20,
   "id": "25fe7d36",
   "metadata": {},
   "outputs": [
    {
     "data": {
      "text/plain": [
       "-2.764440910417794"
      ]
     },
     "execution_count": 20,
     "metadata": {},
     "output_type": "execute_result"
    }
   ],
   "source": [
    "low_black['treatment_effect_no_corr'].mean()"
   ]
  },
  {
   "cell_type": "code",
   "execution_count": 21,
   "id": "be06fcfd",
   "metadata": {},
   "outputs": [],
   "source": [
    "high_black = nc_socioeconomic_treatment_effect[nc_socioeconomic_treatment_effect['pct_black'] >= nc_socioeconomic_treatment_effect['pct_black'].quantile(0.75)]"
   ]
  },
  {
   "cell_type": "code",
   "execution_count": 22,
   "id": "06b0d47e",
   "metadata": {},
   "outputs": [
    {
     "data": {
      "text/plain": [
       "-6.515799020691549"
      ]
     },
     "execution_count": 22,
     "metadata": {},
     "output_type": "execute_result"
    }
   ],
   "source": [
    "high_black['treatment_effect_no_corr'].mean()"
   ]
  },
  {
   "cell_type": "code",
   "execution_count": 23,
   "id": "f1f7b76b",
   "metadata": {},
   "outputs": [],
   "source": [
    "low_college = nc_socioeconomic_treatment_effect[nc_socioeconomic_treatment_effect['pct_college_plus'] <= nc_socioeconomic_treatment_effect['pct_college_plus'].quantile(0.25)]"
   ]
  },
  {
   "cell_type": "code",
   "execution_count": 24,
   "id": "1778cc06",
   "metadata": {},
   "outputs": [
    {
     "data": {
      "text/plain": [
       "-6.390676407694985"
      ]
     },
     "execution_count": 24,
     "metadata": {},
     "output_type": "execute_result"
    }
   ],
   "source": [
    "low_college['treatment_effect_no_corr'].mean()"
   ]
  },
  {
   "cell_type": "code",
   "execution_count": 25,
   "id": "6d2629d4",
   "metadata": {},
   "outputs": [],
   "source": [
    "high_college = nc_socioeconomic_treatment_effect[nc_socioeconomic_treatment_effect['pct_college_plus'] >= nc_socioeconomic_treatment_effect['pct_college_plus'].quantile(0.75)]"
   ]
  },
  {
   "cell_type": "code",
   "execution_count": 26,
   "id": "9a64c749",
   "metadata": {},
   "outputs": [
    {
     "data": {
      "text/plain": [
       "-1.4918954482816735"
      ]
     },
     "execution_count": 26,
     "metadata": {},
     "output_type": "execute_result"
    }
   ],
   "source": [
    "high_college['treatment_effect_no_corr'].mean()"
   ]
  },
  {
   "cell_type": "code",
   "execution_count": 27,
   "id": "12697904",
   "metadata": {},
   "outputs": [],
   "source": [
    "low_mortgage = nc_socioeconomic_treatment_effect[nc_socioeconomic_treatment_effect['pct_mortgage'] <= nc_socioeconomic_treatment_effect['pct_mortgage'].quantile(0.25)]"
   ]
  },
  {
   "cell_type": "code",
   "execution_count": 28,
   "id": "6cca973c",
   "metadata": {},
   "outputs": [
    {
     "data": {
      "text/plain": [
       "-5.367902592386424"
      ]
     },
     "execution_count": 28,
     "metadata": {},
     "output_type": "execute_result"
    }
   ],
   "source": [
    "low_mortgage['treatment_effect_no_corr'].mean()"
   ]
  },
  {
   "cell_type": "code",
   "execution_count": 29,
   "id": "b0bb334e",
   "metadata": {},
   "outputs": [],
   "source": [
    "high_mortgage = nc_socioeconomic_treatment_effect[nc_socioeconomic_treatment_effect['pct_mortgage'] >= nc_socioeconomic_treatment_effect['pct_mortgage'].quantile(0.75)]"
   ]
  },
  {
   "cell_type": "code",
   "execution_count": 30,
   "id": "66d04be5",
   "metadata": {},
   "outputs": [
    {
     "data": {
      "text/plain": [
       "-2.99341729224498"
      ]
     },
     "execution_count": 30,
     "metadata": {},
     "output_type": "execute_result"
    }
   ],
   "source": [
    "high_mortgage['treatment_effect_no_corr'].mean()"
   ]
  },
  {
   "cell_type": "code",
   "execution_count": 31,
   "id": "cceabf85",
   "metadata": {},
   "outputs": [],
   "source": [
    "#Get North C socioeconomic status"
   ]
  },
  {
   "cell_type": "code",
   "execution_count": 32,
   "id": "d039bbc3",
   "metadata": {},
   "outputs": [],
   "source": [
    "socioeconomic_df = pd.read_csv(\"acs_socioeconomic_2019.csv\")"
   ]
  },
  {
   "cell_type": "code",
   "execution_count": 33,
   "id": "46809109",
   "metadata": {},
   "outputs": [],
   "source": [
    "zipdata = pd.read_excel(\"uszips.xlsx\")"
   ]
  },
  {
   "cell_type": "code",
   "execution_count": 34,
   "id": "8ebf77d2",
   "metadata": {},
   "outputs": [],
   "source": [
    "socioeconomic_df['zip'] = socioeconomic_df['zip'].astype(str).str.zfill(5)\n",
    "zipdata['zip'] = zipdata['zip'].astype(str).str.zfill(5)"
   ]
  },
  {
   "cell_type": "code",
   "execution_count": 35,
   "id": "28498d00",
   "metadata": {},
   "outputs": [],
   "source": [
    "northc_zipdata = zipdata[zipdata['state_name'] == 'North Carolina']"
   ]
  },
  {
   "cell_type": "code",
   "execution_count": 36,
   "id": "7781a82b",
   "metadata": {},
   "outputs": [],
   "source": [
    "nc_socioeconomic = pd.merge(socioeconomic_df, northc_zipdata, on=\"zip\")"
   ]
  },
  {
   "cell_type": "code",
   "execution_count": 37,
   "id": "02fa2278",
   "metadata": {},
   "outputs": [],
   "source": [
    "nc_socioeconomic = nc_socioeconomic.dropna(subset=['pct_poverty', 'pct_black', 'pct_college_plus', 'pct_mortgage'])"
   ]
  },
  {
   "cell_type": "code",
   "execution_count": 38,
   "id": "9e4de8b2",
   "metadata": {},
   "outputs": [],
   "source": [
    "#Cluster zip using socioeconomic variables"
   ]
  },
  {
   "cell_type": "code",
   "execution_count": 39,
   "id": "17e9db3a",
   "metadata": {},
   "outputs": [],
   "source": [
    "from sklearn.preprocessing import StandardScaler"
   ]
  },
  {
   "cell_type": "code",
   "execution_count": 40,
   "id": "9f5b2c06",
   "metadata": {},
   "outputs": [],
   "source": [
    "features = ['pct_poverty', 'pct_black', 'pct_college_plus', 'pct_mortgage']"
   ]
  },
  {
   "cell_type": "code",
   "execution_count": 41,
   "id": "259e0d37",
   "metadata": {},
   "outputs": [],
   "source": [
    "scaler = StandardScaler()\n",
    "nc_socioeconomic_scaled = scaler.fit_transform(nc_socioeconomic[features])"
   ]
  },
  {
   "cell_type": "code",
   "execution_count": 42,
   "id": "c04ecef1",
   "metadata": {},
   "outputs": [],
   "source": [
    "from sklearn.cluster import KMeans\n",
    "from sklearn.metrics import silhouette_score"
   ]
  },
  {
   "cell_type": "code",
   "execution_count": 43,
   "id": "9df0df62",
   "metadata": {},
   "outputs": [
    {
     "name": "stderr",
     "output_type": "stream",
     "text": [
      "C:\\Users\\user\\anaconda3\\Lib\\site-packages\\sklearn\\cluster\\_kmeans.py:1412: FutureWarning: The default value of `n_init` will change from 10 to 'auto' in 1.4. Set the value of `n_init` explicitly to suppress the warning\n",
      "  super()._check_params_vs_input(X, default_n_init=10)\n"
     ]
    },
    {
     "name": "stdout",
     "output_type": "stream",
     "text": [
      "For n_clusters =2, the average silhouette_score is :0.2809544384212182\n",
      "For n_clusters =3, the average silhouette_score is :0.2792487651300839\n",
      "For n_clusters =4, the average silhouette_score is :0.26302049391018045\n"
     ]
    },
    {
     "name": "stderr",
     "output_type": "stream",
     "text": [
      "C:\\Users\\user\\anaconda3\\Lib\\site-packages\\sklearn\\cluster\\_kmeans.py:1412: FutureWarning: The default value of `n_init` will change from 10 to 'auto' in 1.4. Set the value of `n_init` explicitly to suppress the warning\n",
      "  super()._check_params_vs_input(X, default_n_init=10)\n",
      "C:\\Users\\user\\anaconda3\\Lib\\site-packages\\sklearn\\cluster\\_kmeans.py:1412: FutureWarning: The default value of `n_init` will change from 10 to 'auto' in 1.4. Set the value of `n_init` explicitly to suppress the warning\n",
      "  super()._check_params_vs_input(X, default_n_init=10)\n",
      "C:\\Users\\user\\anaconda3\\Lib\\site-packages\\sklearn\\cluster\\_kmeans.py:1412: FutureWarning: The default value of `n_init` will change from 10 to 'auto' in 1.4. Set the value of `n_init` explicitly to suppress the warning\n",
      "  super()._check_params_vs_input(X, default_n_init=10)\n"
     ]
    },
    {
     "name": "stdout",
     "output_type": "stream",
     "text": [
      "For n_clusters =5, the average silhouette_score is :0.24637726567677085\n",
      "For n_clusters =6, the average silhouette_score is :0.2460480707804132\n",
      "For n_clusters =7, the average silhouette_score is :0.24823163271092188\n"
     ]
    },
    {
     "name": "stderr",
     "output_type": "stream",
     "text": [
      "C:\\Users\\user\\anaconda3\\Lib\\site-packages\\sklearn\\cluster\\_kmeans.py:1412: FutureWarning: The default value of `n_init` will change from 10 to 'auto' in 1.4. Set the value of `n_init` explicitly to suppress the warning\n",
      "  super()._check_params_vs_input(X, default_n_init=10)\n",
      "C:\\Users\\user\\anaconda3\\Lib\\site-packages\\sklearn\\cluster\\_kmeans.py:1412: FutureWarning: The default value of `n_init` will change from 10 to 'auto' in 1.4. Set the value of `n_init` explicitly to suppress the warning\n",
      "  super()._check_params_vs_input(X, default_n_init=10)\n",
      "C:\\Users\\user\\anaconda3\\Lib\\site-packages\\sklearn\\cluster\\_kmeans.py:1412: FutureWarning: The default value of `n_init` will change from 10 to 'auto' in 1.4. Set the value of `n_init` explicitly to suppress the warning\n",
      "  super()._check_params_vs_input(X, default_n_init=10)\n"
     ]
    },
    {
     "name": "stdout",
     "output_type": "stream",
     "text": [
      "For n_clusters =8, the average silhouette_score is :0.22765869613229142\n",
      "For n_clusters =9, the average silhouette_score is :0.22334508882054052\n",
      "For n_clusters =10, the average silhouette_score is :0.21956475547177118\n"
     ]
    },
    {
     "name": "stderr",
     "output_type": "stream",
     "text": [
      "C:\\Users\\user\\anaconda3\\Lib\\site-packages\\sklearn\\cluster\\_kmeans.py:1412: FutureWarning: The default value of `n_init` will change from 10 to 'auto' in 1.4. Set the value of `n_init` explicitly to suppress the warning\n",
      "  super()._check_params_vs_input(X, default_n_init=10)\n",
      "C:\\Users\\user\\anaconda3\\Lib\\site-packages\\sklearn\\cluster\\_kmeans.py:1412: FutureWarning: The default value of `n_init` will change from 10 to 'auto' in 1.4. Set the value of `n_init` explicitly to suppress the warning\n",
      "  super()._check_params_vs_input(X, default_n_init=10)\n"
     ]
    }
   ],
   "source": [
    "#Clustering\n",
    "range_n_clusters = [2, 3, 4, 5, 6, 7, 8, 9, 10]\n",
    "for k in range_n_clusters: #try different numbers of clusters\n",
    "    kmeans = KMeans(n_clusters=k, random_state=324)\n",
    "    cluster_labels = kmeans.fit_predict(nc_socioeconomic_scaled)\n",
    "    #report average Silhouette score\n",
    "    silhouette_avg = silhouette_score(nc_socioeconomic_scaled, cluster_labels)\n",
    "    print(\"For n_clusters ={},\".format(k)+\" the average silhouette_score is :{}\".format(silhouette_avg))"
   ]
  },
  {
   "cell_type": "code",
   "execution_count": 44,
   "id": "9567fa61",
   "metadata": {},
   "outputs": [
    {
     "name": "stderr",
     "output_type": "stream",
     "text": [
      "C:\\Users\\user\\anaconda3\\Lib\\site-packages\\sklearn\\cluster\\_kmeans.py:1412: FutureWarning: The default value of `n_init` will change from 10 to 'auto' in 1.4. Set the value of `n_init` explicitly to suppress the warning\n",
      "  super()._check_params_vs_input(X, default_n_init=10)\n"
     ]
    }
   ],
   "source": [
    "kmeans = KMeans(n_clusters=2, random_state=324)\n",
    "cluster_labels = kmeans.fit_predict(nc_socioeconomic_scaled)"
   ]
  },
  {
   "cell_type": "code",
   "execution_count": 45,
   "id": "95db1374",
   "metadata": {},
   "outputs": [],
   "source": [
    "nc_socioeconomic['cluster'] = cluster_labels"
   ]
  },
  {
   "cell_type": "code",
   "execution_count": 46,
   "id": "79af4d84",
   "metadata": {},
   "outputs": [
    {
     "name": "stdout",
     "output_type": "stream",
     "text": [
      "         pct_poverty  pct_black  pct_college_plus  pct_mortgage\n",
      "cluster                                                        \n",
      "0           0.229038   0.308642          0.135315      0.444967\n",
      "1           0.109940   0.112656          0.308747      0.612240\n"
     ]
    }
   ],
   "source": [
    "cluster_profile = nc_socioeconomic.groupby('cluster')[features].mean()\n",
    "print(cluster_profile)"
   ]
  },
  {
   "cell_type": "code",
   "execution_count": 47,
   "id": "fb9c4a5b",
   "metadata": {},
   "outputs": [
    {
     "data": {
      "text/html": [
       "<div>\n",
       "<style scoped>\n",
       "    .dataframe tbody tr th:only-of-type {\n",
       "        vertical-align: middle;\n",
       "    }\n",
       "\n",
       "    .dataframe tbody tr th {\n",
       "        vertical-align: top;\n",
       "    }\n",
       "\n",
       "    .dataframe thead th {\n",
       "        text-align: right;\n",
       "    }\n",
       "</style>\n",
       "<table border=\"1\" class=\"dataframe\">\n",
       "  <thead>\n",
       "    <tr style=\"text-align: right;\">\n",
       "      <th></th>\n",
       "      <th>zip</th>\n",
       "      <th>pct_poverty</th>\n",
       "      <th>pct_black</th>\n",
       "      <th>pct_college_plus</th>\n",
       "      <th>pct_mortgage</th>\n",
       "      <th>lat</th>\n",
       "      <th>lng</th>\n",
       "      <th>city</th>\n",
       "      <th>state_id</th>\n",
       "      <th>state_name</th>\n",
       "      <th>...</th>\n",
       "      <th>density</th>\n",
       "      <th>county_fips</th>\n",
       "      <th>county_name</th>\n",
       "      <th>county_weights</th>\n",
       "      <th>county_names_all</th>\n",
       "      <th>county_fips_all</th>\n",
       "      <th>imprecise</th>\n",
       "      <th>military</th>\n",
       "      <th>timezone</th>\n",
       "      <th>cluster</th>\n",
       "    </tr>\n",
       "  </thead>\n",
       "  <tbody>\n",
       "    <tr>\n",
       "      <th>0</th>\n",
       "      <td>28119</td>\n",
       "      <td>0.122800</td>\n",
       "      <td>0.603931</td>\n",
       "      <td>0.071084</td>\n",
       "      <td>0.345566</td>\n",
       "      <td>34.85112</td>\n",
       "      <td>-80.01492</td>\n",
       "      <td>Morven</td>\n",
       "      <td>NC</td>\n",
       "      <td>North Carolina</td>\n",
       "      <td>...</td>\n",
       "      <td>14.2</td>\n",
       "      <td>37007</td>\n",
       "      <td>Anson</td>\n",
       "      <td>{\"37007\": 100}</td>\n",
       "      <td>Anson</td>\n",
       "      <td>37007</td>\n",
       "      <td>False</td>\n",
       "      <td>False</td>\n",
       "      <td>America/New_York</td>\n",
       "      <td>0</td>\n",
       "    </tr>\n",
       "    <tr>\n",
       "      <th>1</th>\n",
       "      <td>27890</td>\n",
       "      <td>0.375095</td>\n",
       "      <td>0.811173</td>\n",
       "      <td>0.134845</td>\n",
       "      <td>0.437198</td>\n",
       "      <td>36.41505</td>\n",
       "      <td>-77.59194</td>\n",
       "      <td>Weldon</td>\n",
       "      <td>NC</td>\n",
       "      <td>North Carolina</td>\n",
       "      <td>...</td>\n",
       "      <td>98.6</td>\n",
       "      <td>37083</td>\n",
       "      <td>Halifax</td>\n",
       "      <td>{\"37083\": 100}</td>\n",
       "      <td>Halifax</td>\n",
       "      <td>37083</td>\n",
       "      <td>False</td>\n",
       "      <td>False</td>\n",
       "      <td>America/New_York</td>\n",
       "      <td>0</td>\n",
       "    </tr>\n",
       "    <tr>\n",
       "      <th>2</th>\n",
       "      <td>27958</td>\n",
       "      <td>0.068434</td>\n",
       "      <td>0.054518</td>\n",
       "      <td>0.240550</td>\n",
       "      <td>0.727829</td>\n",
       "      <td>36.48971</td>\n",
       "      <td>-76.15378</td>\n",
       "      <td>Moyock</td>\n",
       "      <td>NC</td>\n",
       "      <td>North Carolina</td>\n",
       "      <td>...</td>\n",
       "      <td>65.9</td>\n",
       "      <td>37053</td>\n",
       "      <td>Currituck</td>\n",
       "      <td>{\"37053\": 100}</td>\n",
       "      <td>Currituck</td>\n",
       "      <td>37053</td>\n",
       "      <td>False</td>\n",
       "      <td>False</td>\n",
       "      <td>America/New_York</td>\n",
       "      <td>1</td>\n",
       "    </tr>\n",
       "    <tr>\n",
       "      <th>3</th>\n",
       "      <td>27101</td>\n",
       "      <td>0.285947</td>\n",
       "      <td>0.456501</td>\n",
       "      <td>0.309267</td>\n",
       "      <td>0.591238</td>\n",
       "      <td>36.11204</td>\n",
       "      <td>-80.19889</td>\n",
       "      <td>Winston Salem</td>\n",
       "      <td>NC</td>\n",
       "      <td>North Carolina</td>\n",
       "      <td>...</td>\n",
       "      <td>677.0</td>\n",
       "      <td>37067</td>\n",
       "      <td>Forsyth</td>\n",
       "      <td>{\"37067\": 100}</td>\n",
       "      <td>Forsyth</td>\n",
       "      <td>37067</td>\n",
       "      <td>False</td>\n",
       "      <td>False</td>\n",
       "      <td>America/New_York</td>\n",
       "      <td>0</td>\n",
       "    </tr>\n",
       "    <tr>\n",
       "      <th>4</th>\n",
       "      <td>27283</td>\n",
       "      <td>0.129821</td>\n",
       "      <td>0.046337</td>\n",
       "      <td>0.312642</td>\n",
       "      <td>0.604323</td>\n",
       "      <td>35.95293</td>\n",
       "      <td>-79.63621</td>\n",
       "      <td>Julian</td>\n",
       "      <td>NC</td>\n",
       "      <td>North Carolina</td>\n",
       "      <td>...</td>\n",
       "      <td>48.9</td>\n",
       "      <td>37081</td>\n",
       "      <td>Guilford</td>\n",
       "      <td>{\"37081\": 98.54, \"37151\": 1.46}</td>\n",
       "      <td>Guilford|Randolph</td>\n",
       "      <td>37081|37151</td>\n",
       "      <td>False</td>\n",
       "      <td>False</td>\n",
       "      <td>America/New_York</td>\n",
       "      <td>1</td>\n",
       "    </tr>\n",
       "    <tr>\n",
       "      <th>...</th>\n",
       "      <td>...</td>\n",
       "      <td>...</td>\n",
       "      <td>...</td>\n",
       "      <td>...</td>\n",
       "      <td>...</td>\n",
       "      <td>...</td>\n",
       "      <td>...</td>\n",
       "      <td>...</td>\n",
       "      <td>...</td>\n",
       "      <td>...</td>\n",
       "      <td>...</td>\n",
       "      <td>...</td>\n",
       "      <td>...</td>\n",
       "      <td>...</td>\n",
       "      <td>...</td>\n",
       "      <td>...</td>\n",
       "      <td>...</td>\n",
       "      <td>...</td>\n",
       "      <td>...</td>\n",
       "      <td>...</td>\n",
       "      <td>...</td>\n",
       "    </tr>\n",
       "    <tr>\n",
       "      <th>801</th>\n",
       "      <td>28439</td>\n",
       "      <td>0.171484</td>\n",
       "      <td>0.353565</td>\n",
       "      <td>0.130597</td>\n",
       "      <td>0.433071</td>\n",
       "      <td>34.29411</td>\n",
       "      <td>-79.00947</td>\n",
       "      <td>Fair Bluff</td>\n",
       "      <td>NC</td>\n",
       "      <td>North Carolina</td>\n",
       "      <td>...</td>\n",
       "      <td>18.5</td>\n",
       "      <td>37047</td>\n",
       "      <td>Columbus</td>\n",
       "      <td>{\"37047\": 100}</td>\n",
       "      <td>Columbus</td>\n",
       "      <td>37047</td>\n",
       "      <td>False</td>\n",
       "      <td>False</td>\n",
       "      <td>America/New_York</td>\n",
       "      <td>0</td>\n",
       "    </tr>\n",
       "    <tr>\n",
       "      <th>802</th>\n",
       "      <td>28451</td>\n",
       "      <td>0.130269</td>\n",
       "      <td>0.155551</td>\n",
       "      <td>0.286931</td>\n",
       "      <td>0.652831</td>\n",
       "      <td>34.23270</td>\n",
       "      <td>-78.11503</td>\n",
       "      <td>Leland</td>\n",
       "      <td>NC</td>\n",
       "      <td>North Carolina</td>\n",
       "      <td>...</td>\n",
       "      <td>99.2</td>\n",
       "      <td>37019</td>\n",
       "      <td>Brunswick</td>\n",
       "      <td>{\"37019\": 100}</td>\n",
       "      <td>Brunswick</td>\n",
       "      <td>37019</td>\n",
       "      <td>False</td>\n",
       "      <td>False</td>\n",
       "      <td>America/New_York</td>\n",
       "      <td>1</td>\n",
       "    </tr>\n",
       "    <tr>\n",
       "      <th>803</th>\n",
       "      <td>28472</td>\n",
       "      <td>0.244184</td>\n",
       "      <td>0.358277</td>\n",
       "      <td>0.178497</td>\n",
       "      <td>0.513089</td>\n",
       "      <td>34.29707</td>\n",
       "      <td>-78.68452</td>\n",
       "      <td>Whiteville</td>\n",
       "      <td>NC</td>\n",
       "      <td>North Carolina</td>\n",
       "      <td>...</td>\n",
       "      <td>34.8</td>\n",
       "      <td>37047</td>\n",
       "      <td>Columbus</td>\n",
       "      <td>{\"37047\": 100}</td>\n",
       "      <td>Columbus</td>\n",
       "      <td>37047</td>\n",
       "      <td>False</td>\n",
       "      <td>False</td>\n",
       "      <td>America/New_York</td>\n",
       "      <td>0</td>\n",
       "    </tr>\n",
       "    <tr>\n",
       "      <th>804</th>\n",
       "      <td>28478</td>\n",
       "      <td>0.155560</td>\n",
       "      <td>0.379020</td>\n",
       "      <td>0.099779</td>\n",
       "      <td>0.530479</td>\n",
       "      <td>34.64217</td>\n",
       "      <td>-78.04255</td>\n",
       "      <td>Willard</td>\n",
       "      <td>NC</td>\n",
       "      <td>North Carolina</td>\n",
       "      <td>...</td>\n",
       "      <td>14.4</td>\n",
       "      <td>37141</td>\n",
       "      <td>Pender</td>\n",
       "      <td>{\"37141\": 91.58, \"37163\": 7.09, \"37061\": 1.33}</td>\n",
       "      <td>Pender|Sampson|Duplin</td>\n",
       "      <td>37141|37163|37061</td>\n",
       "      <td>False</td>\n",
       "      <td>False</td>\n",
       "      <td>America/New_York</td>\n",
       "      <td>0</td>\n",
       "    </tr>\n",
       "    <tr>\n",
       "      <th>805</th>\n",
       "      <td>28518</td>\n",
       "      <td>0.149688</td>\n",
       "      <td>0.127132</td>\n",
       "      <td>0.166932</td>\n",
       "      <td>0.504890</td>\n",
       "      <td>34.89678</td>\n",
       "      <td>-77.75569</td>\n",
       "      <td>Beulaville</td>\n",
       "      <td>NC</td>\n",
       "      <td>North Carolina</td>\n",
       "      <td>...</td>\n",
       "      <td>32.6</td>\n",
       "      <td>37061</td>\n",
       "      <td>Duplin</td>\n",
       "      <td>{\"37061\": 88.88, \"37133\": 11.12}</td>\n",
       "      <td>Duplin|Onslow</td>\n",
       "      <td>37061|37133</td>\n",
       "      <td>False</td>\n",
       "      <td>False</td>\n",
       "      <td>America/New_York</td>\n",
       "      <td>1</td>\n",
       "    </tr>\n",
       "  </tbody>\n",
       "</table>\n",
       "<p>791 rows × 23 columns</p>\n",
       "</div>"
      ],
      "text/plain": [
       "       zip  pct_poverty  pct_black  pct_college_plus  pct_mortgage       lat  \\\n",
       "0    28119     0.122800   0.603931          0.071084      0.345566  34.85112   \n",
       "1    27890     0.375095   0.811173          0.134845      0.437198  36.41505   \n",
       "2    27958     0.068434   0.054518          0.240550      0.727829  36.48971   \n",
       "3    27101     0.285947   0.456501          0.309267      0.591238  36.11204   \n",
       "4    27283     0.129821   0.046337          0.312642      0.604323  35.95293   \n",
       "..     ...          ...        ...               ...           ...       ...   \n",
       "801  28439     0.171484   0.353565          0.130597      0.433071  34.29411   \n",
       "802  28451     0.130269   0.155551          0.286931      0.652831  34.23270   \n",
       "803  28472     0.244184   0.358277          0.178497      0.513089  34.29707   \n",
       "804  28478     0.155560   0.379020          0.099779      0.530479  34.64217   \n",
       "805  28518     0.149688   0.127132          0.166932      0.504890  34.89678   \n",
       "\n",
       "          lng           city state_id      state_name  ...  density  \\\n",
       "0   -80.01492         Morven       NC  North Carolina  ...     14.2   \n",
       "1   -77.59194         Weldon       NC  North Carolina  ...     98.6   \n",
       "2   -76.15378         Moyock       NC  North Carolina  ...     65.9   \n",
       "3   -80.19889  Winston Salem       NC  North Carolina  ...    677.0   \n",
       "4   -79.63621         Julian       NC  North Carolina  ...     48.9   \n",
       "..        ...            ...      ...             ...  ...      ...   \n",
       "801 -79.00947     Fair Bluff       NC  North Carolina  ...     18.5   \n",
       "802 -78.11503         Leland       NC  North Carolina  ...     99.2   \n",
       "803 -78.68452     Whiteville       NC  North Carolina  ...     34.8   \n",
       "804 -78.04255        Willard       NC  North Carolina  ...     14.4   \n",
       "805 -77.75569     Beulaville       NC  North Carolina  ...     32.6   \n",
       "\n",
       "     county_fips  county_name                                  county_weights  \\\n",
       "0          37007        Anson                                  {\"37007\": 100}   \n",
       "1          37083      Halifax                                  {\"37083\": 100}   \n",
       "2          37053    Currituck                                  {\"37053\": 100}   \n",
       "3          37067      Forsyth                                  {\"37067\": 100}   \n",
       "4          37081     Guilford                 {\"37081\": 98.54, \"37151\": 1.46}   \n",
       "..           ...          ...                                             ...   \n",
       "801        37047     Columbus                                  {\"37047\": 100}   \n",
       "802        37019    Brunswick                                  {\"37019\": 100}   \n",
       "803        37047     Columbus                                  {\"37047\": 100}   \n",
       "804        37141       Pender  {\"37141\": 91.58, \"37163\": 7.09, \"37061\": 1.33}   \n",
       "805        37061       Duplin                {\"37061\": 88.88, \"37133\": 11.12}   \n",
       "\n",
       "          county_names_all    county_fips_all imprecise military  \\\n",
       "0                    Anson              37007     False    False   \n",
       "1                  Halifax              37083     False    False   \n",
       "2                Currituck              37053     False    False   \n",
       "3                  Forsyth              37067     False    False   \n",
       "4        Guilford|Randolph        37081|37151     False    False   \n",
       "..                     ...                ...       ...      ...   \n",
       "801               Columbus              37047     False    False   \n",
       "802              Brunswick              37019     False    False   \n",
       "803               Columbus              37047     False    False   \n",
       "804  Pender|Sampson|Duplin  37141|37163|37061     False    False   \n",
       "805          Duplin|Onslow        37061|37133     False    False   \n",
       "\n",
       "             timezone  cluster  \n",
       "0    America/New_York        0  \n",
       "1    America/New_York        0  \n",
       "2    America/New_York        1  \n",
       "3    America/New_York        0  \n",
       "4    America/New_York        1  \n",
       "..                ...      ...  \n",
       "801  America/New_York        0  \n",
       "802  America/New_York        1  \n",
       "803  America/New_York        0  \n",
       "804  America/New_York        0  \n",
       "805  America/New_York        1  \n",
       "\n",
       "[791 rows x 23 columns]"
      ]
     },
     "execution_count": 47,
     "metadata": {},
     "output_type": "execute_result"
    }
   ],
   "source": [
    "nc_socioeconomic"
   ]
  },
  {
   "cell_type": "code",
   "execution_count": 48,
   "id": "b8a7f46c",
   "metadata": {},
   "outputs": [],
   "source": [
    "nc_socioeconomic.to_csv(\"nc_socioeconomic.csv\", index=False)"
   ]
  }
 ],
 "metadata": {
  "kernelspec": {
   "display_name": "Python (Anaconda Base)",
   "language": "python",
   "name": "base"
  },
  "language_info": {
   "codemirror_mode": {
    "name": "ipython",
    "version": 3
   },
   "file_extension": ".py",
   "mimetype": "text/x-python",
   "name": "python",
   "nbconvert_exporter": "python",
   "pygments_lexer": "ipython3",
   "version": "3.11.4"
  }
 },
 "nbformat": 4,
 "nbformat_minor": 5
}
