{
 "cells": [
  {
   "cell_type": "code",
   "execution_count": 1,
   "id": "cf9aa7ee",
   "metadata": {},
   "outputs": [],
   "source": [
    "import pandas as pd"
   ]
  },
  {
   "cell_type": "code",
   "execution_count": 2,
   "id": "88a0b52d",
   "metadata": {},
   "outputs": [],
   "source": [
    "#Get the socioeconomic status per zipcode"
   ]
  },
  {
   "cell_type": "code",
   "execution_count": 3,
   "id": "fac7a3a9",
   "metadata": {},
   "outputs": [],
   "source": [
    "socioeconomic_df = pd.read_csv(\"acs_socioeconomic_2019.csv\")"
   ]
  },
  {
   "cell_type": "code",
   "execution_count": 4,
   "id": "e47f1498",
   "metadata": {},
   "outputs": [],
   "source": [
    "#Combine 7 states causal effect datasets"
   ]
  },
  {
   "cell_type": "code",
   "execution_count": 5,
   "id": "0b3a480b",
   "metadata": {},
   "outputs": [],
   "source": [
    "df_fl = pd.read_csv(\"fl_climate_causal_effect.csv\")\n",
    "df_fl['State'] = 'Florida'\n",
    "\n",
    "df_ga = pd.read_csv(\"GA_climate_causal_effect.csv\")\n",
    "df_ga['State'] = 'Georgia'\n",
    "\n",
    "df_sc = pd.read_csv(\"SC_climate_causal_effect.csv\")\n",
    "df_sc['State'] = 'SouthC'\n",
    "\n",
    "df_nc = pd.read_csv(\"NC_climate_causal_effect.csv\")\n",
    "df_nc['State'] = 'NorthC'\n",
    "\n",
    "df_la = pd.read_csv(\"la_climate_causal_effect.csv\")\n",
    "df_la['State'] = 'Louisiana'\n",
    "\n",
    "df_tx = pd.read_csv(\"tx_climate_causal_effect.csv\")\n",
    "df_tx['State'] = 'Texas'\n",
    "\n",
    "df_al = pd.read_csv(\"AL_climate_causal_effect.csv\")\n",
    "df_al['State'] = 'Alabama'"
   ]
  },
  {
   "cell_type": "code",
   "execution_count": 6,
   "id": "439eef6e",
   "metadata": {},
   "outputs": [],
   "source": [
    "states_causal_effect = pd.concat([df_fl, df_ga, df_sc, df_nc, df_la, df_tx, df_al], ignore_index=True)"
   ]
  },
  {
   "cell_type": "code",
   "execution_count": 7,
   "id": "0665ba5f",
   "metadata": {},
   "outputs": [],
   "source": [
    "#Merge by socioeconomic data with causal effect data"
   ]
  },
  {
   "cell_type": "code",
   "execution_count": 8,
   "id": "3e4f4ae2",
   "metadata": {},
   "outputs": [],
   "source": [
    "states_causal_effect['zip'] = states_causal_effect['zip'].astype(str).str.zfill(5)\n",
    "socioeconomic_df['zip'] = socioeconomic_df['zip'].astype(str).str.zfill(5)"
   ]
  },
  {
   "cell_type": "code",
   "execution_count": 9,
   "id": "a11539d0",
   "metadata": {},
   "outputs": [],
   "source": [
    "states_causal_effect_socioeconomic = pd.merge(socioeconomic_df, states_causal_effect, on=['zip'], how='inner')"
   ]
  },
  {
   "cell_type": "code",
   "execution_count": 10,
   "id": "4eeb6534",
   "metadata": {},
   "outputs": [],
   "source": [
    "#OLS regression treatment effect ~ socioeconomic variables"
   ]
  },
  {
   "cell_type": "code",
   "execution_count": 11,
   "id": "91d8a8c6",
   "metadata": {},
   "outputs": [
    {
     "name": "stdout",
     "output_type": "stream",
     "text": [
      "                               OLS Regression Results                               \n",
      "====================================================================================\n",
      "Dep. Variable:     treatment_effect_no_corr   R-squared:                       0.120\n",
      "Model:                                  OLS   Adj. R-squared:                  0.119\n",
      "Method:                       Least Squares   F-statistic:                     95.91\n",
      "Date:                      Thu, 08 May 2025   Prob (F-statistic):           1.40e-76\n",
      "Time:                              20:39:52   Log-Likelihood:                -8115.7\n",
      "No. Observations:                      2810   AIC:                         1.624e+04\n",
      "Df Residuals:                          2805   BIC:                         1.627e+04\n",
      "Df Model:                                 4                                         \n",
      "Covariance Type:                  nonrobust                                         \n",
      "====================================================================================\n",
      "                       coef    std err          t      P>|t|      [0.025      0.975]\n",
      "------------------------------------------------------------------------------------\n",
      "const                2.4216      0.513      4.717      0.000       1.415       3.428\n",
      "pct_poverty          5.7075      1.365      4.181      0.000       3.031       8.384\n",
      "pct_black           -2.0439      0.501     -4.081      0.000      -3.026      -1.062\n",
      "pct_college_plus    -4.3603      0.625     -6.981      0.000      -5.585      -3.136\n",
      "pct_mortgage        -6.3487      0.758     -8.379      0.000      -7.834      -4.863\n",
      "==============================================================================\n",
      "Omnibus:                      580.694   Durbin-Watson:                   1.440\n",
      "Prob(Omnibus):                  0.000   Jarque-Bera (JB):            10302.619\n",
      "Skew:                           0.486   Prob(JB):                         0.00\n",
      "Kurtosis:                      12.330   Cond. No.                         21.9\n",
      "==============================================================================\n",
      "\n",
      "Notes:\n",
      "[1] Standard Errors assume that the covariance matrix of the errors is correctly specified.\n"
     ]
    }
   ],
   "source": [
    "import statsmodels.api as sm\n",
    "\n",
    "X = states_causal_effect_socioeconomic[['pct_poverty', 'pct_black', 'pct_college_plus', 'pct_mortgage']]\n",
    "X = sm.add_constant(X)\n",
    "y = states_causal_effect_socioeconomic['treatment_effect_no_corr']\n",
    "\n",
    "model = sm.OLS(y, X).fit()\n",
    "print(model.summary())"
   ]
  }
 ],
 "metadata": {
  "kernelspec": {
   "display_name": "Python (Anaconda Base)",
   "language": "python",
   "name": "base"
  },
  "language_info": {
   "codemirror_mode": {
    "name": "ipython",
    "version": 3
   },
   "file_extension": ".py",
   "mimetype": "text/x-python",
   "name": "python",
   "nbconvert_exporter": "python",
   "pygments_lexer": "ipython3",
   "version": "3.11.4"
  }
 },
 "nbformat": 4,
 "nbformat_minor": 5
}
