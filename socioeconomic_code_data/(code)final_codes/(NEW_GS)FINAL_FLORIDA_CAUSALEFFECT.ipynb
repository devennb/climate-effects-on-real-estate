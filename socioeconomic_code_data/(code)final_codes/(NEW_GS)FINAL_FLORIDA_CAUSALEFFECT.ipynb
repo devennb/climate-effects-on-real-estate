{
 "cells": [
  {
   "cell_type": "code",
   "execution_count": 1,
   "id": "ca3ab81a",
   "metadata": {},
   "outputs": [],
   "source": [
    "import pandas as pd"
   ]
  },
  {
   "cell_type": "code",
   "execution_count": 2,
   "id": "38ab8d10",
   "metadata": {},
   "outputs": [],
   "source": [
    "#Read socioeconomic status per zipcode"
   ]
  },
  {
   "cell_type": "code",
   "execution_count": 3,
   "id": "10a8d8be",
   "metadata": {},
   "outputs": [],
   "source": [
    "socioeconomic_df = pd.read_csv(\"acs_socioeconomic_2019.csv\")"
   ]
  },
  {
   "cell_type": "code",
   "execution_count": 4,
   "id": "0d547f8e",
   "metadata": {},
   "outputs": [],
   "source": [
    "#Read causal effect file(florida)"
   ]
  },
  {
   "cell_type": "code",
   "execution_count": 5,
   "id": "da0b9a7e",
   "metadata": {},
   "outputs": [],
   "source": [
    "fl_treatment_effect = pd.read_csv('fl_climate_causal_effect.csv')"
   ]
  },
  {
   "cell_type": "code",
   "execution_count": 6,
   "id": "58e30396",
   "metadata": {},
   "outputs": [
    {
     "data": {
      "text/html": [
       "<div>\n",
       "<style scoped>\n",
       "    .dataframe tbody tr th:only-of-type {\n",
       "        vertical-align: middle;\n",
       "    }\n",
       "\n",
       "    .dataframe tbody tr th {\n",
       "        vertical-align: top;\n",
       "    }\n",
       "\n",
       "    .dataframe thead th {\n",
       "        text-align: right;\n",
       "    }\n",
       "</style>\n",
       "<table border=\"1\" class=\"dataframe\">\n",
       "  <thead>\n",
       "    <tr style=\"text-align: right;\">\n",
       "      <th></th>\n",
       "      <th>zip</th>\n",
       "      <th>1</th>\n",
       "      <th>2</th>\n",
       "      <th>3</th>\n",
       "      <th>4</th>\n",
       "      <th>5</th>\n",
       "      <th>6</th>\n",
       "      <th>elderlyReturns</th>\n",
       "      <th>returnsTotalwSalariesWages</th>\n",
       "      <th>returnsDependentCareCredit</th>\n",
       "      <th>returnsEducationCredit</th>\n",
       "      <th>risk_group</th>\n",
       "      <th>propensity_score</th>\n",
       "      <th>price_shift</th>\n",
       "      <th>y_0</th>\n",
       "      <th>y_0_corrected</th>\n",
       "      <th>y_1</th>\n",
       "      <th>y_1_corrected</th>\n",
       "      <th>treatment_effect</th>\n",
       "      <th>treatment_effect_no_corr</th>\n",
       "    </tr>\n",
       "  </thead>\n",
       "  <tbody>\n",
       "    <tr>\n",
       "      <th>0</th>\n",
       "      <td>32003</td>\n",
       "      <td>0.203488</td>\n",
       "      <td>0.162064</td>\n",
       "      <td>0.132994</td>\n",
       "      <td>0.112645</td>\n",
       "      <td>0.267442</td>\n",
       "      <td>0.121366</td>\n",
       "      <td>0.340843</td>\n",
       "      <td>0.768895</td>\n",
       "      <td>0.273256</td>\n",
       "      <td>0.047965</td>\n",
       "      <td>True</td>\n",
       "      <td>0.450243</td>\n",
       "      <td>8.050216</td>\n",
       "      <td>12.372752</td>\n",
       "      <td>12.372752</td>\n",
       "      <td>9.591680</td>\n",
       "      <td>6.168053</td>\n",
       "      <td>-6.204699</td>\n",
       "      <td>-2.781072</td>\n",
       "    </tr>\n",
       "    <tr>\n",
       "      <th>1</th>\n",
       "      <td>32008</td>\n",
       "      <td>0.322314</td>\n",
       "      <td>0.268595</td>\n",
       "      <td>0.157025</td>\n",
       "      <td>0.099174</td>\n",
       "      <td>0.128099</td>\n",
       "      <td>0.024793</td>\n",
       "      <td>0.314050</td>\n",
       "      <td>0.780992</td>\n",
       "      <td>0.235537</td>\n",
       "      <td>0.037190</td>\n",
       "      <td>True</td>\n",
       "      <td>0.418107</td>\n",
       "      <td>12.456219</td>\n",
       "      <td>19.484131</td>\n",
       "      <td>19.484131</td>\n",
       "      <td>19.797981</td>\n",
       "      <td>2.238466</td>\n",
       "      <td>-17.245664</td>\n",
       "      <td>0.313850</td>\n",
       "    </tr>\n",
       "    <tr>\n",
       "      <th>2</th>\n",
       "      <td>32009</td>\n",
       "      <td>0.213836</td>\n",
       "      <td>0.220126</td>\n",
       "      <td>0.144654</td>\n",
       "      <td>0.144654</td>\n",
       "      <td>0.238994</td>\n",
       "      <td>0.037736</td>\n",
       "      <td>0.283019</td>\n",
       "      <td>0.830189</td>\n",
       "      <td>0.289308</td>\n",
       "      <td>0.031447</td>\n",
       "      <td>False</td>\n",
       "      <td>0.385439</td>\n",
       "      <td>14.755063</td>\n",
       "      <td>14.188574</td>\n",
       "      <td>15.110352</td>\n",
       "      <td>11.741358</td>\n",
       "      <td>11.741358</td>\n",
       "      <td>-3.368994</td>\n",
       "      <td>-2.447216</td>\n",
       "    </tr>\n",
       "    <tr>\n",
       "      <th>3</th>\n",
       "      <td>32011</td>\n",
       "      <td>0.232310</td>\n",
       "      <td>0.240320</td>\n",
       "      <td>0.157543</td>\n",
       "      <td>0.116155</td>\n",
       "      <td>0.212283</td>\n",
       "      <td>0.041389</td>\n",
       "      <td>0.257677</td>\n",
       "      <td>0.839786</td>\n",
       "      <td>0.295060</td>\n",
       "      <td>0.038718</td>\n",
       "      <td>True</td>\n",
       "      <td>0.383025</td>\n",
       "      <td>21.758099</td>\n",
       "      <td>15.149479</td>\n",
       "      <td>15.149479</td>\n",
       "      <td>13.147176</td>\n",
       "      <td>35.628516</td>\n",
       "      <td>20.479036</td>\n",
       "      <td>-2.002303</td>\n",
       "    </tr>\n",
       "    <tr>\n",
       "      <th>4</th>\n",
       "      <td>32024</td>\n",
       "      <td>0.295378</td>\n",
       "      <td>0.266065</td>\n",
       "      <td>0.158963</td>\n",
       "      <td>0.099211</td>\n",
       "      <td>0.146561</td>\n",
       "      <td>0.033822</td>\n",
       "      <td>0.299887</td>\n",
       "      <td>0.793687</td>\n",
       "      <td>0.262683</td>\n",
       "      <td>0.040586</td>\n",
       "      <td>True</td>\n",
       "      <td>0.407322</td>\n",
       "      <td>14.125399</td>\n",
       "      <td>18.123503</td>\n",
       "      <td>18.123503</td>\n",
       "      <td>17.729854</td>\n",
       "      <td>8.880704</td>\n",
       "      <td>-9.242799</td>\n",
       "      <td>-0.393649</td>\n",
       "    </tr>\n",
       "  </tbody>\n",
       "</table>\n",
       "</div>"
      ],
      "text/plain": [
       "     zip         1         2         3         4         5         6  \\\n",
       "0  32003  0.203488  0.162064  0.132994  0.112645  0.267442  0.121366   \n",
       "1  32008  0.322314  0.268595  0.157025  0.099174  0.128099  0.024793   \n",
       "2  32009  0.213836  0.220126  0.144654  0.144654  0.238994  0.037736   \n",
       "3  32011  0.232310  0.240320  0.157543  0.116155  0.212283  0.041389   \n",
       "4  32024  0.295378  0.266065  0.158963  0.099211  0.146561  0.033822   \n",
       "\n",
       "   elderlyReturns  returnsTotalwSalariesWages  returnsDependentCareCredit  \\\n",
       "0        0.340843                    0.768895                    0.273256   \n",
       "1        0.314050                    0.780992                    0.235537   \n",
       "2        0.283019                    0.830189                    0.289308   \n",
       "3        0.257677                    0.839786                    0.295060   \n",
       "4        0.299887                    0.793687                    0.262683   \n",
       "\n",
       "   returnsEducationCredit  risk_group  propensity_score  price_shift  \\\n",
       "0                0.047965        True          0.450243     8.050216   \n",
       "1                0.037190        True          0.418107    12.456219   \n",
       "2                0.031447       False          0.385439    14.755063   \n",
       "3                0.038718        True          0.383025    21.758099   \n",
       "4                0.040586        True          0.407322    14.125399   \n",
       "\n",
       "         y_0  y_0_corrected        y_1  y_1_corrected  treatment_effect  \\\n",
       "0  12.372752      12.372752   9.591680       6.168053         -6.204699   \n",
       "1  19.484131      19.484131  19.797981       2.238466        -17.245664   \n",
       "2  14.188574      15.110352  11.741358      11.741358         -3.368994   \n",
       "3  15.149479      15.149479  13.147176      35.628516         20.479036   \n",
       "4  18.123503      18.123503  17.729854       8.880704         -9.242799   \n",
       "\n",
       "   treatment_effect_no_corr  \n",
       "0                 -2.781072  \n",
       "1                  0.313850  \n",
       "2                 -2.447216  \n",
       "3                 -2.002303  \n",
       "4                 -0.393649  "
      ]
     },
     "execution_count": 6,
     "metadata": {},
     "output_type": "execute_result"
    }
   ],
   "source": [
    "fl_treatment_effect.head()"
   ]
  },
  {
   "cell_type": "code",
   "execution_count": 7,
   "id": "cbb14259",
   "metadata": {},
   "outputs": [],
   "source": [
    "#Merge by zip"
   ]
  },
  {
   "cell_type": "code",
   "execution_count": 8,
   "id": "60df4ca3",
   "metadata": {},
   "outputs": [],
   "source": [
    "socioeconomic_df['zip'] = socioeconomic_df['zip'].astype(str).str.zfill(5)\n",
    "fl_treatment_effect['zip'] = fl_treatment_effect['zip'].astype(str).str.zfill(5)"
   ]
  },
  {
   "cell_type": "code",
   "execution_count": 9,
   "id": "e90e0615",
   "metadata": {},
   "outputs": [],
   "source": [
    "fl_socioeconomic_treatment_effect = pd.merge(socioeconomic_df, fl_treatment_effect, on=\"zip\")"
   ]
  },
  {
   "cell_type": "code",
   "execution_count": 10,
   "id": "cfe053c1",
   "metadata": {},
   "outputs": [],
   "source": [
    "#OLS regression treatment effect ~ socioeconomic variables"
   ]
  },
  {
   "cell_type": "code",
   "execution_count": 11,
   "id": "c39f8dcd",
   "metadata": {},
   "outputs": [
    {
     "name": "stdout",
     "output_type": "stream",
     "text": [
      "                               OLS Regression Results                               \n",
      "====================================================================================\n",
      "Dep. Variable:     treatment_effect_no_corr   R-squared:                       0.765\n",
      "Model:                                  OLS   Adj. R-squared:                  0.764\n",
      "Method:                       Least Squares   F-statistic:                     632.5\n",
      "Date:                      Thu, 08 May 2025   Prob (F-statistic):          1.81e-242\n",
      "Time:                              20:40:45   Log-Likelihood:                -1053.6\n",
      "No. Observations:                       781   AIC:                             2117.\n",
      "Df Residuals:                           776   BIC:                             2141.\n",
      "Df Model:                                 4                                         \n",
      "Covariance Type:                  nonrobust                                         \n",
      "====================================================================================\n",
      "                       coef    std err          t      P>|t|      [0.025      0.975]\n",
      "------------------------------------------------------------------------------------\n",
      "const               -1.3514      0.218     -6.196      0.000      -1.780      -0.923\n",
      "pct_poverty         11.4354      0.653     17.524      0.000      10.154      12.716\n",
      "pct_black            2.5204      0.270      9.321      0.000       1.990       3.051\n",
      "pct_college_plus    -5.2316      0.277    -18.885      0.000      -5.775      -4.688\n",
      "pct_mortgage         0.8150      0.284      2.872      0.004       0.258       1.372\n",
      "==============================================================================\n",
      "Omnibus:                       22.339   Durbin-Watson:                   1.618\n",
      "Prob(Omnibus):                  0.000   Jarque-Bera (JB):               42.376\n",
      "Skew:                           0.160   Prob(JB):                     6.28e-10\n",
      "Kurtosis:                       4.095   Cond. No.                         25.4\n",
      "==============================================================================\n",
      "\n",
      "Notes:\n",
      "[1] Standard Errors assume that the covariance matrix of the errors is correctly specified.\n"
     ]
    }
   ],
   "source": [
    "import statsmodels.api as sm\n",
    "\n",
    "X = fl_socioeconomic_treatment_effect[['pct_poverty', 'pct_black', 'pct_college_plus', 'pct_mortgage']]\n",
    "X = sm.add_constant(X)\n",
    "y = fl_socioeconomic_treatment_effect['treatment_effect_no_corr']\n",
    "\n",
    "model = sm.OLS(y, X).fit()\n",
    "print(model.summary())"
   ]
  },
  {
   "cell_type": "code",
   "execution_count": 12,
   "id": "433832df",
   "metadata": {},
   "outputs": [],
   "source": [
    "# Mean treatment effect"
   ]
  },
  {
   "cell_type": "code",
   "execution_count": 13,
   "id": "5eeabfd2",
   "metadata": {},
   "outputs": [
    {
     "data": {
      "text/plain": [
       "-0.5514233676852156"
      ]
     },
     "execution_count": 13,
     "metadata": {},
     "output_type": "execute_result"
    }
   ],
   "source": [
    "fl_socioeconomic_treatment_effect['treatment_effect_no_corr'].mean()"
   ]
  },
  {
   "cell_type": "code",
   "execution_count": 14,
   "id": "b8ec1702",
   "metadata": {},
   "outputs": [],
   "source": [
    "# Mean treatment effect: Lower 25% & Upper 25%"
   ]
  },
  {
   "cell_type": "code",
   "execution_count": 15,
   "id": "5cd661de",
   "metadata": {},
   "outputs": [],
   "source": [
    "low_poverty = fl_socioeconomic_treatment_effect[fl_socioeconomic_treatment_effect['pct_poverty'] <= fl_socioeconomic_treatment_effect['pct_poverty'].quantile(0.25)]"
   ]
  },
  {
   "cell_type": "code",
   "execution_count": 16,
   "id": "14bb2f4b",
   "metadata": {},
   "outputs": [
    {
     "data": {
      "text/plain": [
       "-2.370608531544736"
      ]
     },
     "execution_count": 16,
     "metadata": {},
     "output_type": "execute_result"
    }
   ],
   "source": [
    "low_poverty['treatment_effect_no_corr'].mean()"
   ]
  },
  {
   "cell_type": "code",
   "execution_count": 17,
   "id": "37b457c9",
   "metadata": {},
   "outputs": [],
   "source": [
    "high_poverty = fl_socioeconomic_treatment_effect[fl_socioeconomic_treatment_effect['pct_poverty'] >= fl_socioeconomic_treatment_effect['pct_poverty'].quantile(0.75)]"
   ]
  },
  {
   "cell_type": "code",
   "execution_count": 18,
   "id": "fcf2450e",
   "metadata": {},
   "outputs": [
    {
     "data": {
      "text/plain": [
       "1.5595055765862325"
      ]
     },
     "execution_count": 18,
     "metadata": {},
     "output_type": "execute_result"
    }
   ],
   "source": [
    "high_poverty['treatment_effect_no_corr'].mean()"
   ]
  },
  {
   "cell_type": "code",
   "execution_count": 19,
   "id": "6422c5c6",
   "metadata": {},
   "outputs": [],
   "source": [
    "low_black = fl_socioeconomic_treatment_effect[fl_socioeconomic_treatment_effect['pct_black'] <= fl_socioeconomic_treatment_effect['pct_black'].quantile(0.25)]"
   ]
  },
  {
   "cell_type": "code",
   "execution_count": 20,
   "id": "0389673f",
   "metadata": {},
   "outputs": [
    {
     "data": {
      "text/plain": [
       "-1.4976337368935495"
      ]
     },
     "execution_count": 20,
     "metadata": {},
     "output_type": "execute_result"
    }
   ],
   "source": [
    "low_black['treatment_effect_no_corr'].mean()"
   ]
  },
  {
   "cell_type": "code",
   "execution_count": 21,
   "id": "b35b50af",
   "metadata": {},
   "outputs": [],
   "source": [
    "high_black = fl_socioeconomic_treatment_effect[fl_socioeconomic_treatment_effect['pct_black'] >= fl_socioeconomic_treatment_effect['pct_black'].quantile(0.75)]"
   ]
  },
  {
   "cell_type": "code",
   "execution_count": 22,
   "id": "c1b88061",
   "metadata": {},
   "outputs": [
    {
     "data": {
      "text/plain": [
       "1.012464626467932"
      ]
     },
     "execution_count": 22,
     "metadata": {},
     "output_type": "execute_result"
    }
   ],
   "source": [
    "high_black['treatment_effect_no_corr'].mean()"
   ]
  },
  {
   "cell_type": "code",
   "execution_count": 23,
   "id": "3fda514a",
   "metadata": {},
   "outputs": [],
   "source": [
    "low_college = fl_socioeconomic_treatment_effect[fl_socioeconomic_treatment_effect['pct_college_plus'] <= fl_socioeconomic_treatment_effect['pct_college_plus'].quantile(0.25)]"
   ]
  },
  {
   "cell_type": "code",
   "execution_count": 24,
   "id": "edfad9d9",
   "metadata": {},
   "outputs": [
    {
     "data": {
      "text/plain": [
       "1.1179150149421722"
      ]
     },
     "execution_count": 24,
     "metadata": {},
     "output_type": "execute_result"
    }
   ],
   "source": [
    "low_college['treatment_effect_no_corr'].mean()"
   ]
  },
  {
   "cell_type": "code",
   "execution_count": 25,
   "id": "d4e3c0ff",
   "metadata": {},
   "outputs": [],
   "source": [
    "high_college = fl_socioeconomic_treatment_effect[fl_socioeconomic_treatment_effect['pct_college_plus'] >= fl_socioeconomic_treatment_effect['pct_college_plus'].quantile(0.75)]"
   ]
  },
  {
   "cell_type": "code",
   "execution_count": 26,
   "id": "00335cf8",
   "metadata": {},
   "outputs": [
    {
     "data": {
      "text/plain": [
       "-2.5314638733610786"
      ]
     },
     "execution_count": 26,
     "metadata": {},
     "output_type": "execute_result"
    }
   ],
   "source": [
    "high_college['treatment_effect_no_corr'].mean()"
   ]
  },
  {
   "cell_type": "code",
   "execution_count": 27,
   "id": "1a77d3b3",
   "metadata": {},
   "outputs": [],
   "source": [
    "low_mortgage = fl_socioeconomic_treatment_effect[fl_socioeconomic_treatment_effect['pct_mortgage'] <= fl_socioeconomic_treatment_effect['pct_black'].quantile(0.25)]"
   ]
  },
  {
   "cell_type": "code",
   "execution_count": 28,
   "id": "ef22b681",
   "metadata": {},
   "outputs": [
    {
     "data": {
      "text/plain": [
       "-4.764395659193896"
      ]
     },
     "execution_count": 28,
     "metadata": {},
     "output_type": "execute_result"
    }
   ],
   "source": [
    "low_mortgage['treatment_effect_no_corr'].mean()"
   ]
  },
  {
   "cell_type": "code",
   "execution_count": 29,
   "id": "66631e05",
   "metadata": {},
   "outputs": [],
   "source": [
    "high_mortgage = fl_socioeconomic_treatment_effect[fl_socioeconomic_treatment_effect['pct_mortgage'] >= fl_socioeconomic_treatment_effect['pct_black'].quantile(0.75)]"
   ]
  },
  {
   "cell_type": "code",
   "execution_count": 30,
   "id": "0ef3d251",
   "metadata": {},
   "outputs": [
    {
     "data": {
      "text/plain": [
       "-0.550066400623188"
      ]
     },
     "execution_count": 30,
     "metadata": {},
     "output_type": "execute_result"
    }
   ],
   "source": [
    "high_mortgage['treatment_effect_no_corr'].mean()"
   ]
  },
  {
   "cell_type": "code",
   "execution_count": 31,
   "id": "00d3d071",
   "metadata": {},
   "outputs": [],
   "source": [
    "#Get Florida socioeconomic status"
   ]
  },
  {
   "cell_type": "code",
   "execution_count": 32,
   "id": "28169b87",
   "metadata": {},
   "outputs": [],
   "source": [
    "socioeconomic_df = pd.read_csv(\"acs_socioeconomic_2019.csv\")"
   ]
  },
  {
   "cell_type": "code",
   "execution_count": 33,
   "id": "7e1715dd",
   "metadata": {},
   "outputs": [],
   "source": [
    "zipdata = pd.read_excel(\"uszips.xlsx\")"
   ]
  },
  {
   "cell_type": "code",
   "execution_count": 34,
   "id": "645241bc",
   "metadata": {},
   "outputs": [],
   "source": [
    "socioeconomic_df['zip'] = socioeconomic_df['zip'].astype(str).str.zfill(5)\n",
    "zipdata['zip'] = zipdata['zip'].astype(str).str.zfill(5)"
   ]
  },
  {
   "cell_type": "code",
   "execution_count": 35,
   "id": "dc7a6083",
   "metadata": {},
   "outputs": [],
   "source": [
    "florida_zipdata = zipdata[zipdata['state_name'] == 'Florida']"
   ]
  },
  {
   "cell_type": "code",
   "execution_count": 36,
   "id": "de4bbdda",
   "metadata": {},
   "outputs": [],
   "source": [
    "fl_socioeconomic = pd.merge(socioeconomic_df, florida_zipdata, on=\"zip\")"
   ]
  },
  {
   "cell_type": "code",
   "execution_count": 37,
   "id": "72067217",
   "metadata": {},
   "outputs": [],
   "source": [
    "fl_socioeconomic = fl_socioeconomic.dropna(subset=['pct_poverty', 'pct_black', 'pct_college_plus', 'pct_mortgage'])"
   ]
  },
  {
   "cell_type": "code",
   "execution_count": 38,
   "id": "decc983c",
   "metadata": {},
   "outputs": [],
   "source": [
    "#Cluster zip using socioeconomic variables"
   ]
  },
  {
   "cell_type": "code",
   "execution_count": 39,
   "id": "cb14bdeb",
   "metadata": {},
   "outputs": [],
   "source": [
    "from sklearn.preprocessing import StandardScaler"
   ]
  },
  {
   "cell_type": "code",
   "execution_count": 40,
   "id": "f8262b1d",
   "metadata": {},
   "outputs": [],
   "source": [
    "features = ['pct_poverty', 'pct_black', 'pct_college_plus', 'pct_mortgage']"
   ]
  },
  {
   "cell_type": "code",
   "execution_count": 41,
   "id": "597568be",
   "metadata": {},
   "outputs": [],
   "source": [
    "scaler = StandardScaler()\n",
    "fl_socioeconomic_scaled = scaler.fit_transform(fl_socioeconomic[features])"
   ]
  },
  {
   "cell_type": "code",
   "execution_count": 42,
   "id": "a57cb01d",
   "metadata": {},
   "outputs": [],
   "source": [
    "from sklearn.cluster import KMeans\n",
    "from sklearn.metrics import silhouette_score"
   ]
  },
  {
   "cell_type": "code",
   "execution_count": 43,
   "id": "a9efff17",
   "metadata": {},
   "outputs": [
    {
     "name": "stderr",
     "output_type": "stream",
     "text": [
      "C:\\Users\\user\\anaconda3\\Lib\\site-packages\\sklearn\\cluster\\_kmeans.py:1412: FutureWarning: The default value of `n_init` will change from 10 to 'auto' in 1.4. Set the value of `n_init` explicitly to suppress the warning\n",
      "  super()._check_params_vs_input(X, default_n_init=10)\n"
     ]
    },
    {
     "name": "stdout",
     "output_type": "stream",
     "text": [
      "For n_clusters =2, the average silhouette_score is :0.28188494182348955\n",
      "For n_clusters =3, the average silhouette_score is :0.288891462475538\n",
      "For n_clusters =4, the average silhouette_score is :0.2637167020805746\n"
     ]
    },
    {
     "name": "stderr",
     "output_type": "stream",
     "text": [
      "C:\\Users\\user\\anaconda3\\Lib\\site-packages\\sklearn\\cluster\\_kmeans.py:1412: FutureWarning: The default value of `n_init` will change from 10 to 'auto' in 1.4. Set the value of `n_init` explicitly to suppress the warning\n",
      "  super()._check_params_vs_input(X, default_n_init=10)\n",
      "C:\\Users\\user\\anaconda3\\Lib\\site-packages\\sklearn\\cluster\\_kmeans.py:1412: FutureWarning: The default value of `n_init` will change from 10 to 'auto' in 1.4. Set the value of `n_init` explicitly to suppress the warning\n",
      "  super()._check_params_vs_input(X, default_n_init=10)\n",
      "C:\\Users\\user\\anaconda3\\Lib\\site-packages\\sklearn\\cluster\\_kmeans.py:1412: FutureWarning: The default value of `n_init` will change from 10 to 'auto' in 1.4. Set the value of `n_init` explicitly to suppress the warning\n",
      "  super()._check_params_vs_input(X, default_n_init=10)\n"
     ]
    },
    {
     "name": "stdout",
     "output_type": "stream",
     "text": [
      "For n_clusters =5, the average silhouette_score is :0.25211646625789524\n",
      "For n_clusters =6, the average silhouette_score is :0.24976272934352262\n",
      "For n_clusters =7, the average silhouette_score is :0.23853598123920805\n"
     ]
    },
    {
     "name": "stderr",
     "output_type": "stream",
     "text": [
      "C:\\Users\\user\\anaconda3\\Lib\\site-packages\\sklearn\\cluster\\_kmeans.py:1412: FutureWarning: The default value of `n_init` will change from 10 to 'auto' in 1.4. Set the value of `n_init` explicitly to suppress the warning\n",
      "  super()._check_params_vs_input(X, default_n_init=10)\n",
      "C:\\Users\\user\\anaconda3\\Lib\\site-packages\\sklearn\\cluster\\_kmeans.py:1412: FutureWarning: The default value of `n_init` will change from 10 to 'auto' in 1.4. Set the value of `n_init` explicitly to suppress the warning\n",
      "  super()._check_params_vs_input(X, default_n_init=10)\n",
      "C:\\Users\\user\\anaconda3\\Lib\\site-packages\\sklearn\\cluster\\_kmeans.py:1412: FutureWarning: The default value of `n_init` will change from 10 to 'auto' in 1.4. Set the value of `n_init` explicitly to suppress the warning\n",
      "  super()._check_params_vs_input(X, default_n_init=10)\n"
     ]
    },
    {
     "name": "stdout",
     "output_type": "stream",
     "text": [
      "For n_clusters =8, the average silhouette_score is :0.235398120141123\n",
      "For n_clusters =9, the average silhouette_score is :0.22579963200027856\n",
      "For n_clusters =10, the average silhouette_score is :0.23711511446479283\n"
     ]
    },
    {
     "name": "stderr",
     "output_type": "stream",
     "text": [
      "C:\\Users\\user\\anaconda3\\Lib\\site-packages\\sklearn\\cluster\\_kmeans.py:1412: FutureWarning: The default value of `n_init` will change from 10 to 'auto' in 1.4. Set the value of `n_init` explicitly to suppress the warning\n",
      "  super()._check_params_vs_input(X, default_n_init=10)\n",
      "C:\\Users\\user\\anaconda3\\Lib\\site-packages\\sklearn\\cluster\\_kmeans.py:1412: FutureWarning: The default value of `n_init` will change from 10 to 'auto' in 1.4. Set the value of `n_init` explicitly to suppress the warning\n",
      "  super()._check_params_vs_input(X, default_n_init=10)\n"
     ]
    }
   ],
   "source": [
    "#Clustering\n",
    "range_n_clusters = [2, 3, 4, 5, 6, 7, 8, 9, 10]\n",
    "for k in range_n_clusters: #try different numbers of clusters\n",
    "    kmeans = KMeans(n_clusters=k, random_state=324)\n",
    "    cluster_labels = kmeans.fit_predict(fl_socioeconomic_scaled)\n",
    "    #report average Silhouette score\n",
    "    silhouette_avg = silhouette_score(fl_socioeconomic_scaled, cluster_labels)\n",
    "    print(\"For n_clusters ={},\".format(k)+\" the average silhouette_score is :{}\".format(silhouette_avg))"
   ]
  },
  {
   "cell_type": "code",
   "execution_count": 44,
   "id": "5fd78f92",
   "metadata": {},
   "outputs": [
    {
     "name": "stderr",
     "output_type": "stream",
     "text": [
      "C:\\Users\\user\\anaconda3\\Lib\\site-packages\\sklearn\\cluster\\_kmeans.py:1412: FutureWarning: The default value of `n_init` will change from 10 to 'auto' in 1.4. Set the value of `n_init` explicitly to suppress the warning\n",
      "  super()._check_params_vs_input(X, default_n_init=10)\n"
     ]
    }
   ],
   "source": [
    "kmeans = KMeans(n_clusters=3, random_state=324)\n",
    "cluster_labels = kmeans.fit_predict(fl_socioeconomic_scaled)"
   ]
  },
  {
   "cell_type": "code",
   "execution_count": 45,
   "id": "fd53e048",
   "metadata": {},
   "outputs": [],
   "source": [
    "fl_socioeconomic['cluster'] = cluster_labels"
   ]
  },
  {
   "cell_type": "code",
   "execution_count": 46,
   "id": "aaa53261",
   "metadata": {},
   "outputs": [
    {
     "name": "stdout",
     "output_type": "stream",
     "text": [
      "         pct_poverty  pct_black  pct_college_plus  pct_mortgage\n",
      "cluster                                                        \n",
      "0           0.165294   0.089504          0.174624      0.430360\n",
      "1           0.263810   0.463085          0.181203      0.550507\n",
      "2           0.093905   0.085134          0.384743      0.607713\n"
     ]
    }
   ],
   "source": [
    "cluster_profile = fl_socioeconomic.groupby('cluster')[features].mean()\n",
    "print(cluster_profile)"
   ]
  },
  {
   "cell_type": "code",
   "execution_count": 47,
   "id": "efefeb61",
   "metadata": {},
   "outputs": [
    {
     "data": {
      "text/html": [
       "<div>\n",
       "<style scoped>\n",
       "    .dataframe tbody tr th:only-of-type {\n",
       "        vertical-align: middle;\n",
       "    }\n",
       "\n",
       "    .dataframe tbody tr th {\n",
       "        vertical-align: top;\n",
       "    }\n",
       "\n",
       "    .dataframe thead th {\n",
       "        text-align: right;\n",
       "    }\n",
       "</style>\n",
       "<table border=\"1\" class=\"dataframe\">\n",
       "  <thead>\n",
       "    <tr style=\"text-align: right;\">\n",
       "      <th></th>\n",
       "      <th>zip</th>\n",
       "      <th>pct_poverty</th>\n",
       "      <th>pct_black</th>\n",
       "      <th>pct_college_plus</th>\n",
       "      <th>pct_mortgage</th>\n",
       "      <th>lat</th>\n",
       "      <th>lng</th>\n",
       "      <th>city</th>\n",
       "      <th>state_id</th>\n",
       "      <th>state_name</th>\n",
       "      <th>...</th>\n",
       "      <th>density</th>\n",
       "      <th>county_fips</th>\n",
       "      <th>county_name</th>\n",
       "      <th>county_weights</th>\n",
       "      <th>county_names_all</th>\n",
       "      <th>county_fips_all</th>\n",
       "      <th>imprecise</th>\n",
       "      <th>military</th>\n",
       "      <th>timezone</th>\n",
       "      <th>cluster</th>\n",
       "    </tr>\n",
       "  </thead>\n",
       "  <tbody>\n",
       "    <tr>\n",
       "      <th>0</th>\n",
       "      <td>32409</td>\n",
       "      <td>0.116979</td>\n",
       "      <td>0.005126</td>\n",
       "      <td>0.130453</td>\n",
       "      <td>0.584284</td>\n",
       "      <td>30.33447</td>\n",
       "      <td>-85.70516</td>\n",
       "      <td>Panama City</td>\n",
       "      <td>FL</td>\n",
       "      <td>Florida</td>\n",
       "      <td>...</td>\n",
       "      <td>33.4</td>\n",
       "      <td>12005</td>\n",
       "      <td>Bay</td>\n",
       "      <td>{\"12005\": 100}</td>\n",
       "      <td>Bay</td>\n",
       "      <td>12005</td>\n",
       "      <td>False</td>\n",
       "      <td>False</td>\n",
       "      <td>America/Chicago</td>\n",
       "      <td>0</td>\n",
       "    </tr>\n",
       "    <tr>\n",
       "      <th>1</th>\n",
       "      <td>32459</td>\n",
       "      <td>0.060926</td>\n",
       "      <td>0.007436</td>\n",
       "      <td>0.433720</td>\n",
       "      <td>0.705810</td>\n",
       "      <td>30.36527</td>\n",
       "      <td>-86.18429</td>\n",
       "      <td>Santa Rosa Beach</td>\n",
       "      <td>FL</td>\n",
       "      <td>Florida</td>\n",
       "      <td>...</td>\n",
       "      <td>156.6</td>\n",
       "      <td>12131</td>\n",
       "      <td>Walton</td>\n",
       "      <td>{\"12131\": 100}</td>\n",
       "      <td>Walton</td>\n",
       "      <td>12131</td>\n",
       "      <td>False</td>\n",
       "      <td>False</td>\n",
       "      <td>America/Chicago</td>\n",
       "      <td>2</td>\n",
       "    </tr>\n",
       "    <tr>\n",
       "      <th>2</th>\n",
       "      <td>32460</td>\n",
       "      <td>0.156743</td>\n",
       "      <td>0.288401</td>\n",
       "      <td>0.074032</td>\n",
       "      <td>0.283364</td>\n",
       "      <td>30.77565</td>\n",
       "      <td>-84.94949</td>\n",
       "      <td>Sneads</td>\n",
       "      <td>FL</td>\n",
       "      <td>Florida</td>\n",
       "      <td>...</td>\n",
       "      <td>28.1</td>\n",
       "      <td>12063</td>\n",
       "      <td>Jackson</td>\n",
       "      <td>{\"12063\": 100}</td>\n",
       "      <td>Jackson</td>\n",
       "      <td>12063</td>\n",
       "      <td>False</td>\n",
       "      <td>False</td>\n",
       "      <td>America/Chicago</td>\n",
       "      <td>0</td>\n",
       "    </tr>\n",
       "    <tr>\n",
       "      <th>3</th>\n",
       "      <td>32463</td>\n",
       "      <td>0.287037</td>\n",
       "      <td>0.106481</td>\n",
       "      <td>0.000000</td>\n",
       "      <td>0.264706</td>\n",
       "      <td>30.62790</td>\n",
       "      <td>-85.58728</td>\n",
       "      <td>Wausau</td>\n",
       "      <td>FL</td>\n",
       "      <td>Florida</td>\n",
       "      <td>...</td>\n",
       "      <td>168.3</td>\n",
       "      <td>12133</td>\n",
       "      <td>Washington</td>\n",
       "      <td>{\"12133\": 100}</td>\n",
       "      <td>Washington</td>\n",
       "      <td>12133</td>\n",
       "      <td>False</td>\n",
       "      <td>False</td>\n",
       "      <td>America/Chicago</td>\n",
       "      <td>0</td>\n",
       "    </tr>\n",
       "    <tr>\n",
       "      <th>4</th>\n",
       "      <td>32531</td>\n",
       "      <td>0.179226</td>\n",
       "      <td>0.018639</td>\n",
       "      <td>0.154731</td>\n",
       "      <td>0.473797</td>\n",
       "      <td>30.88513</td>\n",
       "      <td>-86.69600</td>\n",
       "      <td>Baker</td>\n",
       "      <td>FL</td>\n",
       "      <td>Florida</td>\n",
       "      <td>...</td>\n",
       "      <td>12.6</td>\n",
       "      <td>12091</td>\n",
       "      <td>Okaloosa</td>\n",
       "      <td>{\"12091\": 87.95, \"12113\": 12.05}</td>\n",
       "      <td>Okaloosa|Santa Rosa</td>\n",
       "      <td>12091|12113</td>\n",
       "      <td>False</td>\n",
       "      <td>False</td>\n",
       "      <td>America/Chicago</td>\n",
       "      <td>0</td>\n",
       "    </tr>\n",
       "    <tr>\n",
       "      <th>...</th>\n",
       "      <td>...</td>\n",
       "      <td>...</td>\n",
       "      <td>...</td>\n",
       "      <td>...</td>\n",
       "      <td>...</td>\n",
       "      <td>...</td>\n",
       "      <td>...</td>\n",
       "      <td>...</td>\n",
       "      <td>...</td>\n",
       "      <td>...</td>\n",
       "      <td>...</td>\n",
       "      <td>...</td>\n",
       "      <td>...</td>\n",
       "      <td>...</td>\n",
       "      <td>...</td>\n",
       "      <td>...</td>\n",
       "      <td>...</td>\n",
       "      <td>...</td>\n",
       "      <td>...</td>\n",
       "      <td>...</td>\n",
       "      <td>...</td>\n",
       "    </tr>\n",
       "    <tr>\n",
       "      <th>974</th>\n",
       "      <td>33028</td>\n",
       "      <td>0.043452</td>\n",
       "      <td>0.155542</td>\n",
       "      <td>0.487996</td>\n",
       "      <td>0.790983</td>\n",
       "      <td>26.01852</td>\n",
       "      <td>-80.34488</td>\n",
       "      <td>Pembroke Pines</td>\n",
       "      <td>FL</td>\n",
       "      <td>Florida</td>\n",
       "      <td>...</td>\n",
       "      <td>1880.2</td>\n",
       "      <td>12011</td>\n",
       "      <td>Broward</td>\n",
       "      <td>{\"12011\": 100}</td>\n",
       "      <td>Broward</td>\n",
       "      <td>12011</td>\n",
       "      <td>False</td>\n",
       "      <td>False</td>\n",
       "      <td>America/New_York</td>\n",
       "      <td>2</td>\n",
       "    </tr>\n",
       "    <tr>\n",
       "      <th>975</th>\n",
       "      <td>33037</td>\n",
       "      <td>0.159259</td>\n",
       "      <td>0.012851</td>\n",
       "      <td>0.337892</td>\n",
       "      <td>0.414542</td>\n",
       "      <td>25.19779</td>\n",
       "      <td>-80.38634</td>\n",
       "      <td>Key Largo</td>\n",
       "      <td>FL</td>\n",
       "      <td>Florida</td>\n",
       "      <td>...</td>\n",
       "      <td>160.4</td>\n",
       "      <td>12087</td>\n",
       "      <td>Monroe</td>\n",
       "      <td>{\"12087\": 100}</td>\n",
       "      <td>Monroe</td>\n",
       "      <td>12087</td>\n",
       "      <td>False</td>\n",
       "      <td>False</td>\n",
       "      <td>America/New_York</td>\n",
       "      <td>0</td>\n",
       "    </tr>\n",
       "    <tr>\n",
       "      <th>976</th>\n",
       "      <td>33054</td>\n",
       "      <td>0.348228</td>\n",
       "      <td>0.663742</td>\n",
       "      <td>0.083600</td>\n",
       "      <td>0.562867</td>\n",
       "      <td>25.90775</td>\n",
       "      <td>-80.25753</td>\n",
       "      <td>Opa Locka</td>\n",
       "      <td>FL</td>\n",
       "      <td>Florida</td>\n",
       "      <td>...</td>\n",
       "      <td>1432.7</td>\n",
       "      <td>12086</td>\n",
       "      <td>Miami-Dade</td>\n",
       "      <td>{\"12086\": 100}</td>\n",
       "      <td>Miami-Dade</td>\n",
       "      <td>12086</td>\n",
       "      <td>False</td>\n",
       "      <td>False</td>\n",
       "      <td>America/New_York</td>\n",
       "      <td>1</td>\n",
       "    </tr>\n",
       "    <tr>\n",
       "      <th>977</th>\n",
       "      <td>33060</td>\n",
       "      <td>0.252748</td>\n",
       "      <td>0.419068</td>\n",
       "      <td>0.196198</td>\n",
       "      <td>0.543996</td>\n",
       "      <td>26.23513</td>\n",
       "      <td>-80.12084</td>\n",
       "      <td>Pompano Beach</td>\n",
       "      <td>FL</td>\n",
       "      <td>Florida</td>\n",
       "      <td>...</td>\n",
       "      <td>1992.8</td>\n",
       "      <td>12011</td>\n",
       "      <td>Broward</td>\n",
       "      <td>{\"12011\": 100}</td>\n",
       "      <td>Broward</td>\n",
       "      <td>12011</td>\n",
       "      <td>False</td>\n",
       "      <td>False</td>\n",
       "      <td>America/New_York</td>\n",
       "      <td>1</td>\n",
       "    </tr>\n",
       "    <tr>\n",
       "      <th>978</th>\n",
       "      <td>33062</td>\n",
       "      <td>0.105024</td>\n",
       "      <td>0.024194</td>\n",
       "      <td>0.429812</td>\n",
       "      <td>0.397911</td>\n",
       "      <td>26.24101</td>\n",
       "      <td>-80.09399</td>\n",
       "      <td>Pompano Beach</td>\n",
       "      <td>FL</td>\n",
       "      <td>Florida</td>\n",
       "      <td>...</td>\n",
       "      <td>2526.0</td>\n",
       "      <td>12011</td>\n",
       "      <td>Broward</td>\n",
       "      <td>{\"12011\": 100}</td>\n",
       "      <td>Broward</td>\n",
       "      <td>12011</td>\n",
       "      <td>False</td>\n",
       "      <td>False</td>\n",
       "      <td>America/New_York</td>\n",
       "      <td>2</td>\n",
       "    </tr>\n",
       "  </tbody>\n",
       "</table>\n",
       "<p>956 rows × 23 columns</p>\n",
       "</div>"
      ],
      "text/plain": [
       "       zip  pct_poverty  pct_black  pct_college_plus  pct_mortgage       lat  \\\n",
       "0    32409     0.116979   0.005126          0.130453      0.584284  30.33447   \n",
       "1    32459     0.060926   0.007436          0.433720      0.705810  30.36527   \n",
       "2    32460     0.156743   0.288401          0.074032      0.283364  30.77565   \n",
       "3    32463     0.287037   0.106481          0.000000      0.264706  30.62790   \n",
       "4    32531     0.179226   0.018639          0.154731      0.473797  30.88513   \n",
       "..     ...          ...        ...               ...           ...       ...   \n",
       "974  33028     0.043452   0.155542          0.487996      0.790983  26.01852   \n",
       "975  33037     0.159259   0.012851          0.337892      0.414542  25.19779   \n",
       "976  33054     0.348228   0.663742          0.083600      0.562867  25.90775   \n",
       "977  33060     0.252748   0.419068          0.196198      0.543996  26.23513   \n",
       "978  33062     0.105024   0.024194          0.429812      0.397911  26.24101   \n",
       "\n",
       "          lng              city state_id state_name  ...  density  \\\n",
       "0   -85.70516       Panama City       FL    Florida  ...     33.4   \n",
       "1   -86.18429  Santa Rosa Beach       FL    Florida  ...    156.6   \n",
       "2   -84.94949            Sneads       FL    Florida  ...     28.1   \n",
       "3   -85.58728            Wausau       FL    Florida  ...    168.3   \n",
       "4   -86.69600             Baker       FL    Florida  ...     12.6   \n",
       "..        ...               ...      ...        ...  ...      ...   \n",
       "974 -80.34488    Pembroke Pines       FL    Florida  ...   1880.2   \n",
       "975 -80.38634         Key Largo       FL    Florida  ...    160.4   \n",
       "976 -80.25753         Opa Locka       FL    Florida  ...   1432.7   \n",
       "977 -80.12084     Pompano Beach       FL    Florida  ...   1992.8   \n",
       "978 -80.09399     Pompano Beach       FL    Florida  ...   2526.0   \n",
       "\n",
       "     county_fips  county_name                    county_weights  \\\n",
       "0          12005          Bay                    {\"12005\": 100}   \n",
       "1          12131       Walton                    {\"12131\": 100}   \n",
       "2          12063      Jackson                    {\"12063\": 100}   \n",
       "3          12133   Washington                    {\"12133\": 100}   \n",
       "4          12091     Okaloosa  {\"12091\": 87.95, \"12113\": 12.05}   \n",
       "..           ...          ...                               ...   \n",
       "974        12011      Broward                    {\"12011\": 100}   \n",
       "975        12087       Monroe                    {\"12087\": 100}   \n",
       "976        12086   Miami-Dade                    {\"12086\": 100}   \n",
       "977        12011      Broward                    {\"12011\": 100}   \n",
       "978        12011      Broward                    {\"12011\": 100}   \n",
       "\n",
       "        county_names_all county_fips_all imprecise military          timezone  \\\n",
       "0                    Bay           12005     False    False   America/Chicago   \n",
       "1                 Walton           12131     False    False   America/Chicago   \n",
       "2                Jackson           12063     False    False   America/Chicago   \n",
       "3             Washington           12133     False    False   America/Chicago   \n",
       "4    Okaloosa|Santa Rosa     12091|12113     False    False   America/Chicago   \n",
       "..                   ...             ...       ...      ...               ...   \n",
       "974              Broward           12011     False    False  America/New_York   \n",
       "975               Monroe           12087     False    False  America/New_York   \n",
       "976           Miami-Dade           12086     False    False  America/New_York   \n",
       "977              Broward           12011     False    False  America/New_York   \n",
       "978              Broward           12011     False    False  America/New_York   \n",
       "\n",
       "     cluster  \n",
       "0          0  \n",
       "1          2  \n",
       "2          0  \n",
       "3          0  \n",
       "4          0  \n",
       "..       ...  \n",
       "974        2  \n",
       "975        0  \n",
       "976        1  \n",
       "977        1  \n",
       "978        2  \n",
       "\n",
       "[956 rows x 23 columns]"
      ]
     },
     "execution_count": 47,
     "metadata": {},
     "output_type": "execute_result"
    }
   ],
   "source": [
    "fl_socioeconomic"
   ]
  },
  {
   "cell_type": "code",
   "execution_count": 48,
   "id": "c6c9997e",
   "metadata": {},
   "outputs": [],
   "source": [
    "fl_socioeconomic.to_csv(\"fl_socioeconomic.csv\", index=False)"
   ]
  }
 ],
 "metadata": {
  "kernelspec": {
   "display_name": "Python (Anaconda Base)",
   "language": "python",
   "name": "base"
  },
  "language_info": {
   "codemirror_mode": {
    "name": "ipython",
    "version": 3
   },
   "file_extension": ".py",
   "mimetype": "text/x-python",
   "name": "python",
   "nbconvert_exporter": "python",
   "pygments_lexer": "ipython3",
   "version": "3.11.4"
  }
 },
 "nbformat": 4,
 "nbformat_minor": 5
}
