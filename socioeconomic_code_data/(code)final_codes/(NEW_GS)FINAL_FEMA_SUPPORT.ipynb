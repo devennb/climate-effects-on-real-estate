{
 "cells": [
  {
   "cell_type": "code",
   "execution_count": 1,
   "id": "b8077dab",
   "metadata": {},
   "outputs": [],
   "source": [
    "import pandas as pd"
   ]
  },
  {
   "cell_type": "code",
   "execution_count": 2,
   "id": "93bd2abb",
   "metadata": {},
   "outputs": [],
   "source": [
    "#Read socioeconomic status per zipcode"
   ]
  },
  {
   "cell_type": "code",
   "execution_count": 3,
   "id": "9783bd36",
   "metadata": {},
   "outputs": [],
   "source": [
    "socioeconomic_df = pd.read_csv(\"acs_socioeconomic_2019.csv\")"
   ]
  },
  {
   "cell_type": "code",
   "execution_count": 4,
   "id": "16a635a3",
   "metadata": {},
   "outputs": [],
   "source": [
    "#Read FEMA assistance data"
   ]
  },
  {
   "cell_type": "code",
   "execution_count": 5,
   "id": "8f2c13c5",
   "metadata": {},
   "outputs": [],
   "source": [
    "fema_data = pd.read_csv(\"IndividualsAndHouseholdsProgramValidRegistrations.csv\", low_memory=False)\n",
    "fema_data['zip'] = fema_data['damagedZipCode'].astype(str).str.zfill(5)"
   ]
  },
  {
   "cell_type": "code",
   "execution_count": 6,
   "id": "e179fe00",
   "metadata": {},
   "outputs": [],
   "source": [
    "#Filter FEMA data from 2015 - 2019"
   ]
  },
  {
   "cell_type": "code",
   "execution_count": 7,
   "id": "0444a757",
   "metadata": {},
   "outputs": [],
   "source": [
    "fema_data['declarationDate'] = pd.to_datetime(fema_data['declarationDate'], errors='coerce')\n",
    "fema_filtered = fema_data[(fema_data['declarationDate'] >= '2015-01-01') & (fema_data['declarationDate'] <= '2019-12-31')]"
   ]
  },
  {
   "cell_type": "code",
   "execution_count": 8,
   "id": "cbe2cfd8",
   "metadata": {},
   "outputs": [],
   "source": [
    "#Get assistance per applicant by zip"
   ]
  },
  {
   "cell_type": "code",
   "execution_count": 9,
   "id": "a7d6fc4f",
   "metadata": {},
   "outputs": [],
   "source": [
    "fema_zip = fema_filtered.groupby('zip').agg({'ihpAmount': 'sum','id': 'count'}).reset_index().rename(columns={'id': 'num_applicants'})\n",
    "fema_zip['assistance_per_applicant'] = fema_zip['ihpAmount'] / fema_zip['num_applicants']"
   ]
  },
  {
   "cell_type": "code",
   "execution_count": 10,
   "id": "2502d6d4",
   "metadata": {},
   "outputs": [],
   "source": [
    "#Read zip data & select zipcodes in each states"
   ]
  },
  {
   "cell_type": "code",
   "execution_count": 11,
   "id": "883cb65f",
   "metadata": {},
   "outputs": [],
   "source": [
    "zipdata = pd.read_excel(\"uszips.xlsx\")"
   ]
  },
  {
   "cell_type": "code",
   "execution_count": 12,
   "id": "f75862d7",
   "metadata": {},
   "outputs": [],
   "source": [
    "zipdata['zip'] = zipdata['zip'].astype(str).str.zfill(5)"
   ]
  },
  {
   "cell_type": "code",
   "execution_count": 13,
   "id": "78b700b5",
   "metadata": {},
   "outputs": [],
   "source": [
    "states = ['Florida', 'Texas', 'South Carolina', 'North Carolina', 'Louisiana', 'Georgia', 'Alabama']\n",
    "states_zipdata = zipdata[zipdata['state_name'].isin(states)]"
   ]
  },
  {
   "cell_type": "code",
   "execution_count": 14,
   "id": "071ded27",
   "metadata": {},
   "outputs": [],
   "source": [
    "#Merge zipcode with FEMA data"
   ]
  },
  {
   "cell_type": "code",
   "execution_count": 15,
   "id": "700af8d7",
   "metadata": {},
   "outputs": [],
   "source": [
    "states_fema = pd.merge(states_zipdata, fema_zip, on=\"zip\", how=\"left\")"
   ]
  },
  {
   "cell_type": "code",
   "execution_count": 16,
   "id": "35c86aa6",
   "metadata": {},
   "outputs": [],
   "source": [
    "#Fill 0 in non assistance areas"
   ]
  },
  {
   "cell_type": "code",
   "execution_count": 17,
   "id": "687fb127",
   "metadata": {},
   "outputs": [],
   "source": [
    "states_fema['assistance_per_applicant'] = states_fema['assistance_per_applicant'].fillna(0)"
   ]
  },
  {
   "cell_type": "code",
   "execution_count": 18,
   "id": "4f68165e",
   "metadata": {},
   "outputs": [],
   "source": [
    "#Merge socioeconomic data"
   ]
  },
  {
   "cell_type": "code",
   "execution_count": 19,
   "id": "fa257e0a",
   "metadata": {},
   "outputs": [],
   "source": [
    "states_fema['zip'] = states_fema['zip'].astype(str).str.zfill(5)\n",
    "socioeconomic_df['zip'] = socioeconomic_df['zip'].astype(str).str.zfill(5)"
   ]
  },
  {
   "cell_type": "code",
   "execution_count": 20,
   "id": "e01d66dd",
   "metadata": {},
   "outputs": [],
   "source": [
    "states_fema_socioeconomic = pd.merge(states_fema, socioeconomic_df, on=\"zip\", how=\"inner\")"
   ]
  },
  {
   "cell_type": "code",
   "execution_count": 21,
   "id": "3e0b8fb0",
   "metadata": {},
   "outputs": [],
   "source": [
    "states_fema_socioeconomic = states_fema_socioeconomic.dropna(subset=['pct_poverty', 'pct_black', 'pct_college_plus', 'pct_mortgage'])"
   ]
  },
  {
   "cell_type": "code",
   "execution_count": 22,
   "id": "7a7fe75b",
   "metadata": {},
   "outputs": [],
   "source": [
    "#OLS regression assistance per applicant ~ socioeconomic variables"
   ]
  },
  {
   "cell_type": "code",
   "execution_count": 23,
   "id": "10e434d5",
   "metadata": {},
   "outputs": [
    {
     "name": "stdout",
     "output_type": "stream",
     "text": [
      "                               OLS Regression Results                               \n",
      "====================================================================================\n",
      "Dep. Variable:     assistance_per_applicant   R-squared:                       0.001\n",
      "Model:                                  OLS   Adj. R-squared:                  0.000\n",
      "Method:                       Least Squares   F-statistic:                     1.253\n",
      "Date:                      Thu, 08 May 2025   Prob (F-statistic):              0.286\n",
      "Time:                              20:58:09   Log-Likelihood:                -50089.\n",
      "No. Observations:                      5847   AIC:                         1.002e+05\n",
      "Df Residuals:                          5842   BIC:                         1.002e+05\n",
      "Df Model:                                 4                                         \n",
      "Covariance Type:                  nonrobust                                         \n",
      "====================================================================================\n",
      "                       coef    std err          t      P>|t|      [0.025      0.975]\n",
      "------------------------------------------------------------------------------------\n",
      "const              736.3743     65.729     11.203      0.000     607.521     865.227\n",
      "pct_poverty       -250.2338    189.233     -1.322      0.186    -621.200     120.732\n",
      "pct_black          -27.9607     85.397     -0.327      0.743    -195.371     139.450\n",
      "pct_college_plus  -170.0877    125.450     -1.356      0.175    -416.016      75.841\n",
      "pct_mortgage       -98.7327    106.076     -0.931      0.352    -306.681     109.216\n",
      "==============================================================================\n",
      "Omnibus:                     6813.891   Durbin-Watson:                   1.505\n",
      "Prob(Omnibus):                  0.000   Jarque-Bera (JB):          1218168.613\n",
      "Skew:                           5.918   Prob(JB):                         0.00\n",
      "Kurtosis:                      72.714   Cond. No.                         14.1\n",
      "==============================================================================\n",
      "\n",
      "Notes:\n",
      "[1] Standard Errors assume that the covariance matrix of the errors is correctly specified.\n"
     ]
    }
   ],
   "source": [
    "import statsmodels.api as sm\n",
    "\n",
    "X = states_fema_socioeconomic[['pct_poverty', 'pct_black', 'pct_college_plus', 'pct_mortgage']]\n",
    "X = sm.add_constant(X)\n",
    "y = states_fema_socioeconomic['assistance_per_applicant']\n",
    "\n",
    "model = sm.OLS(y, X).fit()\n",
    "\n",
    "print(model.summary())"
   ]
  },
  {
   "cell_type": "code",
   "execution_count": 24,
   "id": "ce6c3e73",
   "metadata": {},
   "outputs": [],
   "source": [
    "#Get damage amount by zip"
   ]
  },
  {
   "cell_type": "code",
   "execution_count": 25,
   "id": "deb07747",
   "metadata": {},
   "outputs": [],
   "source": [
    "fema_flood_damage = fema_filtered.groupby('zip').agg({'floodDamageAmount': 'mean'}).reset_index()"
   ]
  },
  {
   "cell_type": "code",
   "execution_count": 26,
   "id": "34971dfd",
   "metadata": {},
   "outputs": [],
   "source": [
    "#Merge with previous data"
   ]
  },
  {
   "cell_type": "code",
   "execution_count": 27,
   "id": "e506c732",
   "metadata": {},
   "outputs": [],
   "source": [
    "states_merged = pd.merge(states_fema_socioeconomic, fema_flood_damage, on='zip', how='left')"
   ]
  },
  {
   "cell_type": "code",
   "execution_count": 28,
   "id": "422540f3",
   "metadata": {},
   "outputs": [],
   "source": [
    "#Fill 0 in non damaged area"
   ]
  },
  {
   "cell_type": "code",
   "execution_count": 29,
   "id": "470a12c7",
   "metadata": {},
   "outputs": [],
   "source": [
    "states_merged['floodDamageAmount'] = states_merged['floodDamageAmount'].fillna(0)"
   ]
  },
  {
   "cell_type": "code",
   "execution_count": 30,
   "id": "231a8be5",
   "metadata": {},
   "outputs": [],
   "source": [
    "#OLS regression assistance per applicant ~ socioeconomic variables + damage amount"
   ]
  },
  {
   "cell_type": "code",
   "execution_count": 31,
   "id": "90f50bb0",
   "metadata": {},
   "outputs": [
    {
     "name": "stdout",
     "output_type": "stream",
     "text": [
      "                               OLS Regression Results                               \n",
      "====================================================================================\n",
      "Dep. Variable:     assistance_per_applicant   R-squared:                       0.736\n",
      "Model:                                  OLS   Adj. R-squared:                  0.736\n",
      "Method:                       Least Squares   F-statistic:                     3253.\n",
      "Date:                      Thu, 08 May 2025   Prob (F-statistic):               0.00\n",
      "Time:                              20:58:10   Log-Likelihood:                -46201.\n",
      "No. Observations:                      5847   AIC:                         9.241e+04\n",
      "Df Residuals:                          5841   BIC:                         9.245e+04\n",
      "Df Model:                                 5                                         \n",
      "Covariance Type:                  nonrobust                                         \n",
      "=====================================================================================\n",
      "                        coef    std err          t      P>|t|      [0.025      0.975]\n",
      "-------------------------------------------------------------------------------------\n",
      "const               313.4161     33.968      9.227      0.000     246.825     380.007\n",
      "pct_poverty         -22.2520     97.343     -0.229      0.819    -213.080     168.576\n",
      "pct_black           133.3072     43.940      3.034      0.002      47.168     219.446\n",
      "pct_college_plus   -169.0417     64.522     -2.620      0.009    -295.528     -42.555\n",
      "pct_mortgage       -127.4024     54.558     -2.335      0.020    -234.356     -20.449\n",
      "floodDamageAmount     0.6078      0.005    127.451      0.000       0.598       0.617\n",
      "==============================================================================\n",
      "Omnibus:                     4215.166   Durbin-Watson:                   1.820\n",
      "Prob(Omnibus):                  0.000   Jarque-Bera (JB):         11884846.145\n",
      "Skew:                          -1.840   Prob(JB):                         0.00\n",
      "Kurtosis:                     223.839   Cond. No.                     2.30e+04\n",
      "==============================================================================\n",
      "\n",
      "Notes:\n",
      "[1] Standard Errors assume that the covariance matrix of the errors is correctly specified.\n",
      "[2] The condition number is large, 2.3e+04. This might indicate that there are\n",
      "strong multicollinearity or other numerical problems.\n"
     ]
    }
   ],
   "source": [
    "import statsmodels.api as sm\n",
    "\n",
    "X = states_merged[['pct_poverty', 'pct_black', 'pct_college_plus', 'pct_mortgage', 'floodDamageAmount']]\n",
    "X = sm.add_constant(X)\n",
    "y = states_merged['assistance_per_applicant']\n",
    "\n",
    "model = sm.OLS(y, X).fit()\n",
    "print(model.summary())"
   ]
  }
 ],
 "metadata": {
  "kernelspec": {
   "display_name": "Python (Anaconda Base)",
   "language": "python",
   "name": "base"
  },
  "language_info": {
   "codemirror_mode": {
    "name": "ipython",
    "version": 3
   },
   "file_extension": ".py",
   "mimetype": "text/x-python",
   "name": "python",
   "nbconvert_exporter": "python",
   "pygments_lexer": "ipython3",
   "version": "3.11.4"
  }
 },
 "nbformat": 4,
 "nbformat_minor": 5
}
