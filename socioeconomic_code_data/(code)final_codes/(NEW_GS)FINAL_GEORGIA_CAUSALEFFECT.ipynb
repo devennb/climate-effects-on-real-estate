{
 "cells": [
  {
   "cell_type": "code",
   "execution_count": 1,
   "id": "da11566b",
   "metadata": {},
   "outputs": [],
   "source": [
    "import pandas as pd"
   ]
  },
  {
   "cell_type": "code",
   "execution_count": 2,
   "id": "fc951d65",
   "metadata": {},
   "outputs": [],
   "source": [
    "#Read socioeconomic status per zipcode"
   ]
  },
  {
   "cell_type": "code",
   "execution_count": 3,
   "id": "e0ddbb6d",
   "metadata": {},
   "outputs": [],
   "source": [
    "socioeconomic_df = pd.read_csv(\"acs_socioeconomic_2019.csv\")"
   ]
  },
  {
   "cell_type": "code",
   "execution_count": 4,
   "id": "632c3b46",
   "metadata": {},
   "outputs": [],
   "source": [
    "#Read causal effect file(georgia)"
   ]
  },
  {
   "cell_type": "code",
   "execution_count": 5,
   "id": "da0b9a7e",
   "metadata": {},
   "outputs": [],
   "source": [
    "ga_treatment_effect = pd.read_csv('GA_climate_causal_effect.csv')"
   ]
  },
  {
   "cell_type": "code",
   "execution_count": 6,
   "id": "58e30396",
   "metadata": {
    "scrolled": true
   },
   "outputs": [
    {
     "data": {
      "text/html": [
       "<div>\n",
       "<style scoped>\n",
       "    .dataframe tbody tr th:only-of-type {\n",
       "        vertical-align: middle;\n",
       "    }\n",
       "\n",
       "    .dataframe tbody tr th {\n",
       "        vertical-align: top;\n",
       "    }\n",
       "\n",
       "    .dataframe thead th {\n",
       "        text-align: right;\n",
       "    }\n",
       "</style>\n",
       "<table border=\"1\" class=\"dataframe\">\n",
       "  <thead>\n",
       "    <tr style=\"text-align: right;\">\n",
       "      <th></th>\n",
       "      <th>zip</th>\n",
       "      <th>1</th>\n",
       "      <th>2</th>\n",
       "      <th>3</th>\n",
       "      <th>4</th>\n",
       "      <th>5</th>\n",
       "      <th>6</th>\n",
       "      <th>elderlyReturns</th>\n",
       "      <th>returnsTotalwSalariesWages</th>\n",
       "      <th>returnsDependentCareCredit</th>\n",
       "      <th>returnsEducationCredit</th>\n",
       "      <th>risk_group</th>\n",
       "      <th>propensity_score</th>\n",
       "      <th>price_shift</th>\n",
       "      <th>y_0</th>\n",
       "      <th>y_0_corrected</th>\n",
       "      <th>y_1</th>\n",
       "      <th>y_1_corrected</th>\n",
       "      <th>treatment_effect</th>\n",
       "      <th>treatment_effect_no_corr</th>\n",
       "    </tr>\n",
       "  </thead>\n",
       "  <tbody>\n",
       "    <tr>\n",
       "      <th>0</th>\n",
       "      <td>29803</td>\n",
       "      <td>0.242633</td>\n",
       "      <td>0.193517</td>\n",
       "      <td>0.138998</td>\n",
       "      <td>0.103635</td>\n",
       "      <td>0.235756</td>\n",
       "      <td>0.085462</td>\n",
       "      <td>0.423870</td>\n",
       "      <td>0.716601</td>\n",
       "      <td>0.210216</td>\n",
       "      <td>0.040766</td>\n",
       "      <td>False</td>\n",
       "      <td>0.366196</td>\n",
       "      <td>6.432405</td>\n",
       "      <td>-0.508141</td>\n",
       "      <td>10.442471</td>\n",
       "      <td>11.188678</td>\n",
       "      <td>11.188678</td>\n",
       "      <td>0.746207</td>\n",
       "      <td>11.696819</td>\n",
       "    </tr>\n",
       "    <tr>\n",
       "      <th>1</th>\n",
       "      <td>29829</td>\n",
       "      <td>0.265079</td>\n",
       "      <td>0.233333</td>\n",
       "      <td>0.163492</td>\n",
       "      <td>0.123810</td>\n",
       "      <td>0.190476</td>\n",
       "      <td>0.023810</td>\n",
       "      <td>0.195238</td>\n",
       "      <td>0.865079</td>\n",
       "      <td>0.322222</td>\n",
       "      <td>0.061905</td>\n",
       "      <td>False</td>\n",
       "      <td>0.282418</td>\n",
       "      <td>19.079154</td>\n",
       "      <td>14.949684</td>\n",
       "      <td>20.704386</td>\n",
       "      <td>9.500285</td>\n",
       "      <td>9.500285</td>\n",
       "      <td>-11.204101</td>\n",
       "      <td>-5.449398</td>\n",
       "    </tr>\n",
       "    <tr>\n",
       "      <th>2</th>\n",
       "      <td>29841</td>\n",
       "      <td>0.286785</td>\n",
       "      <td>0.242507</td>\n",
       "      <td>0.162807</td>\n",
       "      <td>0.105586</td>\n",
       "      <td>0.155995</td>\n",
       "      <td>0.046322</td>\n",
       "      <td>0.266349</td>\n",
       "      <td>0.816757</td>\n",
       "      <td>0.247956</td>\n",
       "      <td>0.053815</td>\n",
       "      <td>True</td>\n",
       "      <td>0.310067</td>\n",
       "      <td>13.240693</td>\n",
       "      <td>11.546645</td>\n",
       "      <td>11.546645</td>\n",
       "      <td>11.542999</td>\n",
       "      <td>17.018242</td>\n",
       "      <td>5.471597</td>\n",
       "      <td>-0.003646</td>\n",
       "    </tr>\n",
       "    <tr>\n",
       "      <th>3</th>\n",
       "      <td>30004</td>\n",
       "      <td>0.206252</td>\n",
       "      <td>0.126652</td>\n",
       "      <td>0.102159</td>\n",
       "      <td>0.085079</td>\n",
       "      <td>0.209152</td>\n",
       "      <td>0.270706</td>\n",
       "      <td>0.215598</td>\n",
       "      <td>0.834354</td>\n",
       "      <td>0.298421</td>\n",
       "      <td>0.040928</td>\n",
       "      <td>False</td>\n",
       "      <td>0.311576</td>\n",
       "      <td>5.631119</td>\n",
       "      <td>3.788156</td>\n",
       "      <td>6.465231</td>\n",
       "      <td>1.159813</td>\n",
       "      <td>1.159813</td>\n",
       "      <td>-5.305419</td>\n",
       "      <td>-2.628344</td>\n",
       "    </tr>\n",
       "    <tr>\n",
       "      <th>4</th>\n",
       "      <td>30005</td>\n",
       "      <td>0.202146</td>\n",
       "      <td>0.118012</td>\n",
       "      <td>0.093168</td>\n",
       "      <td>0.081310</td>\n",
       "      <td>0.243930</td>\n",
       "      <td>0.261434</td>\n",
       "      <td>0.208922</td>\n",
       "      <td>0.865613</td>\n",
       "      <td>0.341615</td>\n",
       "      <td>0.053077</td>\n",
       "      <td>False</td>\n",
       "      <td>0.303279</td>\n",
       "      <td>3.725923</td>\n",
       "      <td>4.785729</td>\n",
       "      <td>3.264595</td>\n",
       "      <td>-2.438791</td>\n",
       "      <td>-2.438791</td>\n",
       "      <td>-5.703386</td>\n",
       "      <td>-7.224520</td>\n",
       "    </tr>\n",
       "  </tbody>\n",
       "</table>\n",
       "</div>"
      ],
      "text/plain": [
       "     zip         1         2         3         4         5         6  \\\n",
       "0  29803  0.242633  0.193517  0.138998  0.103635  0.235756  0.085462   \n",
       "1  29829  0.265079  0.233333  0.163492  0.123810  0.190476  0.023810   \n",
       "2  29841  0.286785  0.242507  0.162807  0.105586  0.155995  0.046322   \n",
       "3  30004  0.206252  0.126652  0.102159  0.085079  0.209152  0.270706   \n",
       "4  30005  0.202146  0.118012  0.093168  0.081310  0.243930  0.261434   \n",
       "\n",
       "   elderlyReturns  returnsTotalwSalariesWages  returnsDependentCareCredit  \\\n",
       "0        0.423870                    0.716601                    0.210216   \n",
       "1        0.195238                    0.865079                    0.322222   \n",
       "2        0.266349                    0.816757                    0.247956   \n",
       "3        0.215598                    0.834354                    0.298421   \n",
       "4        0.208922                    0.865613                    0.341615   \n",
       "\n",
       "   returnsEducationCredit  risk_group  propensity_score  price_shift  \\\n",
       "0                0.040766       False          0.366196     6.432405   \n",
       "1                0.061905       False          0.282418    19.079154   \n",
       "2                0.053815        True          0.310067    13.240693   \n",
       "3                0.040928       False          0.311576     5.631119   \n",
       "4                0.053077       False          0.303279     3.725923   \n",
       "\n",
       "         y_0  y_0_corrected        y_1  y_1_corrected  treatment_effect  \\\n",
       "0  -0.508141      10.442471  11.188678      11.188678          0.746207   \n",
       "1  14.949684      20.704386   9.500285       9.500285        -11.204101   \n",
       "2  11.546645      11.546645  11.542999      17.018242          5.471597   \n",
       "3   3.788156       6.465231   1.159813       1.159813         -5.305419   \n",
       "4   4.785729       3.264595  -2.438791      -2.438791         -5.703386   \n",
       "\n",
       "   treatment_effect_no_corr  \n",
       "0                 11.696819  \n",
       "1                 -5.449398  \n",
       "2                 -0.003646  \n",
       "3                 -2.628344  \n",
       "4                 -7.224520  "
      ]
     },
     "execution_count": 6,
     "metadata": {},
     "output_type": "execute_result"
    }
   ],
   "source": [
    "ga_treatment_effect.head()"
   ]
  },
  {
   "cell_type": "code",
   "execution_count": 7,
   "id": "cbb14259",
   "metadata": {},
   "outputs": [],
   "source": [
    "#Merge by zip"
   ]
  },
  {
   "cell_type": "code",
   "execution_count": 8,
   "id": "60df4ca3",
   "metadata": {},
   "outputs": [],
   "source": [
    "socioeconomic_df['zip'] = socioeconomic_df['zip'].astype(str).str.zfill(5)\n",
    "ga_treatment_effect['zip'] = ga_treatment_effect['zip'].astype(str).str.zfill(5)"
   ]
  },
  {
   "cell_type": "code",
   "execution_count": 9,
   "id": "e90e0615",
   "metadata": {},
   "outputs": [],
   "source": [
    "ga_socioeconomic_treatment_effect = pd.merge(socioeconomic_df, ga_treatment_effect, on=\"zip\")"
   ]
  },
  {
   "cell_type": "code",
   "execution_count": 10,
   "id": "998bd2e0",
   "metadata": {},
   "outputs": [],
   "source": [
    "#OLS regression treatment effect ~ socioeconomic variables"
   ]
  },
  {
   "cell_type": "code",
   "execution_count": 11,
   "id": "c39f8dcd",
   "metadata": {},
   "outputs": [
    {
     "name": "stdout",
     "output_type": "stream",
     "text": [
      "                               OLS Regression Results                               \n",
      "====================================================================================\n",
      "Dep. Variable:     treatment_effect_no_corr   R-squared:                       0.592\n",
      "Model:                                  OLS   Adj. R-squared:                  0.585\n",
      "Method:                       Least Squares   F-statistic:                     83.53\n",
      "Date:                      Thu, 08 May 2025   Prob (F-statistic):           1.08e-43\n",
      "Time:                              20:42:16   Log-Likelihood:                -713.78\n",
      "No. Observations:                       235   AIC:                             1438.\n",
      "Df Residuals:                           230   BIC:                             1455.\n",
      "Df Model:                                 4                                         \n",
      "Covariance Type:                  nonrobust                                         \n",
      "====================================================================================\n",
      "                       coef    std err          t      P>|t|      [0.025      0.975]\n",
      "------------------------------------------------------------------------------------\n",
      "const               30.6793      2.921     10.502      0.000      24.923      36.435\n",
      "pct_poverty        -60.6515      6.481     -9.359      0.000     -73.420     -47.883\n",
      "pct_black           -7.4383      1.963     -3.789      0.000     -11.306      -3.570\n",
      "pct_college_plus     3.2267      2.461      1.311      0.191      -1.621       8.075\n",
      "pct_mortgage       -38.0211      4.196     -9.061      0.000     -46.289     -29.753\n",
      "==============================================================================\n",
      "Omnibus:                      135.075   Durbin-Watson:                   1.839\n",
      "Prob(Omnibus):                  0.000   Jarque-Bera (JB):             1346.299\n",
      "Skew:                           2.053   Prob(JB):                    4.52e-293\n",
      "Kurtosis:                      13.984   Cond. No.                         29.2\n",
      "==============================================================================\n",
      "\n",
      "Notes:\n",
      "[1] Standard Errors assume that the covariance matrix of the errors is correctly specified.\n"
     ]
    }
   ],
   "source": [
    "import statsmodels.api as sm\n",
    "\n",
    "X = ga_socioeconomic_treatment_effect[['pct_poverty', 'pct_black', 'pct_college_plus', 'pct_mortgage']]\n",
    "X = sm.add_constant(X)\n",
    "y = ga_socioeconomic_treatment_effect['treatment_effect_no_corr']\n",
    "\n",
    "model = sm.OLS(y, X).fit()\n",
    "print(model.summary())"
   ]
  },
  {
   "cell_type": "code",
   "execution_count": 12,
   "id": "54f14c3a",
   "metadata": {},
   "outputs": [],
   "source": [
    "# Mean treatment effect"
   ]
  },
  {
   "cell_type": "code",
   "execution_count": 13,
   "id": "1972adeb",
   "metadata": {},
   "outputs": [
    {
     "data": {
      "text/plain": [
       "-4.365897140699997"
      ]
     },
     "execution_count": 13,
     "metadata": {},
     "output_type": "execute_result"
    }
   ],
   "source": [
    "ga_socioeconomic_treatment_effect['treatment_effect_no_corr'].mean()"
   ]
  },
  {
   "cell_type": "code",
   "execution_count": 14,
   "id": "6f884f52",
   "metadata": {},
   "outputs": [],
   "source": [
    "# Mean treatment effect: Lower 25% & Upper 25%"
   ]
  },
  {
   "cell_type": "code",
   "execution_count": 15,
   "id": "e1c955a0",
   "metadata": {},
   "outputs": [],
   "source": [
    "low_poverty = ga_socioeconomic_treatment_effect[ga_socioeconomic_treatment_effect['pct_poverty'] <= ga_socioeconomic_treatment_effect['pct_poverty'].quantile(0.25)]"
   ]
  },
  {
   "cell_type": "code",
   "execution_count": 16,
   "id": "65038b38",
   "metadata": {},
   "outputs": [
    {
     "data": {
      "text/plain": [
       "-0.43794904792995015"
      ]
     },
     "execution_count": 16,
     "metadata": {},
     "output_type": "execute_result"
    }
   ],
   "source": [
    "low_poverty['treatment_effect_no_corr'].mean()"
   ]
  },
  {
   "cell_type": "code",
   "execution_count": 17,
   "id": "25c6ba03",
   "metadata": {},
   "outputs": [],
   "source": [
    "high_poverty = ga_socioeconomic_treatment_effect[ga_socioeconomic_treatment_effect['pct_poverty'] >= ga_socioeconomic_treatment_effect['pct_poverty'].quantile(0.75)]"
   ]
  },
  {
   "cell_type": "code",
   "execution_count": 18,
   "id": "bd416d9f",
   "metadata": {},
   "outputs": [
    {
     "data": {
      "text/plain": [
       "-10.578714177651669"
      ]
     },
     "execution_count": 18,
     "metadata": {},
     "output_type": "execute_result"
    }
   ],
   "source": [
    "high_poverty['treatment_effect_no_corr'].mean()"
   ]
  },
  {
   "cell_type": "code",
   "execution_count": 19,
   "id": "b3db258d",
   "metadata": {},
   "outputs": [],
   "source": [
    "low_black = ga_socioeconomic_treatment_effect[ga_socioeconomic_treatment_effect['pct_black'] <= ga_socioeconomic_treatment_effect['pct_black'].quantile(0.25)]"
   ]
  },
  {
   "cell_type": "code",
   "execution_count": 20,
   "id": "56795980",
   "metadata": {},
   "outputs": [
    {
     "data": {
      "text/plain": [
       "2.481723415275688"
      ]
     },
     "execution_count": 20,
     "metadata": {},
     "output_type": "execute_result"
    }
   ],
   "source": [
    "low_black['treatment_effect_no_corr'].mean()"
   ]
  },
  {
   "cell_type": "code",
   "execution_count": 21,
   "id": "87f9de2d",
   "metadata": {},
   "outputs": [],
   "source": [
    "high_black = ga_socioeconomic_treatment_effect[ga_socioeconomic_treatment_effect['pct_black'] >= ga_socioeconomic_treatment_effect['pct_black'].quantile(0.75)]"
   ]
  },
  {
   "cell_type": "code",
   "execution_count": 22,
   "id": "bb0f1864",
   "metadata": {},
   "outputs": [
    {
     "data": {
      "text/plain": [
       "-11.343868659147251"
      ]
     },
     "execution_count": 22,
     "metadata": {},
     "output_type": "execute_result"
    }
   ],
   "source": [
    "high_black['treatment_effect_no_corr'].mean()"
   ]
  },
  {
   "cell_type": "code",
   "execution_count": 23,
   "id": "5935bbcf",
   "metadata": {},
   "outputs": [],
   "source": [
    "low_college = ga_socioeconomic_treatment_effect[ga_socioeconomic_treatment_effect['pct_college_plus'] <= ga_socioeconomic_treatment_effect['pct_college_plus'].quantile(0.25)]"
   ]
  },
  {
   "cell_type": "code",
   "execution_count": 24,
   "id": "96bc9a85",
   "metadata": {},
   "outputs": [
    {
     "data": {
      "text/plain": [
       "-5.027099713150243"
      ]
     },
     "execution_count": 24,
     "metadata": {},
     "output_type": "execute_result"
    }
   ],
   "source": [
    "low_college['treatment_effect_no_corr'].mean()"
   ]
  },
  {
   "cell_type": "code",
   "execution_count": 25,
   "id": "c671ca56",
   "metadata": {},
   "outputs": [],
   "source": [
    "high_college = ga_socioeconomic_treatment_effect[ga_socioeconomic_treatment_effect['pct_college_plus'] >= ga_socioeconomic_treatment_effect['pct_college_plus'].quantile(0.75)]"
   ]
  },
  {
   "cell_type": "code",
   "execution_count": 26,
   "id": "7d955092",
   "metadata": {},
   "outputs": [
    {
     "data": {
      "text/plain": [
       "-1.8009960239909886"
      ]
     },
     "execution_count": 26,
     "metadata": {},
     "output_type": "execute_result"
    }
   ],
   "source": [
    "high_college['treatment_effect_no_corr'].mean()"
   ]
  },
  {
   "cell_type": "code",
   "execution_count": 27,
   "id": "0d9304ae",
   "metadata": {},
   "outputs": [],
   "source": [
    "low_mortgage = ga_socioeconomic_treatment_effect[ga_socioeconomic_treatment_effect['pct_mortgage'] <= ga_socioeconomic_treatment_effect['pct_mortgage'].quantile(0.25)]"
   ]
  },
  {
   "cell_type": "code",
   "execution_count": 28,
   "id": "36370ea9",
   "metadata": {},
   "outputs": [
    {
     "data": {
      "text/plain": [
       "-2.5798692033962745"
      ]
     },
     "execution_count": 28,
     "metadata": {},
     "output_type": "execute_result"
    }
   ],
   "source": [
    "low_mortgage['treatment_effect_no_corr'].mean()"
   ]
  },
  {
   "cell_type": "code",
   "execution_count": 29,
   "id": "23526cec",
   "metadata": {},
   "outputs": [],
   "source": [
    "high_mortgage = ga_socioeconomic_treatment_effect[ga_socioeconomic_treatment_effect['pct_mortgage'] >= ga_socioeconomic_treatment_effect['pct_mortgage'].quantile(0.75)]"
   ]
  },
  {
   "cell_type": "code",
   "execution_count": 30,
   "id": "078559e1",
   "metadata": {},
   "outputs": [
    {
     "data": {
      "text/plain": [
       "-6.622256574424799"
      ]
     },
     "execution_count": 30,
     "metadata": {},
     "output_type": "execute_result"
    }
   ],
   "source": [
    "high_mortgage['treatment_effect_no_corr'].mean()"
   ]
  },
  {
   "cell_type": "code",
   "execution_count": 31,
   "id": "b4f5ae68",
   "metadata": {},
   "outputs": [],
   "source": [
    "#Get Georgia socioeconomic status"
   ]
  },
  {
   "cell_type": "code",
   "execution_count": 32,
   "id": "5bd8171b",
   "metadata": {},
   "outputs": [],
   "source": [
    "socioeconomic_df = pd.read_csv(\"acs_socioeconomic_2019.csv\")"
   ]
  },
  {
   "cell_type": "code",
   "execution_count": 33,
   "id": "e06b23d7",
   "metadata": {},
   "outputs": [],
   "source": [
    "zipdata = pd.read_excel(\"uszips.xlsx\")"
   ]
  },
  {
   "cell_type": "code",
   "execution_count": 34,
   "id": "169ee2f5",
   "metadata": {},
   "outputs": [],
   "source": [
    "socioeconomic_df['zip'] = socioeconomic_df['zip'].astype(str).str.zfill(5)\n",
    "zipdata['zip'] = zipdata['zip'].astype(str).str.zfill(5)"
   ]
  },
  {
   "cell_type": "code",
   "execution_count": 35,
   "id": "7d805164",
   "metadata": {},
   "outputs": [],
   "source": [
    "georgia_zipdata = zipdata[zipdata['state_name'] == 'Georgia']"
   ]
  },
  {
   "cell_type": "code",
   "execution_count": 36,
   "id": "44fe2c33",
   "metadata": {},
   "outputs": [],
   "source": [
    "ga_socioeconomic = pd.merge(socioeconomic_df, georgia_zipdata, on=\"zip\")"
   ]
  },
  {
   "cell_type": "code",
   "execution_count": 37,
   "id": "333b4f46",
   "metadata": {},
   "outputs": [],
   "source": [
    "ga_socioeconomic = ga_socioeconomic.dropna(subset=['pct_poverty', 'pct_black', 'pct_college_plus', 'pct_mortgage'])"
   ]
  },
  {
   "cell_type": "code",
   "execution_count": 38,
   "id": "f7b76b56",
   "metadata": {},
   "outputs": [],
   "source": [
    "#Cluster zip using socioeconomic variables"
   ]
  },
  {
   "cell_type": "code",
   "execution_count": 39,
   "id": "5d04f758",
   "metadata": {},
   "outputs": [],
   "source": [
    "from sklearn.preprocessing import StandardScaler"
   ]
  },
  {
   "cell_type": "code",
   "execution_count": 40,
   "id": "24744703",
   "metadata": {},
   "outputs": [],
   "source": [
    "features = ['pct_poverty', 'pct_black', 'pct_college_plus', 'pct_mortgage']"
   ]
  },
  {
   "cell_type": "code",
   "execution_count": 41,
   "id": "25e0cc43",
   "metadata": {},
   "outputs": [],
   "source": [
    "scaler = StandardScaler()\n",
    "ga_socioeconomic_scaled = scaler.fit_transform(ga_socioeconomic[features])"
   ]
  },
  {
   "cell_type": "code",
   "execution_count": 42,
   "id": "63be2670",
   "metadata": {},
   "outputs": [],
   "source": [
    "from sklearn.cluster import KMeans\n",
    "from sklearn.metrics import silhouette_score"
   ]
  },
  {
   "cell_type": "code",
   "execution_count": 43,
   "id": "f69c8337",
   "metadata": {},
   "outputs": [
    {
     "name": "stderr",
     "output_type": "stream",
     "text": [
      "C:\\Users\\user\\anaconda3\\Lib\\site-packages\\sklearn\\cluster\\_kmeans.py:1412: FutureWarning: The default value of `n_init` will change from 10 to 'auto' in 1.4. Set the value of `n_init` explicitly to suppress the warning\n",
      "  super()._check_params_vs_input(X, default_n_init=10)\n"
     ]
    },
    {
     "name": "stdout",
     "output_type": "stream",
     "text": [
      "For n_clusters =2, the average silhouette_score is :0.2901922419337133\n",
      "For n_clusters =3, the average silhouette_score is :0.29582125849179336\n",
      "For n_clusters =4, the average silhouette_score is :0.2684963884737789\n"
     ]
    },
    {
     "name": "stderr",
     "output_type": "stream",
     "text": [
      "C:\\Users\\user\\anaconda3\\Lib\\site-packages\\sklearn\\cluster\\_kmeans.py:1412: FutureWarning: The default value of `n_init` will change from 10 to 'auto' in 1.4. Set the value of `n_init` explicitly to suppress the warning\n",
      "  super()._check_params_vs_input(X, default_n_init=10)\n",
      "C:\\Users\\user\\anaconda3\\Lib\\site-packages\\sklearn\\cluster\\_kmeans.py:1412: FutureWarning: The default value of `n_init` will change from 10 to 'auto' in 1.4. Set the value of `n_init` explicitly to suppress the warning\n",
      "  super()._check_params_vs_input(X, default_n_init=10)\n",
      "C:\\Users\\user\\anaconda3\\Lib\\site-packages\\sklearn\\cluster\\_kmeans.py:1412: FutureWarning: The default value of `n_init` will change from 10 to 'auto' in 1.4. Set the value of `n_init` explicitly to suppress the warning\n",
      "  super()._check_params_vs_input(X, default_n_init=10)\n"
     ]
    },
    {
     "name": "stdout",
     "output_type": "stream",
     "text": [
      "For n_clusters =5, the average silhouette_score is :0.264160633333385\n",
      "For n_clusters =6, the average silhouette_score is :0.2619565624785483\n",
      "For n_clusters =7, the average silhouette_score is :0.2436276772897536\n"
     ]
    },
    {
     "name": "stderr",
     "output_type": "stream",
     "text": [
      "C:\\Users\\user\\anaconda3\\Lib\\site-packages\\sklearn\\cluster\\_kmeans.py:1412: FutureWarning: The default value of `n_init` will change from 10 to 'auto' in 1.4. Set the value of `n_init` explicitly to suppress the warning\n",
      "  super()._check_params_vs_input(X, default_n_init=10)\n",
      "C:\\Users\\user\\anaconda3\\Lib\\site-packages\\sklearn\\cluster\\_kmeans.py:1412: FutureWarning: The default value of `n_init` will change from 10 to 'auto' in 1.4. Set the value of `n_init` explicitly to suppress the warning\n",
      "  super()._check_params_vs_input(X, default_n_init=10)\n",
      "C:\\Users\\user\\anaconda3\\Lib\\site-packages\\sklearn\\cluster\\_kmeans.py:1412: FutureWarning: The default value of `n_init` will change from 10 to 'auto' in 1.4. Set the value of `n_init` explicitly to suppress the warning\n",
      "  super()._check_params_vs_input(X, default_n_init=10)\n"
     ]
    },
    {
     "name": "stdout",
     "output_type": "stream",
     "text": [
      "For n_clusters =8, the average silhouette_score is :0.24470327613666734\n",
      "For n_clusters =9, the average silhouette_score is :0.2262880482951657\n",
      "For n_clusters =10, the average silhouette_score is :0.23786007803821052\n"
     ]
    },
    {
     "name": "stderr",
     "output_type": "stream",
     "text": [
      "C:\\Users\\user\\anaconda3\\Lib\\site-packages\\sklearn\\cluster\\_kmeans.py:1412: FutureWarning: The default value of `n_init` will change from 10 to 'auto' in 1.4. Set the value of `n_init` explicitly to suppress the warning\n",
      "  super()._check_params_vs_input(X, default_n_init=10)\n",
      "C:\\Users\\user\\anaconda3\\Lib\\site-packages\\sklearn\\cluster\\_kmeans.py:1412: FutureWarning: The default value of `n_init` will change from 10 to 'auto' in 1.4. Set the value of `n_init` explicitly to suppress the warning\n",
      "  super()._check_params_vs_input(X, default_n_init=10)\n"
     ]
    }
   ],
   "source": [
    "#Clustering\n",
    "range_n_clusters = [2, 3, 4, 5, 6, 7, 8, 9, 10]\n",
    "for k in range_n_clusters: #try different numbers of clusters\n",
    "    kmeans = KMeans(n_clusters=k, random_state=324)\n",
    "    cluster_labels = kmeans.fit_predict(ga_socioeconomic_scaled)\n",
    "    #report average Silhouette score\n",
    "    silhouette_avg = silhouette_score(ga_socioeconomic_scaled, cluster_labels)\n",
    "    print(\"For n_clusters ={},\".format(k)+\" the average silhouette_score is :{}\".format(silhouette_avg))"
   ]
  },
  {
   "cell_type": "code",
   "execution_count": 44,
   "id": "eebe6829",
   "metadata": {},
   "outputs": [
    {
     "name": "stderr",
     "output_type": "stream",
     "text": [
      "C:\\Users\\user\\anaconda3\\Lib\\site-packages\\sklearn\\cluster\\_kmeans.py:1412: FutureWarning: The default value of `n_init` will change from 10 to 'auto' in 1.4. Set the value of `n_init` explicitly to suppress the warning\n",
      "  super()._check_params_vs_input(X, default_n_init=10)\n"
     ]
    }
   ],
   "source": [
    "kmeans = KMeans(n_clusters=3, random_state=324)\n",
    "cluster_labels = kmeans.fit_predict(ga_socioeconomic_scaled)"
   ]
  },
  {
   "cell_type": "code",
   "execution_count": 45,
   "id": "a7597535",
   "metadata": {},
   "outputs": [],
   "source": [
    "ga_socioeconomic['cluster'] = cluster_labels"
   ]
  },
  {
   "cell_type": "code",
   "execution_count": 46,
   "id": "ac1971aa",
   "metadata": {},
   "outputs": [
    {
     "name": "stdout",
     "output_type": "stream",
     "text": [
      "         pct_poverty  pct_black  pct_college_plus  pct_mortgage\n",
      "cluster                                                        \n",
      "0           0.272380   0.508756          0.139242      0.450277\n",
      "1           0.153791   0.130559          0.163720      0.493802\n",
      "2           0.096582   0.256235          0.445186      0.721921\n"
     ]
    }
   ],
   "source": [
    "cluster_profile = ga_socioeconomic.groupby('cluster')[features].mean()\n",
    "print(cluster_profile)"
   ]
  },
  {
   "cell_type": "code",
   "execution_count": 47,
   "id": "a1ea5ba9",
   "metadata": {},
   "outputs": [
    {
     "data": {
      "text/html": [
       "<div>\n",
       "<style scoped>\n",
       "    .dataframe tbody tr th:only-of-type {\n",
       "        vertical-align: middle;\n",
       "    }\n",
       "\n",
       "    .dataframe tbody tr th {\n",
       "        vertical-align: top;\n",
       "    }\n",
       "\n",
       "    .dataframe thead th {\n",
       "        text-align: right;\n",
       "    }\n",
       "</style>\n",
       "<table border=\"1\" class=\"dataframe\">\n",
       "  <thead>\n",
       "    <tr style=\"text-align: right;\">\n",
       "      <th></th>\n",
       "      <th>zip</th>\n",
       "      <th>pct_poverty</th>\n",
       "      <th>pct_black</th>\n",
       "      <th>pct_college_plus</th>\n",
       "      <th>pct_mortgage</th>\n",
       "      <th>lat</th>\n",
       "      <th>lng</th>\n",
       "      <th>city</th>\n",
       "      <th>state_id</th>\n",
       "      <th>state_name</th>\n",
       "      <th>...</th>\n",
       "      <th>density</th>\n",
       "      <th>county_fips</th>\n",
       "      <th>county_name</th>\n",
       "      <th>county_weights</th>\n",
       "      <th>county_names_all</th>\n",
       "      <th>county_fips_all</th>\n",
       "      <th>imprecise</th>\n",
       "      <th>military</th>\n",
       "      <th>timezone</th>\n",
       "      <th>cluster</th>\n",
       "    </tr>\n",
       "  </thead>\n",
       "  <tbody>\n",
       "    <tr>\n",
       "      <th>0</th>\n",
       "      <td>30663</td>\n",
       "      <td>0.218740</td>\n",
       "      <td>0.161598</td>\n",
       "      <td>0.161290</td>\n",
       "      <td>0.511719</td>\n",
       "      <td>33.61572</td>\n",
       "      <td>-83.60357</td>\n",
       "      <td>Rutledge</td>\n",
       "      <td>GA</td>\n",
       "      <td>Georgia</td>\n",
       "      <td>...</td>\n",
       "      <td>26.9</td>\n",
       "      <td>13211</td>\n",
       "      <td>Morgan</td>\n",
       "      <td>{\"13211\": 100}</td>\n",
       "      <td>Morgan</td>\n",
       "      <td>13211</td>\n",
       "      <td>False</td>\n",
       "      <td>False</td>\n",
       "      <td>America/New_York</td>\n",
       "      <td>1</td>\n",
       "    </tr>\n",
       "    <tr>\n",
       "      <th>1</th>\n",
       "      <td>30666</td>\n",
       "      <td>0.080728</td>\n",
       "      <td>0.149871</td>\n",
       "      <td>0.256974</td>\n",
       "      <td>0.704267</td>\n",
       "      <td>33.95891</td>\n",
       "      <td>-83.58266</td>\n",
       "      <td>Statham</td>\n",
       "      <td>GA</td>\n",
       "      <td>Georgia</td>\n",
       "      <td>...</td>\n",
       "      <td>114.7</td>\n",
       "      <td>13013</td>\n",
       "      <td>Barrow</td>\n",
       "      <td>{\"13013\": 59.72, \"13219\": 30.58, \"13157\": 9.7}</td>\n",
       "      <td>Barrow|Oconee|Jackson</td>\n",
       "      <td>13013|13219|13157</td>\n",
       "      <td>False</td>\n",
       "      <td>False</td>\n",
       "      <td>America/New_York</td>\n",
       "      <td>2</td>\n",
       "    </tr>\n",
       "    <tr>\n",
       "      <th>2</th>\n",
       "      <td>30115</td>\n",
       "      <td>0.038252</td>\n",
       "      <td>0.038221</td>\n",
       "      <td>0.405660</td>\n",
       "      <td>0.739922</td>\n",
       "      <td>34.21296</td>\n",
       "      <td>-84.40138</td>\n",
       "      <td>Canton</td>\n",
       "      <td>GA</td>\n",
       "      <td>Georgia</td>\n",
       "      <td>...</td>\n",
       "      <td>281.2</td>\n",
       "      <td>13057</td>\n",
       "      <td>Cherokee</td>\n",
       "      <td>{\"13057\": 100}</td>\n",
       "      <td>Cherokee</td>\n",
       "      <td>13057</td>\n",
       "      <td>False</td>\n",
       "      <td>False</td>\n",
       "      <td>America/New_York</td>\n",
       "      <td>2</td>\n",
       "    </tr>\n",
       "    <tr>\n",
       "      <th>3</th>\n",
       "      <td>30117</td>\n",
       "      <td>0.264576</td>\n",
       "      <td>0.234278</td>\n",
       "      <td>0.256777</td>\n",
       "      <td>0.573240</td>\n",
       "      <td>33.58113</td>\n",
       "      <td>-85.13197</td>\n",
       "      <td>Carrollton</td>\n",
       "      <td>GA</td>\n",
       "      <td>Georgia</td>\n",
       "      <td>...</td>\n",
       "      <td>138.9</td>\n",
       "      <td>13045</td>\n",
       "      <td>Carroll</td>\n",
       "      <td>{\"13045\": 100}</td>\n",
       "      <td>Carroll</td>\n",
       "      <td>13045</td>\n",
       "      <td>False</td>\n",
       "      <td>False</td>\n",
       "      <td>America/New_York</td>\n",
       "      <td>1</td>\n",
       "    </tr>\n",
       "    <tr>\n",
       "      <th>4</th>\n",
       "      <td>30127</td>\n",
       "      <td>0.066633</td>\n",
       "      <td>0.432189</td>\n",
       "      <td>0.372503</td>\n",
       "      <td>0.761084</td>\n",
       "      <td>33.87647</td>\n",
       "      <td>-84.69648</td>\n",
       "      <td>Powder Springs</td>\n",
       "      <td>GA</td>\n",
       "      <td>Georgia</td>\n",
       "      <td>...</td>\n",
       "      <td>542.6</td>\n",
       "      <td>13067</td>\n",
       "      <td>Cobb</td>\n",
       "      <td>{\"13067\": 84.55, \"13223\": 15.45}</td>\n",
       "      <td>Cobb|Paulding</td>\n",
       "      <td>13067|13223</td>\n",
       "      <td>False</td>\n",
       "      <td>False</td>\n",
       "      <td>America/New_York</td>\n",
       "      <td>2</td>\n",
       "    </tr>\n",
       "    <tr>\n",
       "      <th>...</th>\n",
       "      <td>...</td>\n",
       "      <td>...</td>\n",
       "      <td>...</td>\n",
       "      <td>...</td>\n",
       "      <td>...</td>\n",
       "      <td>...</td>\n",
       "      <td>...</td>\n",
       "      <td>...</td>\n",
       "      <td>...</td>\n",
       "      <td>...</td>\n",
       "      <td>...</td>\n",
       "      <td>...</td>\n",
       "      <td>...</td>\n",
       "      <td>...</td>\n",
       "      <td>...</td>\n",
       "      <td>...</td>\n",
       "      <td>...</td>\n",
       "      <td>...</td>\n",
       "      <td>...</td>\n",
       "      <td>...</td>\n",
       "      <td>...</td>\n",
       "    </tr>\n",
       "    <tr>\n",
       "      <th>724</th>\n",
       "      <td>31518</td>\n",
       "      <td>0.251876</td>\n",
       "      <td>0.050375</td>\n",
       "      <td>0.236542</td>\n",
       "      <td>0.397541</td>\n",
       "      <td>31.51272</td>\n",
       "      <td>-82.18325</td>\n",
       "      <td>Bristol</td>\n",
       "      <td>GA</td>\n",
       "      <td>Georgia</td>\n",
       "      <td>...</td>\n",
       "      <td>6.8</td>\n",
       "      <td>13001</td>\n",
       "      <td>Appling</td>\n",
       "      <td>{\"13001\": 57.48, \"13229\": 30.81, \"13305\": 11.71}</td>\n",
       "      <td>Appling|Pierce|Wayne</td>\n",
       "      <td>13001|13229|13305</td>\n",
       "      <td>False</td>\n",
       "      <td>False</td>\n",
       "      <td>America/New_York</td>\n",
       "      <td>1</td>\n",
       "    </tr>\n",
       "    <tr>\n",
       "      <th>725</th>\n",
       "      <td>31543</td>\n",
       "      <td>0.198361</td>\n",
       "      <td>0.028996</td>\n",
       "      <td>0.057479</td>\n",
       "      <td>0.491042</td>\n",
       "      <td>31.34455</td>\n",
       "      <td>-81.82697</td>\n",
       "      <td>Hortense</td>\n",
       "      <td>GA</td>\n",
       "      <td>Georgia</td>\n",
       "      <td>...</td>\n",
       "      <td>11.5</td>\n",
       "      <td>13025</td>\n",
       "      <td>Brantley</td>\n",
       "      <td>{\"13025\": 50.37, \"13305\": 41.61, \"13127\": 8.02}</td>\n",
       "      <td>Brantley|Wayne|Glynn</td>\n",
       "      <td>13025|13305|13127</td>\n",
       "      <td>False</td>\n",
       "      <td>False</td>\n",
       "      <td>America/New_York</td>\n",
       "      <td>1</td>\n",
       "    </tr>\n",
       "    <tr>\n",
       "      <th>726</th>\n",
       "      <td>31632</td>\n",
       "      <td>0.105569</td>\n",
       "      <td>0.087518</td>\n",
       "      <td>0.300072</td>\n",
       "      <td>0.659652</td>\n",
       "      <td>30.98760</td>\n",
       "      <td>-83.36006</td>\n",
       "      <td>Hahira</td>\n",
       "      <td>GA</td>\n",
       "      <td>Georgia</td>\n",
       "      <td>...</td>\n",
       "      <td>52.6</td>\n",
       "      <td>13185</td>\n",
       "      <td>Lowndes</td>\n",
       "      <td>{\"13185\": 78.93, \"13075\": 21.07}</td>\n",
       "      <td>Lowndes|Cook</td>\n",
       "      <td>13185|13075</td>\n",
       "      <td>False</td>\n",
       "      <td>False</td>\n",
       "      <td>America/New_York</td>\n",
       "      <td>2</td>\n",
       "    </tr>\n",
       "    <tr>\n",
       "      <th>727</th>\n",
       "      <td>31018</td>\n",
       "      <td>0.181734</td>\n",
       "      <td>0.573139</td>\n",
       "      <td>0.058635</td>\n",
       "      <td>0.377358</td>\n",
       "      <td>32.97888</td>\n",
       "      <td>-82.62012</td>\n",
       "      <td>Davisboro</td>\n",
       "      <td>GA</td>\n",
       "      <td>Georgia</td>\n",
       "      <td>...</td>\n",
       "      <td>11.2</td>\n",
       "      <td>13303</td>\n",
       "      <td>Washington</td>\n",
       "      <td>{\"13303\": 100}</td>\n",
       "      <td>Washington</td>\n",
       "      <td>13303</td>\n",
       "      <td>False</td>\n",
       "      <td>False</td>\n",
       "      <td>America/New_York</td>\n",
       "      <td>0</td>\n",
       "    </tr>\n",
       "    <tr>\n",
       "      <th>728</th>\n",
       "      <td>31019</td>\n",
       "      <td>0.211039</td>\n",
       "      <td>0.231447</td>\n",
       "      <td>0.175204</td>\n",
       "      <td>0.338633</td>\n",
       "      <td>32.42622</td>\n",
       "      <td>-83.05340</td>\n",
       "      <td>Dexter</td>\n",
       "      <td>GA</td>\n",
       "      <td>Georgia</td>\n",
       "      <td>...</td>\n",
       "      <td>23.1</td>\n",
       "      <td>13175</td>\n",
       "      <td>Laurens</td>\n",
       "      <td>{\"13175\": 100}</td>\n",
       "      <td>Laurens</td>\n",
       "      <td>13175</td>\n",
       "      <td>False</td>\n",
       "      <td>False</td>\n",
       "      <td>America/New_York</td>\n",
       "      <td>1</td>\n",
       "    </tr>\n",
       "  </tbody>\n",
       "</table>\n",
       "<p>706 rows × 23 columns</p>\n",
       "</div>"
      ],
      "text/plain": [
       "       zip  pct_poverty  pct_black  pct_college_plus  pct_mortgage       lat  \\\n",
       "0    30663     0.218740   0.161598          0.161290      0.511719  33.61572   \n",
       "1    30666     0.080728   0.149871          0.256974      0.704267  33.95891   \n",
       "2    30115     0.038252   0.038221          0.405660      0.739922  34.21296   \n",
       "3    30117     0.264576   0.234278          0.256777      0.573240  33.58113   \n",
       "4    30127     0.066633   0.432189          0.372503      0.761084  33.87647   \n",
       "..     ...          ...        ...               ...           ...       ...   \n",
       "724  31518     0.251876   0.050375          0.236542      0.397541  31.51272   \n",
       "725  31543     0.198361   0.028996          0.057479      0.491042  31.34455   \n",
       "726  31632     0.105569   0.087518          0.300072      0.659652  30.98760   \n",
       "727  31018     0.181734   0.573139          0.058635      0.377358  32.97888   \n",
       "728  31019     0.211039   0.231447          0.175204      0.338633  32.42622   \n",
       "\n",
       "          lng            city state_id state_name  ...  density  county_fips  \\\n",
       "0   -83.60357        Rutledge       GA    Georgia  ...     26.9        13211   \n",
       "1   -83.58266         Statham       GA    Georgia  ...    114.7        13013   \n",
       "2   -84.40138          Canton       GA    Georgia  ...    281.2        13057   \n",
       "3   -85.13197      Carrollton       GA    Georgia  ...    138.9        13045   \n",
       "4   -84.69648  Powder Springs       GA    Georgia  ...    542.6        13067   \n",
       "..        ...             ...      ...        ...  ...      ...          ...   \n",
       "724 -82.18325         Bristol       GA    Georgia  ...      6.8        13001   \n",
       "725 -81.82697        Hortense       GA    Georgia  ...     11.5        13025   \n",
       "726 -83.36006          Hahira       GA    Georgia  ...     52.6        13185   \n",
       "727 -82.62012       Davisboro       GA    Georgia  ...     11.2        13303   \n",
       "728 -83.05340          Dexter       GA    Georgia  ...     23.1        13175   \n",
       "\n",
       "     county_name                                    county_weights  \\\n",
       "0         Morgan                                    {\"13211\": 100}   \n",
       "1         Barrow    {\"13013\": 59.72, \"13219\": 30.58, \"13157\": 9.7}   \n",
       "2       Cherokee                                    {\"13057\": 100}   \n",
       "3        Carroll                                    {\"13045\": 100}   \n",
       "4           Cobb                  {\"13067\": 84.55, \"13223\": 15.45}   \n",
       "..           ...                                               ...   \n",
       "724      Appling  {\"13001\": 57.48, \"13229\": 30.81, \"13305\": 11.71}   \n",
       "725     Brantley   {\"13025\": 50.37, \"13305\": 41.61, \"13127\": 8.02}   \n",
       "726      Lowndes                  {\"13185\": 78.93, \"13075\": 21.07}   \n",
       "727   Washington                                    {\"13303\": 100}   \n",
       "728      Laurens                                    {\"13175\": 100}   \n",
       "\n",
       "          county_names_all    county_fips_all imprecise military  \\\n",
       "0                   Morgan              13211     False    False   \n",
       "1    Barrow|Oconee|Jackson  13013|13219|13157     False    False   \n",
       "2                 Cherokee              13057     False    False   \n",
       "3                  Carroll              13045     False    False   \n",
       "4            Cobb|Paulding        13067|13223     False    False   \n",
       "..                     ...                ...       ...      ...   \n",
       "724   Appling|Pierce|Wayne  13001|13229|13305     False    False   \n",
       "725   Brantley|Wayne|Glynn  13025|13305|13127     False    False   \n",
       "726           Lowndes|Cook        13185|13075     False    False   \n",
       "727             Washington              13303     False    False   \n",
       "728                Laurens              13175     False    False   \n",
       "\n",
       "             timezone  cluster  \n",
       "0    America/New_York        1  \n",
       "1    America/New_York        2  \n",
       "2    America/New_York        2  \n",
       "3    America/New_York        1  \n",
       "4    America/New_York        2  \n",
       "..                ...      ...  \n",
       "724  America/New_York        1  \n",
       "725  America/New_York        1  \n",
       "726  America/New_York        2  \n",
       "727  America/New_York        0  \n",
       "728  America/New_York        1  \n",
       "\n",
       "[706 rows x 23 columns]"
      ]
     },
     "execution_count": 47,
     "metadata": {},
     "output_type": "execute_result"
    }
   ],
   "source": [
    "ga_socioeconomic"
   ]
  },
  {
   "cell_type": "code",
   "execution_count": 48,
   "id": "a2d01721",
   "metadata": {},
   "outputs": [],
   "source": [
    "ga_socioeconomic.to_csv(\"ga_socioeconomic.csv\", index=False)"
   ]
  }
 ],
 "metadata": {
  "kernelspec": {
   "display_name": "Python (Anaconda Base)",
   "language": "python",
   "name": "base"
  },
  "language_info": {
   "codemirror_mode": {
    "name": "ipython",
    "version": 3
   },
   "file_extension": ".py",
   "mimetype": "text/x-python",
   "name": "python",
   "nbconvert_exporter": "python",
   "pygments_lexer": "ipython3",
   "version": "3.11.4"
  }
 },
 "nbformat": 4,
 "nbformat_minor": 5
}
