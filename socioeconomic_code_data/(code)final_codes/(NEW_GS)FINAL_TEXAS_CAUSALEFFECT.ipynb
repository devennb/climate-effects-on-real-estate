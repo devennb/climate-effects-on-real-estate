{
 "cells": [
  {
   "cell_type": "code",
   "execution_count": 1,
   "id": "18c04adb",
   "metadata": {},
   "outputs": [],
   "source": [
    "import pandas as pd"
   ]
  },
  {
   "cell_type": "code",
   "execution_count": 2,
   "id": "67414349",
   "metadata": {},
   "outputs": [],
   "source": [
    "#Read socioeconomic status per zipcode"
   ]
  },
  {
   "cell_type": "code",
   "execution_count": 3,
   "id": "76105e0b",
   "metadata": {},
   "outputs": [],
   "source": [
    "socioeconomic_df = pd.read_csv(\"acs_socioeconomic_2019.csv\")"
   ]
  },
  {
   "cell_type": "code",
   "execution_count": 4,
   "id": "31994c77",
   "metadata": {},
   "outputs": [],
   "source": [
    "#Read causal effect file(Texas)"
   ]
  },
  {
   "cell_type": "code",
   "execution_count": 5,
   "id": "da0b9a7e",
   "metadata": {},
   "outputs": [],
   "source": [
    "tx_treatment_effect = pd.read_csv('tx_climate_causal_effect.csv')"
   ]
  },
  {
   "cell_type": "code",
   "execution_count": 6,
   "id": "58e30396",
   "metadata": {},
   "outputs": [
    {
     "data": {
      "text/html": [
       "<div>\n",
       "<style scoped>\n",
       "    .dataframe tbody tr th:only-of-type {\n",
       "        vertical-align: middle;\n",
       "    }\n",
       "\n",
       "    .dataframe tbody tr th {\n",
       "        vertical-align: top;\n",
       "    }\n",
       "\n",
       "    .dataframe thead th {\n",
       "        text-align: right;\n",
       "    }\n",
       "</style>\n",
       "<table border=\"1\" class=\"dataframe\">\n",
       "  <thead>\n",
       "    <tr style=\"text-align: right;\">\n",
       "      <th></th>\n",
       "      <th>zip</th>\n",
       "      <th>1</th>\n",
       "      <th>2</th>\n",
       "      <th>3</th>\n",
       "      <th>4</th>\n",
       "      <th>5</th>\n",
       "      <th>6</th>\n",
       "      <th>elderlyReturns</th>\n",
       "      <th>returnsTotalwSalariesWages</th>\n",
       "      <th>returnsDependentCareCredit</th>\n",
       "      <th>returnsEducationCredit</th>\n",
       "      <th>risk_group</th>\n",
       "      <th>propensity_score</th>\n",
       "      <th>price_shift</th>\n",
       "      <th>y_0</th>\n",
       "      <th>y_0_corrected</th>\n",
       "      <th>y_1</th>\n",
       "      <th>y_1_corrected</th>\n",
       "      <th>treatment_effect</th>\n",
       "      <th>treatment_effect_no_corr</th>\n",
       "    </tr>\n",
       "  </thead>\n",
       "  <tbody>\n",
       "    <tr>\n",
       "      <th>0</th>\n",
       "      <td>71854</td>\n",
       "      <td>0.349521</td>\n",
       "      <td>0.279070</td>\n",
       "      <td>0.134747</td>\n",
       "      <td>0.086183</td>\n",
       "      <td>0.120383</td>\n",
       "      <td>0.030096</td>\n",
       "      <td>0.252394</td>\n",
       "      <td>0.825581</td>\n",
       "      <td>0.273598</td>\n",
       "      <td>0.045828</td>\n",
       "      <td>False</td>\n",
       "      <td>0.316765</td>\n",
       "      <td>4.541389</td>\n",
       "      <td>12.968581</td>\n",
       "      <td>0.634325</td>\n",
       "      <td>12.645249</td>\n",
       "      <td>12.645249</td>\n",
       "      <td>12.010925</td>\n",
       "      <td>-0.323332</td>\n",
       "    </tr>\n",
       "    <tr>\n",
       "      <th>1</th>\n",
       "      <td>75001</td>\n",
       "      <td>0.220000</td>\n",
       "      <td>0.231000</td>\n",
       "      <td>0.193000</td>\n",
       "      <td>0.110000</td>\n",
       "      <td>0.166000</td>\n",
       "      <td>0.080000</td>\n",
       "      <td>0.155000</td>\n",
       "      <td>0.864000</td>\n",
       "      <td>0.119000</td>\n",
       "      <td>0.057000</td>\n",
       "      <td>False</td>\n",
       "      <td>0.277153</td>\n",
       "      <td>6.352608</td>\n",
       "      <td>11.136753</td>\n",
       "      <td>4.518273</td>\n",
       "      <td>2.654614</td>\n",
       "      <td>2.654614</td>\n",
       "      <td>-1.863659</td>\n",
       "      <td>-8.482139</td>\n",
       "    </tr>\n",
       "    <tr>\n",
       "      <th>2</th>\n",
       "      <td>75002</td>\n",
       "      <td>0.242219</td>\n",
       "      <td>0.162712</td>\n",
       "      <td>0.119877</td>\n",
       "      <td>0.091217</td>\n",
       "      <td>0.226194</td>\n",
       "      <td>0.157781</td>\n",
       "      <td>0.227735</td>\n",
       "      <td>0.844068</td>\n",
       "      <td>0.307242</td>\n",
       "      <td>0.064099</td>\n",
       "      <td>False</td>\n",
       "      <td>0.341157</td>\n",
       "      <td>5.687621</td>\n",
       "      <td>4.104407</td>\n",
       "      <td>6.507428</td>\n",
       "      <td>2.096740</td>\n",
       "      <td>2.096740</td>\n",
       "      <td>-4.410688</td>\n",
       "      <td>-2.007667</td>\n",
       "    </tr>\n",
       "    <tr>\n",
       "      <th>3</th>\n",
       "      <td>75006</td>\n",
       "      <td>0.265625</td>\n",
       "      <td>0.281672</td>\n",
       "      <td>0.180321</td>\n",
       "      <td>0.096706</td>\n",
       "      <td>0.133024</td>\n",
       "      <td>0.042652</td>\n",
       "      <td>0.226774</td>\n",
       "      <td>0.826014</td>\n",
       "      <td>0.234797</td>\n",
       "      <td>0.047720</td>\n",
       "      <td>False</td>\n",
       "      <td>0.274645</td>\n",
       "      <td>17.307029</td>\n",
       "      <td>17.350410</td>\n",
       "      <td>17.290603</td>\n",
       "      <td>7.663044</td>\n",
       "      <td>7.663044</td>\n",
       "      <td>-9.627559</td>\n",
       "      <td>-9.687365</td>\n",
       "    </tr>\n",
       "    <tr>\n",
       "      <th>4</th>\n",
       "      <td>75007</td>\n",
       "      <td>0.238005</td>\n",
       "      <td>0.214205</td>\n",
       "      <td>0.156403</td>\n",
       "      <td>0.103513</td>\n",
       "      <td>0.207405</td>\n",
       "      <td>0.080468</td>\n",
       "      <td>0.255006</td>\n",
       "      <td>0.834152</td>\n",
       "      <td>0.242539</td>\n",
       "      <td>0.055912</td>\n",
       "      <td>False</td>\n",
       "      <td>0.292541</td>\n",
       "      <td>12.672375</td>\n",
       "      <td>9.308389</td>\n",
       "      <td>14.063412</td>\n",
       "      <td>4.651142</td>\n",
       "      <td>4.651142</td>\n",
       "      <td>-9.412271</td>\n",
       "      <td>-4.657247</td>\n",
       "    </tr>\n",
       "  </tbody>\n",
       "</table>\n",
       "</div>"
      ],
      "text/plain": [
       "     zip         1         2         3         4         5         6  \\\n",
       "0  71854  0.349521  0.279070  0.134747  0.086183  0.120383  0.030096   \n",
       "1  75001  0.220000  0.231000  0.193000  0.110000  0.166000  0.080000   \n",
       "2  75002  0.242219  0.162712  0.119877  0.091217  0.226194  0.157781   \n",
       "3  75006  0.265625  0.281672  0.180321  0.096706  0.133024  0.042652   \n",
       "4  75007  0.238005  0.214205  0.156403  0.103513  0.207405  0.080468   \n",
       "\n",
       "   elderlyReturns  returnsTotalwSalariesWages  returnsDependentCareCredit  \\\n",
       "0        0.252394                    0.825581                    0.273598   \n",
       "1        0.155000                    0.864000                    0.119000   \n",
       "2        0.227735                    0.844068                    0.307242   \n",
       "3        0.226774                    0.826014                    0.234797   \n",
       "4        0.255006                    0.834152                    0.242539   \n",
       "\n",
       "   returnsEducationCredit  risk_group  propensity_score  price_shift  \\\n",
       "0                0.045828       False          0.316765     4.541389   \n",
       "1                0.057000       False          0.277153     6.352608   \n",
       "2                0.064099       False          0.341157     5.687621   \n",
       "3                0.047720       False          0.274645    17.307029   \n",
       "4                0.055912       False          0.292541    12.672375   \n",
       "\n",
       "         y_0  y_0_corrected        y_1  y_1_corrected  treatment_effect  \\\n",
       "0  12.968581       0.634325  12.645249      12.645249         12.010925   \n",
       "1  11.136753       4.518273   2.654614       2.654614         -1.863659   \n",
       "2   4.104407       6.507428   2.096740       2.096740         -4.410688   \n",
       "3  17.350410      17.290603   7.663044       7.663044         -9.627559   \n",
       "4   9.308389      14.063412   4.651142       4.651142         -9.412271   \n",
       "\n",
       "   treatment_effect_no_corr  \n",
       "0                 -0.323332  \n",
       "1                 -8.482139  \n",
       "2                 -2.007667  \n",
       "3                 -9.687365  \n",
       "4                 -4.657247  "
      ]
     },
     "execution_count": 6,
     "metadata": {},
     "output_type": "execute_result"
    }
   ],
   "source": [
    "tx_treatment_effect.head()"
   ]
  },
  {
   "cell_type": "code",
   "execution_count": 7,
   "id": "cbb14259",
   "metadata": {},
   "outputs": [],
   "source": [
    "#Merge by zip"
   ]
  },
  {
   "cell_type": "code",
   "execution_count": 8,
   "id": "60df4ca3",
   "metadata": {},
   "outputs": [],
   "source": [
    "socioeconomic_df['zip'] = socioeconomic_df['zip'].astype(str).str.zfill(5)\n",
    "tx_treatment_effect['zip'] = tx_treatment_effect['zip'].astype(str).str.zfill(5)"
   ]
  },
  {
   "cell_type": "code",
   "execution_count": 9,
   "id": "e90e0615",
   "metadata": {},
   "outputs": [],
   "source": [
    "tx_socioeconomic_treatment_effect = pd.merge(socioeconomic_df, tx_treatment_effect, on=\"zip\")"
   ]
  },
  {
   "cell_type": "code",
   "execution_count": 10,
   "id": "998bd2e0",
   "metadata": {},
   "outputs": [],
   "source": [
    "#OLS regression treatment effect ~ socioeconomic variables"
   ]
  },
  {
   "cell_type": "code",
   "execution_count": 11,
   "id": "c39f8dcd",
   "metadata": {},
   "outputs": [
    {
     "name": "stdout",
     "output_type": "stream",
     "text": [
      "                               OLS Regression Results                               \n",
      "====================================================================================\n",
      "Dep. Variable:     treatment_effect_no_corr   R-squared:                       0.523\n",
      "Model:                                  OLS   Adj. R-squared:                  0.521\n",
      "Method:                       Least Squares   F-statistic:                     220.9\n",
      "Date:                      Thu, 08 May 2025   Prob (F-statistic):          6.83e-128\n",
      "Time:                              20:45:09   Log-Likelihood:                -2259.7\n",
      "No. Observations:                       810   AIC:                             4529.\n",
      "Df Residuals:                           805   BIC:                             4553.\n",
      "Df Model:                                 4                                         \n",
      "Covariance Type:                  nonrobust                                         \n",
      "====================================================================================\n",
      "                       coef    std err          t      P>|t|      [0.025      0.975]\n",
      "------------------------------------------------------------------------------------\n",
      "const                0.1826      0.888      0.206      0.837      -1.561       1.927\n",
      "pct_poverty         24.2103      2.083     11.621      0.000      20.121      28.300\n",
      "pct_black            5.2232      1.097      4.762      0.000       3.070       7.376\n",
      "pct_college_plus    -7.3261      1.003     -7.302      0.000      -9.296      -5.357\n",
      "pct_mortgage        -9.4378      1.375     -6.864      0.000     -12.137      -6.739\n",
      "==============================================================================\n",
      "Omnibus:                       18.195   Durbin-Watson:                   1.533\n",
      "Prob(Omnibus):                  0.000   Jarque-Bera (JB):               36.109\n",
      "Skew:                           0.018   Prob(JB):                     1.44e-08\n",
      "Kurtosis:                       4.034   Cond. No.                         20.2\n",
      "==============================================================================\n",
      "\n",
      "Notes:\n",
      "[1] Standard Errors assume that the covariance matrix of the errors is correctly specified.\n"
     ]
    }
   ],
   "source": [
    "import statsmodels.api as sm\n",
    "\n",
    "X = tx_socioeconomic_treatment_effect[['pct_poverty', 'pct_black', 'pct_college_plus', 'pct_mortgage']]\n",
    "X = sm.add_constant(X)\n",
    "y = tx_socioeconomic_treatment_effect['treatment_effect_no_corr']\n",
    "\n",
    "model = sm.OLS(y, X).fit()\n",
    "print(model.summary())"
   ]
  },
  {
   "cell_type": "code",
   "execution_count": 12,
   "id": "d20b0fb0",
   "metadata": {},
   "outputs": [],
   "source": [
    "# Mean treatment effect"
   ]
  },
  {
   "cell_type": "code",
   "execution_count": 13,
   "id": "03e7afae",
   "metadata": {},
   "outputs": [
    {
     "data": {
      "text/plain": [
       "-2.8664820941090223"
      ]
     },
     "execution_count": 13,
     "metadata": {},
     "output_type": "execute_result"
    }
   ],
   "source": [
    "tx_socioeconomic_treatment_effect['treatment_effect_no_corr'].mean()"
   ]
  },
  {
   "cell_type": "code",
   "execution_count": 14,
   "id": "92996c94",
   "metadata": {},
   "outputs": [],
   "source": [
    "# Mean treatment effect: Lower 25% & Upper 25%"
   ]
  },
  {
   "cell_type": "code",
   "execution_count": 15,
   "id": "6c612b9e",
   "metadata": {},
   "outputs": [],
   "source": [
    "low_poverty = tx_socioeconomic_treatment_effect[tx_socioeconomic_treatment_effect['pct_poverty'] <= tx_socioeconomic_treatment_effect['pct_poverty'].quantile(0.25)]"
   ]
  },
  {
   "cell_type": "code",
   "execution_count": 16,
   "id": "a0ce351f",
   "metadata": {},
   "outputs": [
    {
     "data": {
      "text/plain": [
       "-6.390586358983331"
      ]
     },
     "execution_count": 16,
     "metadata": {},
     "output_type": "execute_result"
    }
   ],
   "source": [
    "low_poverty['treatment_effect_no_corr'].mean()"
   ]
  },
  {
   "cell_type": "code",
   "execution_count": 17,
   "id": "9b9fae59",
   "metadata": {},
   "outputs": [],
   "source": [
    "high_poverty = tx_socioeconomic_treatment_effect[tx_socioeconomic_treatment_effect['pct_poverty'] >= tx_socioeconomic_treatment_effect['pct_poverty'].quantile(0.75)]"
   ]
  },
  {
   "cell_type": "code",
   "execution_count": 18,
   "id": "7a49a9a2",
   "metadata": {},
   "outputs": [
    {
     "data": {
      "text/plain": [
       "2.6553336676162362"
      ]
     },
     "execution_count": 18,
     "metadata": {},
     "output_type": "execute_result"
    }
   ],
   "source": [
    "high_poverty['treatment_effect_no_corr'].mean()"
   ]
  },
  {
   "cell_type": "code",
   "execution_count": 19,
   "id": "9a235145",
   "metadata": {},
   "outputs": [],
   "source": [
    "low_black = tx_socioeconomic_treatment_effect[tx_socioeconomic_treatment_effect['pct_black'] <= tx_socioeconomic_treatment_effect['pct_black'].quantile(0.25)]"
   ]
  },
  {
   "cell_type": "code",
   "execution_count": 20,
   "id": "e5769724",
   "metadata": {},
   "outputs": [
    {
     "data": {
      "text/plain": [
       "-1.2875402330718055"
      ]
     },
     "execution_count": 20,
     "metadata": {},
     "output_type": "execute_result"
    }
   ],
   "source": [
    "low_black['treatment_effect_no_corr'].mean()"
   ]
  },
  {
   "cell_type": "code",
   "execution_count": 21,
   "id": "90d1e60c",
   "metadata": {},
   "outputs": [],
   "source": [
    "high_black = tx_socioeconomic_treatment_effect[tx_socioeconomic_treatment_effect['pct_black'] >= tx_socioeconomic_treatment_effect['pct_black'].quantile(0.75)]"
   ]
  },
  {
   "cell_type": "code",
   "execution_count": 22,
   "id": "93b8d2be",
   "metadata": {},
   "outputs": [
    {
     "data": {
      "text/plain": [
       "-1.2989706301790596"
      ]
     },
     "execution_count": 22,
     "metadata": {},
     "output_type": "execute_result"
    }
   ],
   "source": [
    "high_black['treatment_effect_no_corr'].mean()"
   ]
  },
  {
   "cell_type": "code",
   "execution_count": 23,
   "id": "5da7aa7a",
   "metadata": {},
   "outputs": [],
   "source": [
    "low_college = tx_socioeconomic_treatment_effect[tx_socioeconomic_treatment_effect['pct_college_plus'] <= tx_socioeconomic_treatment_effect['pct_college_plus'].quantile(0.25)]"
   ]
  },
  {
   "cell_type": "code",
   "execution_count": 24,
   "id": "886c449a",
   "metadata": {},
   "outputs": [
    {
     "data": {
      "text/plain": [
       "1.3136812753733718"
      ]
     },
     "execution_count": 24,
     "metadata": {},
     "output_type": "execute_result"
    }
   ],
   "source": [
    "low_college['treatment_effect_no_corr'].mean()"
   ]
  },
  {
   "cell_type": "code",
   "execution_count": 25,
   "id": "43b00eed",
   "metadata": {},
   "outputs": [],
   "source": [
    "high_college = tx_socioeconomic_treatment_effect[tx_socioeconomic_treatment_effect['pct_college_plus'] >= tx_socioeconomic_treatment_effect['pct_college_plus'].quantile(0.75)]"
   ]
  },
  {
   "cell_type": "code",
   "execution_count": 26,
   "id": "c3cd1ff9",
   "metadata": {},
   "outputs": [
    {
     "data": {
      "text/plain": [
       "-7.173424230510875"
      ]
     },
     "execution_count": 26,
     "metadata": {},
     "output_type": "execute_result"
    }
   ],
   "source": [
    "high_college['treatment_effect_no_corr'].mean()"
   ]
  },
  {
   "cell_type": "code",
   "execution_count": 27,
   "id": "2febf336",
   "metadata": {},
   "outputs": [],
   "source": [
    "low_mortgage = tx_socioeconomic_treatment_effect[tx_socioeconomic_treatment_effect['pct_mortgage'] <= tx_socioeconomic_treatment_effect['pct_mortgage'].quantile(0.25)]"
   ]
  },
  {
   "cell_type": "code",
   "execution_count": 28,
   "id": "467a278a",
   "metadata": {},
   "outputs": [
    {
     "data": {
      "text/plain": [
       "1.7846877594120172"
      ]
     },
     "execution_count": 28,
     "metadata": {},
     "output_type": "execute_result"
    }
   ],
   "source": [
    "low_mortgage['treatment_effect_no_corr'].mean()"
   ]
  },
  {
   "cell_type": "code",
   "execution_count": 29,
   "id": "03b5e775",
   "metadata": {},
   "outputs": [],
   "source": [
    "high_mortgage = tx_socioeconomic_treatment_effect[tx_socioeconomic_treatment_effect['pct_mortgage'] >= tx_socioeconomic_treatment_effect['pct_mortgage'].quantile(0.75)]"
   ]
  },
  {
   "cell_type": "code",
   "execution_count": 30,
   "id": "66d04be5",
   "metadata": {},
   "outputs": [
    {
     "data": {
      "text/plain": [
       "-6.243841368725559"
      ]
     },
     "execution_count": 30,
     "metadata": {},
     "output_type": "execute_result"
    }
   ],
   "source": [
    "high_mortgage['treatment_effect_no_corr'].mean()"
   ]
  },
  {
   "cell_type": "code",
   "execution_count": 31,
   "id": "5c399dbd",
   "metadata": {},
   "outputs": [],
   "source": [
    "#Get Texas socioeconomic status"
   ]
  },
  {
   "cell_type": "code",
   "execution_count": 32,
   "id": "1eb7210e",
   "metadata": {},
   "outputs": [],
   "source": [
    "socioeconomic_df = pd.read_csv(\"acs_socioeconomic_2019.csv\")"
   ]
  },
  {
   "cell_type": "code",
   "execution_count": 33,
   "id": "30083db0",
   "metadata": {},
   "outputs": [],
   "source": [
    "zipdata = pd.read_excel(\"uszips.xlsx\")"
   ]
  },
  {
   "cell_type": "code",
   "execution_count": 34,
   "id": "ea69a64a",
   "metadata": {},
   "outputs": [],
   "source": [
    "socioeconomic_df['zip'] = socioeconomic_df['zip'].astype(str).str.zfill(5)\n",
    "zipdata['zip'] = zipdata['zip'].astype(str).str.zfill(5)"
   ]
  },
  {
   "cell_type": "code",
   "execution_count": 35,
   "id": "6cb86dfe",
   "metadata": {},
   "outputs": [],
   "source": [
    "texas_zipdata = zipdata[zipdata['state_name'] == 'Texas']"
   ]
  },
  {
   "cell_type": "code",
   "execution_count": 36,
   "id": "1064091c",
   "metadata": {},
   "outputs": [],
   "source": [
    "tx_socioeconomic = pd.merge(socioeconomic_df, texas_zipdata, on=\"zip\")"
   ]
  },
  {
   "cell_type": "code",
   "execution_count": 37,
   "id": "b131e0e8",
   "metadata": {},
   "outputs": [],
   "source": [
    "tx_socioeconomic = tx_socioeconomic.dropna(subset=['pct_poverty', 'pct_black', 'pct_college_plus', 'pct_mortgage'])"
   ]
  },
  {
   "cell_type": "code",
   "execution_count": 38,
   "id": "3c852b25",
   "metadata": {},
   "outputs": [],
   "source": [
    "#Cluster zip using socioeconomic variables"
   ]
  },
  {
   "cell_type": "code",
   "execution_count": 39,
   "id": "6045b8fc",
   "metadata": {},
   "outputs": [],
   "source": [
    "from sklearn.preprocessing import StandardScaler"
   ]
  },
  {
   "cell_type": "code",
   "execution_count": 40,
   "id": "1cb15945",
   "metadata": {},
   "outputs": [],
   "source": [
    "features = ['pct_poverty', 'pct_black', 'pct_college_plus', 'pct_mortgage']"
   ]
  },
  {
   "cell_type": "code",
   "execution_count": 41,
   "id": "88675331",
   "metadata": {},
   "outputs": [],
   "source": [
    "scaler = StandardScaler()\n",
    "tx_socioeconomic_scaled = scaler.fit_transform(tx_socioeconomic[features])"
   ]
  },
  {
   "cell_type": "code",
   "execution_count": 42,
   "id": "9df9d9de",
   "metadata": {},
   "outputs": [],
   "source": [
    "from sklearn.cluster import KMeans\n",
    "from sklearn.metrics import silhouette_score"
   ]
  },
  {
   "cell_type": "code",
   "execution_count": 43,
   "id": "0bff3c08",
   "metadata": {},
   "outputs": [
    {
     "name": "stderr",
     "output_type": "stream",
     "text": [
      "C:\\Users\\user\\anaconda3\\Lib\\site-packages\\sklearn\\cluster\\_kmeans.py:1412: FutureWarning: The default value of `n_init` will change from 10 to 'auto' in 1.4. Set the value of `n_init` explicitly to suppress the warning\n",
      "  super()._check_params_vs_input(X, default_n_init=10)\n"
     ]
    },
    {
     "name": "stdout",
     "output_type": "stream",
     "text": [
      "For n_clusters =2, the average silhouette_score is :0.317295754853063\n",
      "For n_clusters =3, the average silhouette_score is :0.34690824294218653\n"
     ]
    },
    {
     "name": "stderr",
     "output_type": "stream",
     "text": [
      "C:\\Users\\user\\anaconda3\\Lib\\site-packages\\sklearn\\cluster\\_kmeans.py:1412: FutureWarning: The default value of `n_init` will change from 10 to 'auto' in 1.4. Set the value of `n_init` explicitly to suppress the warning\n",
      "  super()._check_params_vs_input(X, default_n_init=10)\n",
      "C:\\Users\\user\\anaconda3\\Lib\\site-packages\\sklearn\\cluster\\_kmeans.py:1412: FutureWarning: The default value of `n_init` will change from 10 to 'auto' in 1.4. Set the value of `n_init` explicitly to suppress the warning\n",
      "  super()._check_params_vs_input(X, default_n_init=10)\n"
     ]
    },
    {
     "name": "stdout",
     "output_type": "stream",
     "text": [
      "For n_clusters =4, the average silhouette_score is :0.2976261520877028\n",
      "For n_clusters =5, the average silhouette_score is :0.2447749637520147\n"
     ]
    },
    {
     "name": "stderr",
     "output_type": "stream",
     "text": [
      "C:\\Users\\user\\anaconda3\\Lib\\site-packages\\sklearn\\cluster\\_kmeans.py:1412: FutureWarning: The default value of `n_init` will change from 10 to 'auto' in 1.4. Set the value of `n_init` explicitly to suppress the warning\n",
      "  super()._check_params_vs_input(X, default_n_init=10)\n",
      "C:\\Users\\user\\anaconda3\\Lib\\site-packages\\sklearn\\cluster\\_kmeans.py:1412: FutureWarning: The default value of `n_init` will change from 10 to 'auto' in 1.4. Set the value of `n_init` explicitly to suppress the warning\n",
      "  super()._check_params_vs_input(X, default_n_init=10)\n"
     ]
    },
    {
     "name": "stdout",
     "output_type": "stream",
     "text": [
      "For n_clusters =6, the average silhouette_score is :0.23056240619987858\n",
      "For n_clusters =7, the average silhouette_score is :0.24809203937343863\n"
     ]
    },
    {
     "name": "stderr",
     "output_type": "stream",
     "text": [
      "C:\\Users\\user\\anaconda3\\Lib\\site-packages\\sklearn\\cluster\\_kmeans.py:1412: FutureWarning: The default value of `n_init` will change from 10 to 'auto' in 1.4. Set the value of `n_init` explicitly to suppress the warning\n",
      "  super()._check_params_vs_input(X, default_n_init=10)\n",
      "C:\\Users\\user\\anaconda3\\Lib\\site-packages\\sklearn\\cluster\\_kmeans.py:1412: FutureWarning: The default value of `n_init` will change from 10 to 'auto' in 1.4. Set the value of `n_init` explicitly to suppress the warning\n",
      "  super()._check_params_vs_input(X, default_n_init=10)\n"
     ]
    },
    {
     "name": "stdout",
     "output_type": "stream",
     "text": [
      "For n_clusters =8, the average silhouette_score is :0.24210801837549212\n",
      "For n_clusters =9, the average silhouette_score is :0.24731556356001957\n"
     ]
    },
    {
     "name": "stderr",
     "output_type": "stream",
     "text": [
      "C:\\Users\\user\\anaconda3\\Lib\\site-packages\\sklearn\\cluster\\_kmeans.py:1412: FutureWarning: The default value of `n_init` will change from 10 to 'auto' in 1.4. Set the value of `n_init` explicitly to suppress the warning\n",
      "  super()._check_params_vs_input(X, default_n_init=10)\n",
      "C:\\Users\\user\\anaconda3\\Lib\\site-packages\\sklearn\\cluster\\_kmeans.py:1412: FutureWarning: The default value of `n_init` will change from 10 to 'auto' in 1.4. Set the value of `n_init` explicitly to suppress the warning\n",
      "  super()._check_params_vs_input(X, default_n_init=10)\n"
     ]
    },
    {
     "name": "stdout",
     "output_type": "stream",
     "text": [
      "For n_clusters =10, the average silhouette_score is :0.22482243811778432\n"
     ]
    }
   ],
   "source": [
    "#Clustering\n",
    "range_n_clusters = [2, 3, 4, 5, 6, 7, 8, 9, 10]\n",
    "for k in range_n_clusters: #try different numbers of clusters\n",
    "    kmeans = KMeans(n_clusters=k, random_state=324)\n",
    "    cluster_labels = kmeans.fit_predict(tx_socioeconomic_scaled)\n",
    "    #report average Silhouette score\n",
    "    silhouette_avg = silhouette_score(tx_socioeconomic_scaled, cluster_labels)\n",
    "    print(\"For n_clusters ={},\".format(k)+\" the average silhouette_score is :{}\".format(silhouette_avg))"
   ]
  },
  {
   "cell_type": "code",
   "execution_count": 44,
   "id": "0fe4d122",
   "metadata": {},
   "outputs": [
    {
     "name": "stderr",
     "output_type": "stream",
     "text": [
      "C:\\Users\\user\\anaconda3\\Lib\\site-packages\\sklearn\\cluster\\_kmeans.py:1412: FutureWarning: The default value of `n_init` will change from 10 to 'auto' in 1.4. Set the value of `n_init` explicitly to suppress the warning\n",
      "  super()._check_params_vs_input(X, default_n_init=10)\n"
     ]
    }
   ],
   "source": [
    "kmeans = KMeans(n_clusters=3, random_state=324)\n",
    "cluster_labels = kmeans.fit_predict(tx_socioeconomic_scaled)"
   ]
  },
  {
   "cell_type": "code",
   "execution_count": 45,
   "id": "c65139cb",
   "metadata": {},
   "outputs": [],
   "source": [
    "tx_socioeconomic['cluster'] = cluster_labels"
   ]
  },
  {
   "cell_type": "code",
   "execution_count": 46,
   "id": "64d6ce15",
   "metadata": {},
   "outputs": [
    {
     "name": "stdout",
     "output_type": "stream",
     "text": [
      "         pct_poverty  pct_black  pct_college_plus  pct_mortgage\n",
      "cluster                                                        \n",
      "0           0.163953   0.040533          0.160540      0.357306\n",
      "1           0.215947   0.377128          0.170100      0.467484\n",
      "2           0.077369   0.073625          0.436638      0.643711\n"
     ]
    }
   ],
   "source": [
    "cluster_profile = tx_socioeconomic.groupby('cluster')[features].mean()\n",
    "print(cluster_profile)"
   ]
  },
  {
   "cell_type": "code",
   "execution_count": 47,
   "id": "cda5f0b1",
   "metadata": {},
   "outputs": [
    {
     "data": {
      "text/html": [
       "<div>\n",
       "<style scoped>\n",
       "    .dataframe tbody tr th:only-of-type {\n",
       "        vertical-align: middle;\n",
       "    }\n",
       "\n",
       "    .dataframe tbody tr th {\n",
       "        vertical-align: top;\n",
       "    }\n",
       "\n",
       "    .dataframe thead th {\n",
       "        text-align: right;\n",
       "    }\n",
       "</style>\n",
       "<table border=\"1\" class=\"dataframe\">\n",
       "  <thead>\n",
       "    <tr style=\"text-align: right;\">\n",
       "      <th></th>\n",
       "      <th>zip</th>\n",
       "      <th>pct_poverty</th>\n",
       "      <th>pct_black</th>\n",
       "      <th>pct_college_plus</th>\n",
       "      <th>pct_mortgage</th>\n",
       "      <th>lat</th>\n",
       "      <th>lng</th>\n",
       "      <th>city</th>\n",
       "      <th>state_id</th>\n",
       "      <th>state_name</th>\n",
       "      <th>...</th>\n",
       "      <th>density</th>\n",
       "      <th>county_fips</th>\n",
       "      <th>county_name</th>\n",
       "      <th>county_weights</th>\n",
       "      <th>county_names_all</th>\n",
       "      <th>county_fips_all</th>\n",
       "      <th>imprecise</th>\n",
       "      <th>military</th>\n",
       "      <th>timezone</th>\n",
       "      <th>cluster</th>\n",
       "    </tr>\n",
       "  </thead>\n",
       "  <tbody>\n",
       "    <tr>\n",
       "      <th>0</th>\n",
       "      <td>77831</td>\n",
       "      <td>0.179931</td>\n",
       "      <td>0.036175</td>\n",
       "      <td>0.181982</td>\n",
       "      <td>0.504107</td>\n",
       "      <td>30.73144</td>\n",
       "      <td>-95.90933</td>\n",
       "      <td>Bedias</td>\n",
       "      <td>TX</td>\n",
       "      <td>Texas</td>\n",
       "      <td>...</td>\n",
       "      <td>5.4</td>\n",
       "      <td>48185</td>\n",
       "      <td>Grimes</td>\n",
       "      <td>{\"48185\": 76.53, \"48471\": 22.23, \"48313\": 1.24}</td>\n",
       "      <td>Grimes|Walker|Madison</td>\n",
       "      <td>48185|48471|48313</td>\n",
       "      <td>False</td>\n",
       "      <td>False</td>\n",
       "      <td>America/Chicago</td>\n",
       "      <td>0</td>\n",
       "    </tr>\n",
       "    <tr>\n",
       "      <th>1</th>\n",
       "      <td>77837</td>\n",
       "      <td>0.213080</td>\n",
       "      <td>0.457336</td>\n",
       "      <td>0.124043</td>\n",
       "      <td>0.291581</td>\n",
       "      <td>31.00704</td>\n",
       "      <td>-96.67718</td>\n",
       "      <td>Calvert</td>\n",
       "      <td>TX</td>\n",
       "      <td>Texas</td>\n",
       "      <td>...</td>\n",
       "      <td>4.4</td>\n",
       "      <td>48395</td>\n",
       "      <td>Robertson</td>\n",
       "      <td>{\"48395\": 100}</td>\n",
       "      <td>Robertson</td>\n",
       "      <td>48395</td>\n",
       "      <td>False</td>\n",
       "      <td>False</td>\n",
       "      <td>America/Chicago</td>\n",
       "      <td>1</td>\n",
       "    </tr>\n",
       "    <tr>\n",
       "      <th>2</th>\n",
       "      <td>77840</td>\n",
       "      <td>0.470817</td>\n",
       "      <td>0.092486</td>\n",
       "      <td>0.516263</td>\n",
       "      <td>0.446392</td>\n",
       "      <td>30.61150</td>\n",
       "      <td>-96.32332</td>\n",
       "      <td>College Station</td>\n",
       "      <td>TX</td>\n",
       "      <td>Texas</td>\n",
       "      <td>...</td>\n",
       "      <td>2138.2</td>\n",
       "      <td>48041</td>\n",
       "      <td>Brazos</td>\n",
       "      <td>{\"48041\": 100}</td>\n",
       "      <td>Brazos</td>\n",
       "      <td>48041</td>\n",
       "      <td>False</td>\n",
       "      <td>False</td>\n",
       "      <td>America/Chicago</td>\n",
       "      <td>0</td>\n",
       "    </tr>\n",
       "    <tr>\n",
       "      <th>3</th>\n",
       "      <td>77969</td>\n",
       "      <td>0.000000</td>\n",
       "      <td>0.000000</td>\n",
       "      <td>0.120930</td>\n",
       "      <td>0.589041</td>\n",
       "      <td>28.77579</td>\n",
       "      <td>-96.64719</td>\n",
       "      <td>La Salle</td>\n",
       "      <td>TX</td>\n",
       "      <td>Texas</td>\n",
       "      <td>...</td>\n",
       "      <td>1.7</td>\n",
       "      <td>48239</td>\n",
       "      <td>Jackson</td>\n",
       "      <td>{\"48239\": 100}</td>\n",
       "      <td>Jackson</td>\n",
       "      <td>48239</td>\n",
       "      <td>False</td>\n",
       "      <td>False</td>\n",
       "      <td>America/Chicago</td>\n",
       "      <td>0</td>\n",
       "    </tr>\n",
       "    <tr>\n",
       "      <th>4</th>\n",
       "      <td>77990</td>\n",
       "      <td>0.154131</td>\n",
       "      <td>0.018496</td>\n",
       "      <td>0.198400</td>\n",
       "      <td>0.351111</td>\n",
       "      <td>28.48098</td>\n",
       "      <td>-96.93438</td>\n",
       "      <td>Tivoli</td>\n",
       "      <td>TX</td>\n",
       "      <td>Texas</td>\n",
       "      <td>...</td>\n",
       "      <td>2.3</td>\n",
       "      <td>48391</td>\n",
       "      <td>Refugio</td>\n",
       "      <td>{\"48391\": 72.18, \"48057\": 27.82}</td>\n",
       "      <td>Refugio|Calhoun</td>\n",
       "      <td>48391|48057</td>\n",
       "      <td>False</td>\n",
       "      <td>False</td>\n",
       "      <td>America/Chicago</td>\n",
       "      <td>0</td>\n",
       "    </tr>\n",
       "    <tr>\n",
       "      <th>...</th>\n",
       "      <td>...</td>\n",
       "      <td>...</td>\n",
       "      <td>...</td>\n",
       "      <td>...</td>\n",
       "      <td>...</td>\n",
       "      <td>...</td>\n",
       "      <td>...</td>\n",
       "      <td>...</td>\n",
       "      <td>...</td>\n",
       "      <td>...</td>\n",
       "      <td>...</td>\n",
       "      <td>...</td>\n",
       "      <td>...</td>\n",
       "      <td>...</td>\n",
       "      <td>...</td>\n",
       "      <td>...</td>\n",
       "      <td>...</td>\n",
       "      <td>...</td>\n",
       "      <td>...</td>\n",
       "      <td>...</td>\n",
       "      <td>...</td>\n",
       "    </tr>\n",
       "    <tr>\n",
       "      <th>1920</th>\n",
       "      <td>76825</td>\n",
       "      <td>0.166120</td>\n",
       "      <td>0.012594</td>\n",
       "      <td>0.166280</td>\n",
       "      <td>0.465451</td>\n",
       "      <td>31.09493</td>\n",
       "      <td>-99.39329</td>\n",
       "      <td>Brady</td>\n",
       "      <td>TX</td>\n",
       "      <td>Texas</td>\n",
       "      <td>...</td>\n",
       "      <td>5.3</td>\n",
       "      <td>48307</td>\n",
       "      <td>McCulloch</td>\n",
       "      <td>{\"48307\": 97.25, \"48319\": 2.75}</td>\n",
       "      <td>McCulloch|Mason</td>\n",
       "      <td>48307|48319</td>\n",
       "      <td>False</td>\n",
       "      <td>False</td>\n",
       "      <td>America/Chicago</td>\n",
       "      <td>0</td>\n",
       "    </tr>\n",
       "    <tr>\n",
       "      <th>1921</th>\n",
       "      <td>78219</td>\n",
       "      <td>0.239317</td>\n",
       "      <td>0.311503</td>\n",
       "      <td>0.122646</td>\n",
       "      <td>0.388785</td>\n",
       "      <td>29.44137</td>\n",
       "      <td>-98.38459</td>\n",
       "      <td>San Antonio</td>\n",
       "      <td>TX</td>\n",
       "      <td>Texas</td>\n",
       "      <td>...</td>\n",
       "      <td>416.2</td>\n",
       "      <td>48029</td>\n",
       "      <td>Bexar</td>\n",
       "      <td>{\"48029\": 100}</td>\n",
       "      <td>Bexar</td>\n",
       "      <td>48029</td>\n",
       "      <td>False</td>\n",
       "      <td>False</td>\n",
       "      <td>America/Chicago</td>\n",
       "      <td>1</td>\n",
       "    </tr>\n",
       "    <tr>\n",
       "      <th>1922</th>\n",
       "      <td>78223</td>\n",
       "      <td>0.202419</td>\n",
       "      <td>0.043065</td>\n",
       "      <td>0.118245</td>\n",
       "      <td>0.583447</td>\n",
       "      <td>29.31102</td>\n",
       "      <td>-98.38675</td>\n",
       "      <td>San Antonio</td>\n",
       "      <td>TX</td>\n",
       "      <td>Texas</td>\n",
       "      <td>...</td>\n",
       "      <td>540.8</td>\n",
       "      <td>48029</td>\n",
       "      <td>Bexar</td>\n",
       "      <td>{\"48029\": 91.62, \"48493\": 8.38}</td>\n",
       "      <td>Bexar|Wilson</td>\n",
       "      <td>48029|48493</td>\n",
       "      <td>False</td>\n",
       "      <td>False</td>\n",
       "      <td>America/Chicago</td>\n",
       "      <td>0</td>\n",
       "    </tr>\n",
       "    <tr>\n",
       "      <th>1923</th>\n",
       "      <td>78225</td>\n",
       "      <td>0.294126</td>\n",
       "      <td>0.001797</td>\n",
       "      <td>0.087727</td>\n",
       "      <td>0.374692</td>\n",
       "      <td>29.38795</td>\n",
       "      <td>-98.52586</td>\n",
       "      <td>San Antonio</td>\n",
       "      <td>TX</td>\n",
       "      <td>Texas</td>\n",
       "      <td>...</td>\n",
       "      <td>2640.6</td>\n",
       "      <td>48029</td>\n",
       "      <td>Bexar</td>\n",
       "      <td>{\"48029\": 100}</td>\n",
       "      <td>Bexar</td>\n",
       "      <td>48029</td>\n",
       "      <td>False</td>\n",
       "      <td>False</td>\n",
       "      <td>America/Chicago</td>\n",
       "      <td>0</td>\n",
       "    </tr>\n",
       "    <tr>\n",
       "      <th>1924</th>\n",
       "      <td>78227</td>\n",
       "      <td>0.218797</td>\n",
       "      <td>0.066681</td>\n",
       "      <td>0.083698</td>\n",
       "      <td>0.451713</td>\n",
       "      <td>29.39654</td>\n",
       "      <td>-98.64019</td>\n",
       "      <td>San Antonio</td>\n",
       "      <td>TX</td>\n",
       "      <td>Texas</td>\n",
       "      <td>...</td>\n",
       "      <td>892.1</td>\n",
       "      <td>48029</td>\n",
       "      <td>Bexar</td>\n",
       "      <td>{\"48029\": 100}</td>\n",
       "      <td>Bexar</td>\n",
       "      <td>48029</td>\n",
       "      <td>False</td>\n",
       "      <td>False</td>\n",
       "      <td>America/Chicago</td>\n",
       "      <td>0</td>\n",
       "    </tr>\n",
       "  </tbody>\n",
       "</table>\n",
       "<p>1868 rows × 23 columns</p>\n",
       "</div>"
      ],
      "text/plain": [
       "        zip  pct_poverty  pct_black  pct_college_plus  pct_mortgage       lat  \\\n",
       "0     77831     0.179931   0.036175          0.181982      0.504107  30.73144   \n",
       "1     77837     0.213080   0.457336          0.124043      0.291581  31.00704   \n",
       "2     77840     0.470817   0.092486          0.516263      0.446392  30.61150   \n",
       "3     77969     0.000000   0.000000          0.120930      0.589041  28.77579   \n",
       "4     77990     0.154131   0.018496          0.198400      0.351111  28.48098   \n",
       "...     ...          ...        ...               ...           ...       ...   \n",
       "1920  76825     0.166120   0.012594          0.166280      0.465451  31.09493   \n",
       "1921  78219     0.239317   0.311503          0.122646      0.388785  29.44137   \n",
       "1922  78223     0.202419   0.043065          0.118245      0.583447  29.31102   \n",
       "1923  78225     0.294126   0.001797          0.087727      0.374692  29.38795   \n",
       "1924  78227     0.218797   0.066681          0.083698      0.451713  29.39654   \n",
       "\n",
       "           lng             city state_id state_name  ...  density  \\\n",
       "0    -95.90933           Bedias       TX      Texas  ...      5.4   \n",
       "1    -96.67718          Calvert       TX      Texas  ...      4.4   \n",
       "2    -96.32332  College Station       TX      Texas  ...   2138.2   \n",
       "3    -96.64719         La Salle       TX      Texas  ...      1.7   \n",
       "4    -96.93438           Tivoli       TX      Texas  ...      2.3   \n",
       "...        ...              ...      ...        ...  ...      ...   \n",
       "1920 -99.39329            Brady       TX      Texas  ...      5.3   \n",
       "1921 -98.38459      San Antonio       TX      Texas  ...    416.2   \n",
       "1922 -98.38675      San Antonio       TX      Texas  ...    540.8   \n",
       "1923 -98.52586      San Antonio       TX      Texas  ...   2640.6   \n",
       "1924 -98.64019      San Antonio       TX      Texas  ...    892.1   \n",
       "\n",
       "      county_fips  county_name  \\\n",
       "0           48185       Grimes   \n",
       "1           48395    Robertson   \n",
       "2           48041       Brazos   \n",
       "3           48239      Jackson   \n",
       "4           48391      Refugio   \n",
       "...           ...          ...   \n",
       "1920        48307    McCulloch   \n",
       "1921        48029        Bexar   \n",
       "1922        48029        Bexar   \n",
       "1923        48029        Bexar   \n",
       "1924        48029        Bexar   \n",
       "\n",
       "                                       county_weights       county_names_all  \\\n",
       "0     {\"48185\": 76.53, \"48471\": 22.23, \"48313\": 1.24}  Grimes|Walker|Madison   \n",
       "1                                      {\"48395\": 100}              Robertson   \n",
       "2                                      {\"48041\": 100}                 Brazos   \n",
       "3                                      {\"48239\": 100}                Jackson   \n",
       "4                    {\"48391\": 72.18, \"48057\": 27.82}        Refugio|Calhoun   \n",
       "...                                               ...                    ...   \n",
       "1920                  {\"48307\": 97.25, \"48319\": 2.75}        McCulloch|Mason   \n",
       "1921                                   {\"48029\": 100}                  Bexar   \n",
       "1922                  {\"48029\": 91.62, \"48493\": 8.38}           Bexar|Wilson   \n",
       "1923                                   {\"48029\": 100}                  Bexar   \n",
       "1924                                   {\"48029\": 100}                  Bexar   \n",
       "\n",
       "        county_fips_all imprecise military         timezone  cluster  \n",
       "0     48185|48471|48313     False    False  America/Chicago        0  \n",
       "1                 48395     False    False  America/Chicago        1  \n",
       "2                 48041     False    False  America/Chicago        0  \n",
       "3                 48239     False    False  America/Chicago        0  \n",
       "4           48391|48057     False    False  America/Chicago        0  \n",
       "...                 ...       ...      ...              ...      ...  \n",
       "1920        48307|48319     False    False  America/Chicago        0  \n",
       "1921              48029     False    False  America/Chicago        1  \n",
       "1922        48029|48493     False    False  America/Chicago        0  \n",
       "1923              48029     False    False  America/Chicago        0  \n",
       "1924              48029     False    False  America/Chicago        0  \n",
       "\n",
       "[1868 rows x 23 columns]"
      ]
     },
     "execution_count": 47,
     "metadata": {},
     "output_type": "execute_result"
    }
   ],
   "source": [
    "tx_socioeconomic"
   ]
  },
  {
   "cell_type": "code",
   "execution_count": 48,
   "id": "620f3955",
   "metadata": {},
   "outputs": [],
   "source": [
    "tx_socioeconomic.to_csv(\"tx_socioeconomic.csv\", index=False)"
   ]
  }
 ],
 "metadata": {
  "kernelspec": {
   "display_name": "Python (Anaconda Base)",
   "language": "python",
   "name": "base"
  },
  "language_info": {
   "codemirror_mode": {
    "name": "ipython",
    "version": 3
   },
   "file_extension": ".py",
   "mimetype": "text/x-python",
   "name": "python",
   "nbconvert_exporter": "python",
   "pygments_lexer": "ipython3",
   "version": "3.11.4"
  }
 },
 "nbformat": 4,
 "nbformat_minor": 5
}
