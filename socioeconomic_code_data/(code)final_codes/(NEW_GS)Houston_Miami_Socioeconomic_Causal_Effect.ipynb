{
 "cells": [
  {
   "cell_type": "code",
   "execution_count": 1,
   "id": "743b65cb",
   "metadata": {},
   "outputs": [],
   "source": [
    "import pandas as pd"
   ]
  },
  {
   "cell_type": "code",
   "execution_count": 2,
   "id": "ad8ab2f9",
   "metadata": {},
   "outputs": [],
   "source": [
    "#Get the socioeconomic status per zipcode"
   ]
  },
  {
   "cell_type": "code",
   "execution_count": 3,
   "id": "77318c9c",
   "metadata": {},
   "outputs": [],
   "source": [
    "socioeconomic_df = pd.read_csv(\"acs_socioeconomic_2019.csv\")"
   ]
  },
  {
   "cell_type": "code",
   "execution_count": 9,
   "id": "13ad7717",
   "metadata": {},
   "outputs": [
    {
     "data": {
      "text/html": [
       "<div>\n",
       "<style scoped>\n",
       "    .dataframe tbody tr th:only-of-type {\n",
       "        vertical-align: middle;\n",
       "    }\n",
       "\n",
       "    .dataframe tbody tr th {\n",
       "        vertical-align: top;\n",
       "    }\n",
       "\n",
       "    .dataframe thead th {\n",
       "        text-align: right;\n",
       "    }\n",
       "</style>\n",
       "<table border=\"1\" class=\"dataframe\">\n",
       "  <thead>\n",
       "    <tr style=\"text-align: right;\">\n",
       "      <th></th>\n",
       "      <th>zip</th>\n",
       "      <th>pct_poverty</th>\n",
       "      <th>pct_black</th>\n",
       "      <th>pct_college_plus</th>\n",
       "      <th>pct_mortgage</th>\n",
       "    </tr>\n",
       "  </thead>\n",
       "  <tbody>\n",
       "    <tr>\n",
       "      <th>0</th>\n",
       "      <td>25245</td>\n",
       "      <td>0.116667</td>\n",
       "      <td>0.000000</td>\n",
       "      <td>0.074148</td>\n",
       "      <td>0.176692</td>\n",
       "    </tr>\n",
       "    <tr>\n",
       "      <th>1</th>\n",
       "      <td>25268</td>\n",
       "      <td>0.259336</td>\n",
       "      <td>0.000000</td>\n",
       "      <td>0.249664</td>\n",
       "      <td>0.467532</td>\n",
       "    </tr>\n",
       "    <tr>\n",
       "      <th>2</th>\n",
       "      <td>25286</td>\n",
       "      <td>0.284118</td>\n",
       "      <td>0.000000</td>\n",
       "      <td>0.045030</td>\n",
       "      <td>0.548263</td>\n",
       "    </tr>\n",
       "    <tr>\n",
       "      <th>3</th>\n",
       "      <td>25303</td>\n",
       "      <td>0.105318</td>\n",
       "      <td>0.092253</td>\n",
       "      <td>0.391691</td>\n",
       "      <td>0.607481</td>\n",
       "    </tr>\n",
       "    <tr>\n",
       "      <th>4</th>\n",
       "      <td>25311</td>\n",
       "      <td>0.246128</td>\n",
       "      <td>0.153594</td>\n",
       "      <td>0.264175</td>\n",
       "      <td>0.478395</td>\n",
       "    </tr>\n",
       "  </tbody>\n",
       "</table>\n",
       "</div>"
      ],
      "text/plain": [
       "     zip  pct_poverty  pct_black  pct_college_plus  pct_mortgage\n",
       "0  25245     0.116667   0.000000          0.074148      0.176692\n",
       "1  25268     0.259336   0.000000          0.249664      0.467532\n",
       "2  25286     0.284118   0.000000          0.045030      0.548263\n",
       "3  25303     0.105318   0.092253          0.391691      0.607481\n",
       "4  25311     0.246128   0.153594          0.264175      0.478395"
      ]
     },
     "execution_count": 9,
     "metadata": {},
     "output_type": "execute_result"
    }
   ],
   "source": [
    "socioeconomic_df.head()"
   ]
  },
  {
   "cell_type": "code",
   "execution_count": 10,
   "id": "9d81c1a2",
   "metadata": {},
   "outputs": [],
   "source": [
    "#Read causal effect file(houston)"
   ]
  },
  {
   "cell_type": "code",
   "execution_count": 11,
   "id": "f2a12be0",
   "metadata": {},
   "outputs": [],
   "source": [
    "houston_tx_treatment_effect = pd.read_csv('houston_tx_climate_causal_effect.csv')"
   ]
  },
  {
   "cell_type": "code",
   "execution_count": 12,
   "id": "743845c3",
   "metadata": {},
   "outputs": [
    {
     "data": {
      "text/html": [
       "<div>\n",
       "<style scoped>\n",
       "    .dataframe tbody tr th:only-of-type {\n",
       "        vertical-align: middle;\n",
       "    }\n",
       "\n",
       "    .dataframe tbody tr th {\n",
       "        vertical-align: top;\n",
       "    }\n",
       "\n",
       "    .dataframe thead th {\n",
       "        text-align: right;\n",
       "    }\n",
       "</style>\n",
       "<table border=\"1\" class=\"dataframe\">\n",
       "  <thead>\n",
       "    <tr style=\"text-align: right;\">\n",
       "      <th></th>\n",
       "      <th>Unnamed: 0</th>\n",
       "      <th>zip</th>\n",
       "      <th>1</th>\n",
       "      <th>2</th>\n",
       "      <th>3</th>\n",
       "      <th>4</th>\n",
       "      <th>5</th>\n",
       "      <th>6</th>\n",
       "      <th>elderlyReturns</th>\n",
       "      <th>returnsTotalwSalariesWages</th>\n",
       "      <th>...</th>\n",
       "      <th>returnsEducationCredit</th>\n",
       "      <th>risk_group</th>\n",
       "      <th>propensity_score</th>\n",
       "      <th>price_shift</th>\n",
       "      <th>y_0</th>\n",
       "      <th>y_0_corrected</th>\n",
       "      <th>y_1</th>\n",
       "      <th>y_1_corrected</th>\n",
       "      <th>treatment_effect</th>\n",
       "      <th>treatment_effect_no_corr</th>\n",
       "    </tr>\n",
       "  </thead>\n",
       "  <tbody>\n",
       "    <tr>\n",
       "      <th>0</th>\n",
       "      <td>280</td>\n",
       "      <td>77002</td>\n",
       "      <td>0.192192</td>\n",
       "      <td>0.160661</td>\n",
       "      <td>0.171171</td>\n",
       "      <td>0.114114</td>\n",
       "      <td>0.201201</td>\n",
       "      <td>0.160661</td>\n",
       "      <td>0.108108</td>\n",
       "      <td>0.885886</td>\n",
       "      <td>...</td>\n",
       "      <td>0.063063</td>\n",
       "      <td>True</td>\n",
       "      <td>0.308428</td>\n",
       "      <td>-8.733000</td>\n",
       "      <td>11.489105</td>\n",
       "      <td>11.489105</td>\n",
       "      <td>3.136537</td>\n",
       "      <td>-35.347489</td>\n",
       "      <td>-46.836594</td>\n",
       "      <td>-8.352568</td>\n",
       "    </tr>\n",
       "    <tr>\n",
       "      <th>1</th>\n",
       "      <td>281</td>\n",
       "      <td>77003</td>\n",
       "      <td>0.250929</td>\n",
       "      <td>0.193309</td>\n",
       "      <td>0.146840</td>\n",
       "      <td>0.100372</td>\n",
       "      <td>0.210037</td>\n",
       "      <td>0.098513</td>\n",
       "      <td>0.109665</td>\n",
       "      <td>0.892193</td>\n",
       "      <td>...</td>\n",
       "      <td>0.055762</td>\n",
       "      <td>False</td>\n",
       "      <td>0.321954</td>\n",
       "      <td>-3.887645</td>\n",
       "      <td>11.743403</td>\n",
       "      <td>-11.309660</td>\n",
       "      <td>6.257732</td>\n",
       "      <td>6.257732</td>\n",
       "      <td>17.567392</td>\n",
       "      <td>-5.485672</td>\n",
       "    </tr>\n",
       "    <tr>\n",
       "      <th>2</th>\n",
       "      <td>282</td>\n",
       "      <td>77004</td>\n",
       "      <td>0.300871</td>\n",
       "      <td>0.194774</td>\n",
       "      <td>0.136184</td>\n",
       "      <td>0.086302</td>\n",
       "      <td>0.167854</td>\n",
       "      <td>0.114014</td>\n",
       "      <td>0.184481</td>\n",
       "      <td>0.857482</td>\n",
       "      <td>...</td>\n",
       "      <td>0.060966</td>\n",
       "      <td>True</td>\n",
       "      <td>0.343064</td>\n",
       "      <td>-1.595067</td>\n",
       "      <td>11.679975</td>\n",
       "      <td>11.679975</td>\n",
       "      <td>7.760785</td>\n",
       "      <td>-19.510698</td>\n",
       "      <td>-31.190673</td>\n",
       "      <td>-3.919190</td>\n",
       "    </tr>\n",
       "    <tr>\n",
       "      <th>3</th>\n",
       "      <td>283</td>\n",
       "      <td>77005</td>\n",
       "      <td>0.149162</td>\n",
       "      <td>0.082083</td>\n",
       "      <td>0.072374</td>\n",
       "      <td>0.064431</td>\n",
       "      <td>0.143866</td>\n",
       "      <td>0.488085</td>\n",
       "      <td>0.353045</td>\n",
       "      <td>0.742277</td>\n",
       "      <td>...</td>\n",
       "      <td>0.025596</td>\n",
       "      <td>True</td>\n",
       "      <td>0.346551</td>\n",
       "      <td>-0.111441</td>\n",
       "      <td>10.149339</td>\n",
       "      <td>10.149339</td>\n",
       "      <td>-3.896607</td>\n",
       "      <td>7.025772</td>\n",
       "      <td>-3.123567</td>\n",
       "      <td>-14.045946</td>\n",
       "    </tr>\n",
       "    <tr>\n",
       "      <th>4</th>\n",
       "      <td>284</td>\n",
       "      <td>77006</td>\n",
       "      <td>0.151919</td>\n",
       "      <td>0.158966</td>\n",
       "      <td>0.163665</td>\n",
       "      <td>0.116680</td>\n",
       "      <td>0.198121</td>\n",
       "      <td>0.210650</td>\n",
       "      <td>0.180110</td>\n",
       "      <td>0.855912</td>\n",
       "      <td>...</td>\n",
       "      <td>0.047768</td>\n",
       "      <td>True</td>\n",
       "      <td>0.283554</td>\n",
       "      <td>-3.160980</td>\n",
       "      <td>11.284557</td>\n",
       "      <td>11.284557</td>\n",
       "      <td>0.872246</td>\n",
       "      <td>-13.351602</td>\n",
       "      <td>-24.636159</td>\n",
       "      <td>-10.412311</td>\n",
       "    </tr>\n",
       "  </tbody>\n",
       "</table>\n",
       "<p>5 rows × 21 columns</p>\n",
       "</div>"
      ],
      "text/plain": [
       "   Unnamed: 0    zip         1         2         3         4         5  \\\n",
       "0         280  77002  0.192192  0.160661  0.171171  0.114114  0.201201   \n",
       "1         281  77003  0.250929  0.193309  0.146840  0.100372  0.210037   \n",
       "2         282  77004  0.300871  0.194774  0.136184  0.086302  0.167854   \n",
       "3         283  77005  0.149162  0.082083  0.072374  0.064431  0.143866   \n",
       "4         284  77006  0.151919  0.158966  0.163665  0.116680  0.198121   \n",
       "\n",
       "          6  elderlyReturns  returnsTotalwSalariesWages  ...  \\\n",
       "0  0.160661        0.108108                    0.885886  ...   \n",
       "1  0.098513        0.109665                    0.892193  ...   \n",
       "2  0.114014        0.184481                    0.857482  ...   \n",
       "3  0.488085        0.353045                    0.742277  ...   \n",
       "4  0.210650        0.180110                    0.855912  ...   \n",
       "\n",
       "   returnsEducationCredit  risk_group  propensity_score  price_shift  \\\n",
       "0                0.063063        True          0.308428    -8.733000   \n",
       "1                0.055762       False          0.321954    -3.887645   \n",
       "2                0.060966        True          0.343064    -1.595067   \n",
       "3                0.025596        True          0.346551    -0.111441   \n",
       "4                0.047768        True          0.283554    -3.160980   \n",
       "\n",
       "         y_0  y_0_corrected       y_1  y_1_corrected  treatment_effect  \\\n",
       "0  11.489105      11.489105  3.136537     -35.347489        -46.836594   \n",
       "1  11.743403     -11.309660  6.257732       6.257732         17.567392   \n",
       "2  11.679975      11.679975  7.760785     -19.510698        -31.190673   \n",
       "3  10.149339      10.149339 -3.896607       7.025772         -3.123567   \n",
       "4  11.284557      11.284557  0.872246     -13.351602        -24.636159   \n",
       "\n",
       "   treatment_effect_no_corr  \n",
       "0                 -8.352568  \n",
       "1                 -5.485672  \n",
       "2                 -3.919190  \n",
       "3                -14.045946  \n",
       "4                -10.412311  \n",
       "\n",
       "[5 rows x 21 columns]"
      ]
     },
     "execution_count": 12,
     "metadata": {},
     "output_type": "execute_result"
    }
   ],
   "source": [
    "houston_tx_treatment_effect.head()"
   ]
  },
  {
   "cell_type": "code",
   "execution_count": 13,
   "id": "ab5794cd",
   "metadata": {},
   "outputs": [],
   "source": [
    "#Merge by zip"
   ]
  },
  {
   "cell_type": "code",
   "execution_count": 14,
   "id": "92d72808",
   "metadata": {},
   "outputs": [
    {
     "name": "stderr",
     "output_type": "stream",
     "text": [
      "C:\\Users\\user\\AppData\\Local\\Temp\\ipykernel_38156\\267431552.py:1: SettingWithCopyWarning: \n",
      "A value is trying to be set on a copy of a slice from a DataFrame.\n",
      "Try using .loc[row_indexer,col_indexer] = value instead\n",
      "\n",
      "See the caveats in the documentation: https://pandas.pydata.org/pandas-docs/stable/user_guide/indexing.html#returning-a-view-versus-a-copy\n",
      "  socioeconomic_df['zip'] = socioeconomic_df['zip'].astype(str).str.zfill(5)\n"
     ]
    }
   ],
   "source": [
    "socioeconomic_df['zip'] = socioeconomic_df['zip'].astype(str).str.zfill(5)\n",
    "houston_tx_treatment_effect['zip'] = houston_tx_treatment_effect['zip'].astype(str).str.zfill(5)"
   ]
  },
  {
   "cell_type": "code",
   "execution_count": 15,
   "id": "54a63497",
   "metadata": {},
   "outputs": [],
   "source": [
    "houston_tx_socioeconomic_treatment_effect = pd.merge(socioeconomic_df, houston_tx_treatment_effect, on=\"zip\")"
   ]
  },
  {
   "cell_type": "code",
   "execution_count": 16,
   "id": "abfe9130",
   "metadata": {},
   "outputs": [],
   "source": [
    "#OLS regression treatment effect ~ socioeconomic variables"
   ]
  },
  {
   "cell_type": "code",
   "execution_count": 17,
   "id": "182df675",
   "metadata": {},
   "outputs": [
    {
     "name": "stdout",
     "output_type": "stream",
     "text": [
      "                               OLS Regression Results                               \n",
      "====================================================================================\n",
      "Dep. Variable:     treatment_effect_no_corr   R-squared:                       0.860\n",
      "Model:                                  OLS   Adj. R-squared:                  0.857\n",
      "Method:                       Least Squares   F-statistic:                     319.6\n",
      "Date:                      Thu, 08 May 2025   Prob (F-statistic):           1.36e-87\n",
      "Time:                              20:39:19   Log-Likelihood:                -396.94\n",
      "No. Observations:                       213   AIC:                             803.9\n",
      "Df Residuals:                           208   BIC:                             820.7\n",
      "Df Model:                                 4                                         \n",
      "Covariance Type:                  nonrobust                                         \n",
      "====================================================================================\n",
      "                       coef    std err          t      P>|t|      [0.025      0.975]\n",
      "------------------------------------------------------------------------------------\n",
      "const               -4.1972      0.735     -5.713      0.000      -5.646      -2.749\n",
      "pct_poverty         19.4191      1.825     10.642      0.000      15.822      23.016\n",
      "pct_black            5.4015      0.709      7.618      0.000       4.004       6.799\n",
      "pct_college_plus   -11.3275      0.690    -16.418      0.000     -12.688      -9.967\n",
      "pct_mortgage         1.4845      1.037      1.431      0.154      -0.560       3.529\n",
      "==============================================================================\n",
      "Omnibus:                       45.945   Durbin-Watson:                   1.779\n",
      "Prob(Omnibus):                  0.000   Jarque-Bera (JB):              112.943\n",
      "Skew:                          -0.958   Prob(JB):                     2.98e-25\n",
      "Kurtosis:                       6.010   Cond. No.                         22.5\n",
      "==============================================================================\n",
      "\n",
      "Notes:\n",
      "[1] Standard Errors assume that the covariance matrix of the errors is correctly specified.\n"
     ]
    }
   ],
   "source": [
    "import statsmodels.api as sm\n",
    "\n",
    "X = houston_tx_socioeconomic_treatment_effect[['pct_poverty', 'pct_black', 'pct_college_plus', 'pct_mortgage']]\n",
    "X = sm.add_constant(X)\n",
    "y = houston_tx_socioeconomic_treatment_effect['treatment_effect_no_corr']\n",
    "\n",
    "model = sm.OLS(y, X).fit()\n",
    "print(model.summary())"
   ]
  },
  {
   "cell_type": "code",
   "execution_count": 18,
   "id": "ee836b30",
   "metadata": {},
   "outputs": [
    {
     "data": {
      "text/plain": [
       "-2.943236416870285"
      ]
     },
     "execution_count": 18,
     "metadata": {},
     "output_type": "execute_result"
    }
   ],
   "source": [
    "# Mean treatment effect\n",
    "houston_tx_socioeconomic_treatment_effect['treatment_effect_no_corr'].mean()"
   ]
  },
  {
   "cell_type": "code",
   "execution_count": 19,
   "id": "0ea3b0d7",
   "metadata": {},
   "outputs": [],
   "source": [
    "# Mean treatment effect: Lower 25% & Upper 25%"
   ]
  },
  {
   "cell_type": "code",
   "execution_count": 20,
   "id": "0b4cc533",
   "metadata": {},
   "outputs": [],
   "source": [
    "low_poverty = houston_tx_socioeconomic_treatment_effect[houston_tx_socioeconomic_treatment_effect['pct_poverty'] <= houston_tx_socioeconomic_treatment_effect['pct_poverty'].quantile(0.25)]"
   ]
  },
  {
   "cell_type": "code",
   "execution_count": 21,
   "id": "a4f7a09c",
   "metadata": {},
   "outputs": [
    {
     "data": {
      "text/plain": [
       "-7.460176816808292"
      ]
     },
     "execution_count": 21,
     "metadata": {},
     "output_type": "execute_result"
    }
   ],
   "source": [
    "low_poverty['treatment_effect_no_corr'].mean()"
   ]
  },
  {
   "cell_type": "code",
   "execution_count": 22,
   "id": "24b801e9",
   "metadata": {},
   "outputs": [],
   "source": [
    "high_poverty = houston_tx_socioeconomic_treatment_effect[houston_tx_socioeconomic_treatment_effect['pct_poverty'] >= houston_tx_socioeconomic_treatment_effect['pct_poverty'].quantile(0.75)]"
   ]
  },
  {
   "cell_type": "code",
   "execution_count": 23,
   "id": "82c6d85e",
   "metadata": {},
   "outputs": [
    {
     "data": {
      "text/plain": [
       "1.3767354782589951"
      ]
     },
     "execution_count": 23,
     "metadata": {},
     "output_type": "execute_result"
    }
   ],
   "source": [
    "high_poverty['treatment_effect_no_corr'].mean()"
   ]
  },
  {
   "cell_type": "code",
   "execution_count": 24,
   "id": "94c5a154",
   "metadata": {},
   "outputs": [],
   "source": [
    "low_black = houston_tx_socioeconomic_treatment_effect[houston_tx_socioeconomic_treatment_effect['pct_black'] <= houston_tx_socioeconomic_treatment_effect['pct_black'].quantile(0.25)]"
   ]
  },
  {
   "cell_type": "code",
   "execution_count": 25,
   "id": "78473c90",
   "metadata": {},
   "outputs": [
    {
     "data": {
      "text/plain": [
       "-4.719913247219245"
      ]
     },
     "execution_count": 25,
     "metadata": {},
     "output_type": "execute_result"
    }
   ],
   "source": [
    "low_black['treatment_effect_no_corr'].mean()"
   ]
  },
  {
   "cell_type": "code",
   "execution_count": 26,
   "id": "9729b060",
   "metadata": {},
   "outputs": [],
   "source": [
    "high_black = houston_tx_socioeconomic_treatment_effect[houston_tx_socioeconomic_treatment_effect['pct_black'] >= houston_tx_socioeconomic_treatment_effect['pct_black'].quantile(0.75)]"
   ]
  },
  {
   "cell_type": "code",
   "execution_count": 27,
   "id": "ddceffe2",
   "metadata": {},
   "outputs": [
    {
     "data": {
      "text/plain": [
       "-0.10827415414954339"
      ]
     },
     "execution_count": 27,
     "metadata": {},
     "output_type": "execute_result"
    }
   ],
   "source": [
    "high_black['treatment_effect_no_corr'].mean()"
   ]
  },
  {
   "cell_type": "code",
   "execution_count": 28,
   "id": "f668f77a",
   "metadata": {},
   "outputs": [],
   "source": [
    "low_college = houston_tx_socioeconomic_treatment_effect[houston_tx_socioeconomic_treatment_effect['pct_college_plus'] <= houston_tx_socioeconomic_treatment_effect['pct_college_plus'].quantile(0.25)]"
   ]
  },
  {
   "cell_type": "code",
   "execution_count": 29,
   "id": "8c896ec2",
   "metadata": {},
   "outputs": [
    {
     "data": {
      "text/plain": [
       "0.935256512461053"
      ]
     },
     "execution_count": 29,
     "metadata": {},
     "output_type": "execute_result"
    }
   ],
   "source": [
    "low_college['treatment_effect_no_corr'].mean()"
   ]
  },
  {
   "cell_type": "code",
   "execution_count": 30,
   "id": "6288bf27",
   "metadata": {},
   "outputs": [],
   "source": [
    "high_college = houston_tx_socioeconomic_treatment_effect[houston_tx_socioeconomic_treatment_effect['pct_college_plus'] >= houston_tx_socioeconomic_treatment_effect['pct_college_plus'].quantile(0.75)]"
   ]
  },
  {
   "cell_type": "code",
   "execution_count": 31,
   "id": "b0e1088e",
   "metadata": {},
   "outputs": [
    {
     "data": {
      "text/plain": [
       "-7.6953435685726825"
      ]
     },
     "execution_count": 31,
     "metadata": {},
     "output_type": "execute_result"
    }
   ],
   "source": [
    "high_college['treatment_effect_no_corr'].mean()"
   ]
  },
  {
   "cell_type": "code",
   "execution_count": 32,
   "id": "95621a3b",
   "metadata": {},
   "outputs": [],
   "source": [
    "#Read causal effect file(miami)"
   ]
  },
  {
   "cell_type": "code",
   "execution_count": 33,
   "id": "a754fcff",
   "metadata": {},
   "outputs": [],
   "source": [
    "miami_fl_treatment_effect = pd.read_csv('miami_fl_climate_causal_effect.csv')"
   ]
  },
  {
   "cell_type": "code",
   "execution_count": 34,
   "id": "483137a6",
   "metadata": {},
   "outputs": [
    {
     "data": {
      "text/html": [
       "<div>\n",
       "<style scoped>\n",
       "    .dataframe tbody tr th:only-of-type {\n",
       "        vertical-align: middle;\n",
       "    }\n",
       "\n",
       "    .dataframe tbody tr th {\n",
       "        vertical-align: top;\n",
       "    }\n",
       "\n",
       "    .dataframe thead th {\n",
       "        text-align: right;\n",
       "    }\n",
       "</style>\n",
       "<table border=\"1\" class=\"dataframe\">\n",
       "  <thead>\n",
       "    <tr style=\"text-align: right;\">\n",
       "      <th></th>\n",
       "      <th>Unnamed: 0</th>\n",
       "      <th>zip</th>\n",
       "      <th>1</th>\n",
       "      <th>2</th>\n",
       "      <th>3</th>\n",
       "      <th>4</th>\n",
       "      <th>5</th>\n",
       "      <th>6</th>\n",
       "      <th>elderlyReturns</th>\n",
       "      <th>returnsTotalwSalariesWages</th>\n",
       "      <th>...</th>\n",
       "      <th>returnsEducationCredit</th>\n",
       "      <th>risk_group</th>\n",
       "      <th>propensity_score</th>\n",
       "      <th>price_shift</th>\n",
       "      <th>y_0</th>\n",
       "      <th>y_0_corrected</th>\n",
       "      <th>y_1</th>\n",
       "      <th>y_1_corrected</th>\n",
       "      <th>treatment_effect</th>\n",
       "      <th>treatment_effect_no_corr</th>\n",
       "    </tr>\n",
       "  </thead>\n",
       "  <tbody>\n",
       "    <tr>\n",
       "      <th>0</th>\n",
       "      <td>269</td>\n",
       "      <td>33004</td>\n",
       "      <td>0.360234</td>\n",
       "      <td>0.260819</td>\n",
       "      <td>0.147368</td>\n",
       "      <td>0.086550</td>\n",
       "      <td>0.105263</td>\n",
       "      <td>0.039766</td>\n",
       "      <td>0.256140</td>\n",
       "      <td>0.770760</td>\n",
       "      <td>...</td>\n",
       "      <td>0.045614</td>\n",
       "      <td>False</td>\n",
       "      <td>0.442626</td>\n",
       "      <td>16.285307</td>\n",
       "      <td>21.387355</td>\n",
       "      <td>12.233626</td>\n",
       "      <td>22.418959</td>\n",
       "      <td>22.418959</td>\n",
       "      <td>10.185332</td>\n",
       "      <td>1.031603</td>\n",
       "    </tr>\n",
       "    <tr>\n",
       "      <th>1</th>\n",
       "      <td>270</td>\n",
       "      <td>33009</td>\n",
       "      <td>0.406321</td>\n",
       "      <td>0.247856</td>\n",
       "      <td>0.130926</td>\n",
       "      <td>0.070880</td>\n",
       "      <td>0.093002</td>\n",
       "      <td>0.051016</td>\n",
       "      <td>0.283070</td>\n",
       "      <td>0.654628</td>\n",
       "      <td>...</td>\n",
       "      <td>0.039729</td>\n",
       "      <td>True</td>\n",
       "      <td>0.489598</td>\n",
       "      <td>1.118005</td>\n",
       "      <td>23.364697</td>\n",
       "      <td>23.364697</td>\n",
       "      <td>25.084658</td>\n",
       "      <td>-23.867029</td>\n",
       "      <td>-47.231725</td>\n",
       "      <td>1.719961</td>\n",
       "    </tr>\n",
       "    <tr>\n",
       "      <th>2</th>\n",
       "      <td>271</td>\n",
       "      <td>33010</td>\n",
       "      <td>0.511454</td>\n",
       "      <td>0.307930</td>\n",
       "      <td>0.107048</td>\n",
       "      <td>0.037445</td>\n",
       "      <td>0.030837</td>\n",
       "      <td>0.005286</td>\n",
       "      <td>0.176652</td>\n",
       "      <td>0.730837</td>\n",
       "      <td>...</td>\n",
       "      <td>0.057709</td>\n",
       "      <td>False</td>\n",
       "      <td>0.453532</td>\n",
       "      <td>26.599831</td>\n",
       "      <td>29.512883</td>\n",
       "      <td>24.182191</td>\n",
       "      <td>34.015797</td>\n",
       "      <td>34.015797</td>\n",
       "      <td>9.833607</td>\n",
       "      <td>4.502914</td>\n",
       "    </tr>\n",
       "    <tr>\n",
       "      <th>3</th>\n",
       "      <td>272</td>\n",
       "      <td>33012</td>\n",
       "      <td>0.452000</td>\n",
       "      <td>0.313867</td>\n",
       "      <td>0.125867</td>\n",
       "      <td>0.052000</td>\n",
       "      <td>0.047733</td>\n",
       "      <td>0.008533</td>\n",
       "      <td>0.188000</td>\n",
       "      <td>0.737867</td>\n",
       "      <td>...</td>\n",
       "      <td>0.063733</td>\n",
       "      <td>True</td>\n",
       "      <td>0.437269</td>\n",
       "      <td>20.534687</td>\n",
       "      <td>26.535810</td>\n",
       "      <td>26.535810</td>\n",
       "      <td>29.530637</td>\n",
       "      <td>8.957595</td>\n",
       "      <td>-17.578215</td>\n",
       "      <td>2.994827</td>\n",
       "    </tr>\n",
       "    <tr>\n",
       "      <th>4</th>\n",
       "      <td>273</td>\n",
       "      <td>33013</td>\n",
       "      <td>0.475083</td>\n",
       "      <td>0.309524</td>\n",
       "      <td>0.115725</td>\n",
       "      <td>0.050941</td>\n",
       "      <td>0.042082</td>\n",
       "      <td>0.006645</td>\n",
       "      <td>0.177187</td>\n",
       "      <td>0.720377</td>\n",
       "      <td>...</td>\n",
       "      <td>0.054817</td>\n",
       "      <td>True</td>\n",
       "      <td>0.446341</td>\n",
       "      <td>25.291373</td>\n",
       "      <td>27.727552</td>\n",
       "      <td>27.727552</td>\n",
       "      <td>31.193661</td>\n",
       "      <td>17.969953</td>\n",
       "      <td>-9.757599</td>\n",
       "      <td>3.466109</td>\n",
       "    </tr>\n",
       "  </tbody>\n",
       "</table>\n",
       "<p>5 rows × 21 columns</p>\n",
       "</div>"
      ],
      "text/plain": [
       "   Unnamed: 0    zip         1         2         3         4         5  \\\n",
       "0         269  33004  0.360234  0.260819  0.147368  0.086550  0.105263   \n",
       "1         270  33009  0.406321  0.247856  0.130926  0.070880  0.093002   \n",
       "2         271  33010  0.511454  0.307930  0.107048  0.037445  0.030837   \n",
       "3         272  33012  0.452000  0.313867  0.125867  0.052000  0.047733   \n",
       "4         273  33013  0.475083  0.309524  0.115725  0.050941  0.042082   \n",
       "\n",
       "          6  elderlyReturns  returnsTotalwSalariesWages  ...  \\\n",
       "0  0.039766        0.256140                    0.770760  ...   \n",
       "1  0.051016        0.283070                    0.654628  ...   \n",
       "2  0.005286        0.176652                    0.730837  ...   \n",
       "3  0.008533        0.188000                    0.737867  ...   \n",
       "4  0.006645        0.177187                    0.720377  ...   \n",
       "\n",
       "   returnsEducationCredit  risk_group  propensity_score  price_shift  \\\n",
       "0                0.045614       False          0.442626    16.285307   \n",
       "1                0.039729        True          0.489598     1.118005   \n",
       "2                0.057709       False          0.453532    26.599831   \n",
       "3                0.063733        True          0.437269    20.534687   \n",
       "4                0.054817        True          0.446341    25.291373   \n",
       "\n",
       "         y_0  y_0_corrected        y_1  y_1_corrected  treatment_effect  \\\n",
       "0  21.387355      12.233626  22.418959      22.418959         10.185332   \n",
       "1  23.364697      23.364697  25.084658     -23.867029        -47.231725   \n",
       "2  29.512883      24.182191  34.015797      34.015797          9.833607   \n",
       "3  26.535810      26.535810  29.530637       8.957595        -17.578215   \n",
       "4  27.727552      27.727552  31.193661      17.969953         -9.757599   \n",
       "\n",
       "   treatment_effect_no_corr  \n",
       "0                  1.031603  \n",
       "1                  1.719961  \n",
       "2                  4.502914  \n",
       "3                  2.994827  \n",
       "4                  3.466109  \n",
       "\n",
       "[5 rows x 21 columns]"
      ]
     },
     "execution_count": 34,
     "metadata": {},
     "output_type": "execute_result"
    }
   ],
   "source": [
    "miami_fl_treatment_effect.head()"
   ]
  },
  {
   "cell_type": "code",
   "execution_count": 35,
   "id": "a130e6d0",
   "metadata": {},
   "outputs": [],
   "source": [
    "#Merge by zip"
   ]
  },
  {
   "cell_type": "code",
   "execution_count": 36,
   "id": "d434dd23",
   "metadata": {},
   "outputs": [
    {
     "name": "stderr",
     "output_type": "stream",
     "text": [
      "C:\\Users\\user\\AppData\\Local\\Temp\\ipykernel_38156\\2001426742.py:1: SettingWithCopyWarning: \n",
      "A value is trying to be set on a copy of a slice from a DataFrame.\n",
      "Try using .loc[row_indexer,col_indexer] = value instead\n",
      "\n",
      "See the caveats in the documentation: https://pandas.pydata.org/pandas-docs/stable/user_guide/indexing.html#returning-a-view-versus-a-copy\n",
      "  socioeconomic_df['zip'] = socioeconomic_df['zip'].astype(str).str.zfill(5)\n"
     ]
    }
   ],
   "source": [
    "socioeconomic_df['zip'] = socioeconomic_df['zip'].astype(str).str.zfill(5)\n",
    "miami_fl_treatment_effect['zip'] = miami_fl_treatment_effect['zip'].astype(str).str.zfill(5)"
   ]
  },
  {
   "cell_type": "code",
   "execution_count": 37,
   "id": "08398ec0",
   "metadata": {},
   "outputs": [],
   "source": [
    "miami_fl_socioeconomic_treatment_effect = pd.merge(socioeconomic_df, miami_fl_treatment_effect, on=\"zip\")"
   ]
  },
  {
   "cell_type": "code",
   "execution_count": 38,
   "id": "4f2e27b4",
   "metadata": {},
   "outputs": [],
   "source": [
    "#OLS regression treatment effect ~ socioeconomic variables"
   ]
  },
  {
   "cell_type": "code",
   "execution_count": 39,
   "id": "93b6aae4",
   "metadata": {
    "scrolled": false
   },
   "outputs": [
    {
     "name": "stdout",
     "output_type": "stream",
     "text": [
      "                               OLS Regression Results                               \n",
      "====================================================================================\n",
      "Dep. Variable:     treatment_effect_no_corr   R-squared:                       0.892\n",
      "Model:                                  OLS   Adj. R-squared:                  0.889\n",
      "Method:                       Least Squares   F-statistic:                     355.8\n",
      "Date:                      Thu, 08 May 2025   Prob (F-statistic):           2.60e-82\n",
      "Time:                              20:39:19   Log-Likelihood:                -202.02\n",
      "No. Observations:                       178   AIC:                             414.0\n",
      "Df Residuals:                           173   BIC:                             429.9\n",
      "Df Model:                                 4                                         \n",
      "Covariance Type:                  nonrobust                                         \n",
      "====================================================================================\n",
      "                       coef    std err          t      P>|t|      [0.025      0.975]\n",
      "------------------------------------------------------------------------------------\n",
      "const                1.2504      0.526      2.375      0.019       0.211       2.289\n",
      "pct_poverty         11.0881      1.139      9.737      0.000       8.840      13.336\n",
      "pct_black           -0.4587      0.369     -1.243      0.216      -1.187       0.270\n",
      "pct_college_plus    -9.2328      0.569    -16.214      0.000     -10.357      -8.109\n",
      "pct_mortgage         0.9761      0.527      1.851      0.066      -0.064       2.017\n",
      "==============================================================================\n",
      "Omnibus:                        2.778   Durbin-Watson:                   1.497\n",
      "Prob(Omnibus):                  0.249   Jarque-Bera (JB):                2.390\n",
      "Skew:                          -0.200   Prob(JB):                        0.303\n",
      "Kurtosis:                       3.404   Cond. No.                         28.0\n",
      "==============================================================================\n",
      "\n",
      "Notes:\n",
      "[1] Standard Errors assume that the covariance matrix of the errors is correctly specified.\n"
     ]
    }
   ],
   "source": [
    "import statsmodels.api as sm\n",
    "\n",
    "X = miami_fl_socioeconomic_treatment_effect[['pct_poverty', 'pct_black', 'pct_college_plus', 'pct_mortgage']]\n",
    "X = sm.add_constant(X)\n",
    "y = miami_fl_socioeconomic_treatment_effect['treatment_effect_no_corr']\n",
    "\n",
    "model = sm.OLS(y, X).fit()\n",
    "print(model.summary())"
   ]
  },
  {
   "cell_type": "code",
   "execution_count": 40,
   "id": "f7564483",
   "metadata": {},
   "outputs": [
    {
     "data": {
      "text/plain": [
       "-0.0004294863123032639"
      ]
     },
     "execution_count": 40,
     "metadata": {},
     "output_type": "execute_result"
    }
   ],
   "source": [
    "miami_fl_socioeconomic_treatment_effect['treatment_effect_no_corr'].mean()"
   ]
  },
  {
   "cell_type": "code",
   "execution_count": 41,
   "id": "7d327a7a",
   "metadata": {},
   "outputs": [],
   "source": [
    "low_poverty = miami_fl_socioeconomic_treatment_effect[miami_fl_socioeconomic_treatment_effect['pct_poverty'] <= miami_fl_socioeconomic_treatment_effect['pct_poverty'].quantile(0.25)]"
   ]
  },
  {
   "cell_type": "code",
   "execution_count": 42,
   "id": "016730df",
   "metadata": {},
   "outputs": [
    {
     "data": {
      "text/plain": [
       "-2.2691349154557505"
      ]
     },
     "execution_count": 42,
     "metadata": {},
     "output_type": "execute_result"
    }
   ],
   "source": [
    "low_poverty['treatment_effect_no_corr'].mean()"
   ]
  },
  {
   "cell_type": "code",
   "execution_count": 43,
   "id": "83d6a933",
   "metadata": {},
   "outputs": [],
   "source": [
    "high_poverty = miami_fl_socioeconomic_treatment_effect[miami_fl_socioeconomic_treatment_effect['pct_poverty'] >= miami_fl_socioeconomic_treatment_effect['pct_poverty'].quantile(0.75)]"
   ]
  },
  {
   "cell_type": "code",
   "execution_count": 44,
   "id": "ffc3d1b9",
   "metadata": {},
   "outputs": [
    {
     "data": {
      "text/plain": [
       "2.7180483772535555"
      ]
     },
     "execution_count": 44,
     "metadata": {},
     "output_type": "execute_result"
    }
   ],
   "source": [
    "high_poverty['treatment_effect_no_corr'].mean()"
   ]
  },
  {
   "cell_type": "code",
   "execution_count": 45,
   "id": "99db4fee",
   "metadata": {},
   "outputs": [],
   "source": [
    "low_college = miami_fl_socioeconomic_treatment_effect[miami_fl_socioeconomic_treatment_effect['pct_college_plus'] <= miami_fl_socioeconomic_treatment_effect['pct_college_plus'].quantile(0.25)]"
   ]
  },
  {
   "cell_type": "code",
   "execution_count": 46,
   "id": "f3f69de0",
   "metadata": {},
   "outputs": [
    {
     "data": {
      "text/plain": [
       "2.8603639821809312"
      ]
     },
     "execution_count": 46,
     "metadata": {},
     "output_type": "execute_result"
    }
   ],
   "source": [
    "low_college['treatment_effect_no_corr'].mean()"
   ]
  },
  {
   "cell_type": "code",
   "execution_count": 47,
   "id": "48565a74",
   "metadata": {},
   "outputs": [],
   "source": [
    "high_college = miami_fl_socioeconomic_treatment_effect[miami_fl_socioeconomic_treatment_effect['pct_college_plus'] >= miami_fl_socioeconomic_treatment_effect['pct_college_plus'].quantile(0.75)]"
   ]
  },
  {
   "cell_type": "code",
   "execution_count": 48,
   "id": "816dd52f",
   "metadata": {},
   "outputs": [
    {
     "data": {
      "text/plain": [
       "-2.6237558426602123"
      ]
     },
     "execution_count": 48,
     "metadata": {},
     "output_type": "execute_result"
    }
   ],
   "source": [
    "high_college['treatment_effect_no_corr'].mean()"
   ]
  }
 ],
 "metadata": {
  "kernelspec": {
   "display_name": "Python (Anaconda Base)",
   "language": "python",
   "name": "base"
  },
  "language_info": {
   "codemirror_mode": {
    "name": "ipython",
    "version": 3
   },
   "file_extension": ".py",
   "mimetype": "text/x-python",
   "name": "python",
   "nbconvert_exporter": "python",
   "pygments_lexer": "ipython3",
   "version": "3.11.4"
  }
 },
 "nbformat": 4,
 "nbformat_minor": 5
}
