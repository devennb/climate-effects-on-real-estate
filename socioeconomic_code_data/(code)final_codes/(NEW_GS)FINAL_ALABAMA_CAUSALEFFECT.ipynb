{
 "cells": [
  {
   "cell_type": "code",
   "execution_count": 1,
   "id": "ca2a3725",
   "metadata": {},
   "outputs": [],
   "source": [
    "import pandas as pd"
   ]
  },
  {
   "cell_type": "code",
   "execution_count": 2,
   "id": "d23e50f6",
   "metadata": {},
   "outputs": [],
   "source": [
    "#Read socioeconomic status per zipcode"
   ]
  },
  {
   "cell_type": "code",
   "execution_count": 3,
   "id": "2fb036fa",
   "metadata": {},
   "outputs": [],
   "source": [
    "socioeconomic_df = pd.read_csv(\"acs_socioeconomic_2019.csv\")"
   ]
  },
  {
   "cell_type": "code",
   "execution_count": 4,
   "id": "30f9f9b6",
   "metadata": {},
   "outputs": [],
   "source": [
    "#Read causal effect file(Alabama)"
   ]
  },
  {
   "cell_type": "code",
   "execution_count": 5,
   "id": "0b9e6753",
   "metadata": {},
   "outputs": [],
   "source": [
    "al_treatment_effect = pd.read_csv('AL_climate_causal_effect.csv')"
   ]
  },
  {
   "cell_type": "code",
   "execution_count": 6,
   "id": "58e30396",
   "metadata": {
    "scrolled": true
   },
   "outputs": [
    {
     "data": {
      "text/html": [
       "<div>\n",
       "<style scoped>\n",
       "    .dataframe tbody tr th:only-of-type {\n",
       "        vertical-align: middle;\n",
       "    }\n",
       "\n",
       "    .dataframe tbody tr th {\n",
       "        vertical-align: top;\n",
       "    }\n",
       "\n",
       "    .dataframe thead th {\n",
       "        text-align: right;\n",
       "    }\n",
       "</style>\n",
       "<table border=\"1\" class=\"dataframe\">\n",
       "  <thead>\n",
       "    <tr style=\"text-align: right;\">\n",
       "      <th></th>\n",
       "      <th>zip</th>\n",
       "      <th>1</th>\n",
       "      <th>2</th>\n",
       "      <th>3</th>\n",
       "      <th>4</th>\n",
       "      <th>5</th>\n",
       "      <th>6</th>\n",
       "      <th>elderlyReturns</th>\n",
       "      <th>returnsTotalwSalariesWages</th>\n",
       "      <th>returnsDependentCareCredit</th>\n",
       "      <th>returnsEducationCredit</th>\n",
       "      <th>risk_group</th>\n",
       "      <th>propensity_score</th>\n",
       "      <th>price_shift</th>\n",
       "      <th>y_0</th>\n",
       "      <th>y_0_corrected</th>\n",
       "      <th>y_1</th>\n",
       "      <th>y_1_corrected</th>\n",
       "      <th>treatment_effect</th>\n",
       "      <th>treatment_effect_no_corr</th>\n",
       "    </tr>\n",
       "  </thead>\n",
       "  <tbody>\n",
       "    <tr>\n",
       "      <th>0</th>\n",
       "      <td>35007</td>\n",
       "      <td>0.282297</td>\n",
       "      <td>0.228070</td>\n",
       "      <td>0.153110</td>\n",
       "      <td>0.110048</td>\n",
       "      <td>0.188995</td>\n",
       "      <td>0.037480</td>\n",
       "      <td>0.228868</td>\n",
       "      <td>0.811802</td>\n",
       "      <td>0.300638</td>\n",
       "      <td>0.060606</td>\n",
       "      <td>True</td>\n",
       "      <td>0.602717</td>\n",
       "      <td>9.901744</td>\n",
       "      <td>6.697492</td>\n",
       "      <td>6.697492</td>\n",
       "      <td>5.629468</td>\n",
       "      <td>12.717830</td>\n",
       "      <td>6.020338</td>\n",
       "      <td>-1.068024</td>\n",
       "    </tr>\n",
       "    <tr>\n",
       "      <th>1</th>\n",
       "      <td>35014</td>\n",
       "      <td>0.296296</td>\n",
       "      <td>0.302469</td>\n",
       "      <td>0.154321</td>\n",
       "      <td>0.086420</td>\n",
       "      <td>0.123457</td>\n",
       "      <td>0.037037</td>\n",
       "      <td>0.283951</td>\n",
       "      <td>0.839506</td>\n",
       "      <td>0.265432</td>\n",
       "      <td>0.049383</td>\n",
       "      <td>False</td>\n",
       "      <td>0.606330</td>\n",
       "      <td>10.907354</td>\n",
       "      <td>3.659495</td>\n",
       "      <td>22.070478</td>\n",
       "      <td>8.108160</td>\n",
       "      <td>8.108160</td>\n",
       "      <td>-13.962318</td>\n",
       "      <td>4.448664</td>\n",
       "    </tr>\n",
       "    <tr>\n",
       "      <th>2</th>\n",
       "      <td>35016</td>\n",
       "      <td>0.293808</td>\n",
       "      <td>0.246377</td>\n",
       "      <td>0.160738</td>\n",
       "      <td>0.104084</td>\n",
       "      <td>0.159420</td>\n",
       "      <td>0.035573</td>\n",
       "      <td>0.284585</td>\n",
       "      <td>0.803689</td>\n",
       "      <td>0.271410</td>\n",
       "      <td>0.044796</td>\n",
       "      <td>True</td>\n",
       "      <td>0.607142</td>\n",
       "      <td>6.826111</td>\n",
       "      <td>4.460052</td>\n",
       "      <td>4.460052</td>\n",
       "      <td>6.744470</td>\n",
       "      <td>6.878937</td>\n",
       "      <td>2.418885</td>\n",
       "      <td>2.284419</td>\n",
       "    </tr>\n",
       "    <tr>\n",
       "      <th>3</th>\n",
       "      <td>35020</td>\n",
       "      <td>0.510983</td>\n",
       "      <td>0.309827</td>\n",
       "      <td>0.106358</td>\n",
       "      <td>0.041618</td>\n",
       "      <td>0.027746</td>\n",
       "      <td>0.003468</td>\n",
       "      <td>0.187283</td>\n",
       "      <td>0.833526</td>\n",
       "      <td>0.264740</td>\n",
       "      <td>0.050867</td>\n",
       "      <td>True</td>\n",
       "      <td>0.627598</td>\n",
       "      <td>13.432346</td>\n",
       "      <td>3.954134</td>\n",
       "      <td>3.954134</td>\n",
       "      <td>3.626657</td>\n",
       "      <td>19.250803</td>\n",
       "      <td>15.296669</td>\n",
       "      <td>-0.327477</td>\n",
       "    </tr>\n",
       "    <tr>\n",
       "      <th>4</th>\n",
       "      <td>35022</td>\n",
       "      <td>0.272643</td>\n",
       "      <td>0.245841</td>\n",
       "      <td>0.171904</td>\n",
       "      <td>0.107209</td>\n",
       "      <td>0.166359</td>\n",
       "      <td>0.036044</td>\n",
       "      <td>0.268022</td>\n",
       "      <td>0.817006</td>\n",
       "      <td>0.266174</td>\n",
       "      <td>0.064695</td>\n",
       "      <td>True</td>\n",
       "      <td>0.604240</td>\n",
       "      <td>6.155837</td>\n",
       "      <td>5.957761</td>\n",
       "      <td>5.957761</td>\n",
       "      <td>7.239478</td>\n",
       "      <td>5.446083</td>\n",
       "      <td>-0.511679</td>\n",
       "      <td>1.281716</td>\n",
       "    </tr>\n",
       "  </tbody>\n",
       "</table>\n",
       "</div>"
      ],
      "text/plain": [
       "     zip         1         2         3         4         5         6  \\\n",
       "0  35007  0.282297  0.228070  0.153110  0.110048  0.188995  0.037480   \n",
       "1  35014  0.296296  0.302469  0.154321  0.086420  0.123457  0.037037   \n",
       "2  35016  0.293808  0.246377  0.160738  0.104084  0.159420  0.035573   \n",
       "3  35020  0.510983  0.309827  0.106358  0.041618  0.027746  0.003468   \n",
       "4  35022  0.272643  0.245841  0.171904  0.107209  0.166359  0.036044   \n",
       "\n",
       "   elderlyReturns  returnsTotalwSalariesWages  returnsDependentCareCredit  \\\n",
       "0        0.228868                    0.811802                    0.300638   \n",
       "1        0.283951                    0.839506                    0.265432   \n",
       "2        0.284585                    0.803689                    0.271410   \n",
       "3        0.187283                    0.833526                    0.264740   \n",
       "4        0.268022                    0.817006                    0.266174   \n",
       "\n",
       "   returnsEducationCredit  risk_group  propensity_score  price_shift  \\\n",
       "0                0.060606        True          0.602717     9.901744   \n",
       "1                0.049383       False          0.606330    10.907354   \n",
       "2                0.044796        True          0.607142     6.826111   \n",
       "3                0.050867        True          0.627598    13.432346   \n",
       "4                0.064695        True          0.604240     6.155837   \n",
       "\n",
       "        y_0  y_0_corrected       y_1  y_1_corrected  treatment_effect  \\\n",
       "0  6.697492       6.697492  5.629468      12.717830          6.020338   \n",
       "1  3.659495      22.070478  8.108160       8.108160        -13.962318   \n",
       "2  4.460052       4.460052  6.744470       6.878937          2.418885   \n",
       "3  3.954134       3.954134  3.626657      19.250803         15.296669   \n",
       "4  5.957761       5.957761  7.239478       5.446083         -0.511679   \n",
       "\n",
       "   treatment_effect_no_corr  \n",
       "0                 -1.068024  \n",
       "1                  4.448664  \n",
       "2                  2.284419  \n",
       "3                 -0.327477  \n",
       "4                  1.281716  "
      ]
     },
     "execution_count": 6,
     "metadata": {},
     "output_type": "execute_result"
    }
   ],
   "source": [
    "al_treatment_effect.head()"
   ]
  },
  {
   "cell_type": "code",
   "execution_count": 7,
   "id": "cbb14259",
   "metadata": {},
   "outputs": [],
   "source": [
    "#Merge by zip"
   ]
  },
  {
   "cell_type": "code",
   "execution_count": 8,
   "id": "60df4ca3",
   "metadata": {},
   "outputs": [],
   "source": [
    "socioeconomic_df['zip'] = socioeconomic_df['zip'].astype(str).str.zfill(5)\n",
    "al_treatment_effect['zip'] = al_treatment_effect['zip'].astype(str).str.zfill(5)"
   ]
  },
  {
   "cell_type": "code",
   "execution_count": 9,
   "id": "e90e0615",
   "metadata": {},
   "outputs": [],
   "source": [
    "al_socioeconomic_treatment_effect = pd.merge(socioeconomic_df, al_treatment_effect, on=\"zip\")"
   ]
  },
  {
   "cell_type": "code",
   "execution_count": 10,
   "id": "998bd2e0",
   "metadata": {},
   "outputs": [],
   "source": [
    "#OLS regression treatment effect ~ socioeconomic variables"
   ]
  },
  {
   "cell_type": "code",
   "execution_count": 11,
   "id": "c39f8dcd",
   "metadata": {},
   "outputs": [
    {
     "name": "stdout",
     "output_type": "stream",
     "text": [
      "                               OLS Regression Results                               \n",
      "====================================================================================\n",
      "Dep. Variable:     treatment_effect_no_corr   R-squared:                       0.363\n",
      "Model:                                  OLS   Adj. R-squared:                  0.346\n",
      "Method:                       Least Squares   F-statistic:                     21.90\n",
      "Date:                      Thu, 08 May 2025   Prob (F-statistic):           2.51e-14\n",
      "Time:                              20:45:27   Log-Likelihood:                -319.33\n",
      "No. Observations:                       159   AIC:                             648.7\n",
      "Df Residuals:                           154   BIC:                             664.0\n",
      "Df Model:                                 4                                         \n",
      "Covariance Type:                  nonrobust                                         \n",
      "====================================================================================\n",
      "                       coef    std err          t      P>|t|      [0.025      0.975]\n",
      "------------------------------------------------------------------------------------\n",
      "const               10.1362      1.014      9.994      0.000       8.133      12.140\n",
      "pct_poverty        -18.8365      2.662     -7.075      0.000     -24.096     -13.577\n",
      "pct_black            3.6312      0.818      4.438      0.000       2.015       5.248\n",
      "pct_college_plus    -3.5771      1.237     -2.893      0.004      -6.020      -1.134\n",
      "pct_mortgage        -9.8560      1.610     -6.122      0.000     -13.037      -6.675\n",
      "==============================================================================\n",
      "Omnibus:                        4.294   Durbin-Watson:                   1.965\n",
      "Prob(Omnibus):                  0.117   Jarque-Bera (JB):                5.290\n",
      "Skew:                          -0.102   Prob(JB):                       0.0710\n",
      "Kurtosis:                       3.870   Cond. No.                         24.4\n",
      "==============================================================================\n",
      "\n",
      "Notes:\n",
      "[1] Standard Errors assume that the covariance matrix of the errors is correctly specified.\n"
     ]
    }
   ],
   "source": [
    "import statsmodels.api as sm\n",
    "\n",
    "X = al_socioeconomic_treatment_effect[['pct_poverty', 'pct_black', 'pct_college_plus', 'pct_mortgage']]\n",
    "X = sm.add_constant(X)\n",
    "y = al_socioeconomic_treatment_effect['treatment_effect_no_corr']\n",
    "\n",
    "model = sm.OLS(y, X).fit()\n",
    "print(model.summary())"
   ]
  },
  {
   "cell_type": "code",
   "execution_count": 12,
   "id": "15cdf8cd",
   "metadata": {},
   "outputs": [],
   "source": [
    "# Mean treatment effect"
   ]
  },
  {
   "cell_type": "code",
   "execution_count": 13,
   "id": "77446006",
   "metadata": {},
   "outputs": [
    {
     "data": {
      "text/plain": [
       "1.4598943766728987"
      ]
     },
     "execution_count": 13,
     "metadata": {},
     "output_type": "execute_result"
    }
   ],
   "source": [
    "al_socioeconomic_treatment_effect['treatment_effect_no_corr'].mean()"
   ]
  },
  {
   "cell_type": "code",
   "execution_count": 14,
   "id": "5b36bdec",
   "metadata": {},
   "outputs": [],
   "source": [
    "# Mean treatment effect: Lower 25% & Upper 25%"
   ]
  },
  {
   "cell_type": "code",
   "execution_count": 15,
   "id": "93c4aed5",
   "metadata": {},
   "outputs": [],
   "source": [
    "low_poverty = al_socioeconomic_treatment_effect[al_socioeconomic_treatment_effect['pct_poverty'] <= al_socioeconomic_treatment_effect['pct_poverty'].quantile(0.25)]"
   ]
  },
  {
   "cell_type": "code",
   "execution_count": 16,
   "id": "adf53ab3",
   "metadata": {},
   "outputs": [
    {
     "data": {
      "text/plain": [
       "1.6543041649454253"
      ]
     },
     "execution_count": 16,
     "metadata": {},
     "output_type": "execute_result"
    }
   ],
   "source": [
    "low_poverty['treatment_effect_no_corr'].mean()"
   ]
  },
  {
   "cell_type": "code",
   "execution_count": 17,
   "id": "52920631",
   "metadata": {},
   "outputs": [],
   "source": [
    "high_poverty = al_socioeconomic_treatment_effect[al_socioeconomic_treatment_effect['pct_poverty'] >= al_socioeconomic_treatment_effect['pct_poverty'].quantile(0.75)]"
   ]
  },
  {
   "cell_type": "code",
   "execution_count": 18,
   "id": "beb9b833",
   "metadata": {},
   "outputs": [
    {
     "data": {
      "text/plain": [
       "1.0466658683839019"
      ]
     },
     "execution_count": 18,
     "metadata": {},
     "output_type": "execute_result"
    }
   ],
   "source": [
    "high_poverty['treatment_effect_no_corr'].mean()"
   ]
  },
  {
   "cell_type": "code",
   "execution_count": 19,
   "id": "36ad392a",
   "metadata": {},
   "outputs": [],
   "source": [
    "low_black = al_socioeconomic_treatment_effect[al_socioeconomic_treatment_effect['pct_black'] <= al_socioeconomic_treatment_effect['pct_black'].quantile(0.25)]"
   ]
  },
  {
   "cell_type": "code",
   "execution_count": 20,
   "id": "7c04f0f1",
   "metadata": {},
   "outputs": [
    {
     "data": {
      "text/plain": [
       "1.9971116134690992"
      ]
     },
     "execution_count": 20,
     "metadata": {},
     "output_type": "execute_result"
    }
   ],
   "source": [
    "low_black['treatment_effect_no_corr'].mean()"
   ]
  },
  {
   "cell_type": "code",
   "execution_count": 21,
   "id": "25fedada",
   "metadata": {},
   "outputs": [],
   "source": [
    "high_black = al_socioeconomic_treatment_effect[al_socioeconomic_treatment_effect['pct_black'] >= al_socioeconomic_treatment_effect['pct_black'].quantile(0.75)]"
   ]
  },
  {
   "cell_type": "code",
   "execution_count": 22,
   "id": "a01667d4",
   "metadata": {},
   "outputs": [
    {
     "data": {
      "text/plain": [
       "1.9047813689788142"
      ]
     },
     "execution_count": 22,
     "metadata": {},
     "output_type": "execute_result"
    }
   ],
   "source": [
    "high_black['treatment_effect_no_corr'].mean()"
   ]
  },
  {
   "cell_type": "code",
   "execution_count": 23,
   "id": "d3d07480",
   "metadata": {},
   "outputs": [],
   "source": [
    "low_college = al_socioeconomic_treatment_effect[al_socioeconomic_treatment_effect['pct_college_plus'] <= al_socioeconomic_treatment_effect['pct_college_plus'].quantile(0.25)]"
   ]
  },
  {
   "cell_type": "code",
   "execution_count": 24,
   "id": "9e90431b",
   "metadata": {},
   "outputs": [
    {
     "data": {
      "text/plain": [
       "2.042064019310156"
      ]
     },
     "execution_count": 24,
     "metadata": {},
     "output_type": "execute_result"
    }
   ],
   "source": [
    "low_college['treatment_effect_no_corr'].mean()"
   ]
  },
  {
   "cell_type": "code",
   "execution_count": 25,
   "id": "693450c5",
   "metadata": {},
   "outputs": [],
   "source": [
    "high_college = al_socioeconomic_treatment_effect[al_socioeconomic_treatment_effect['pct_college_plus'] >= al_socioeconomic_treatment_effect['pct_college_plus'].quantile(0.75)]"
   ]
  },
  {
   "cell_type": "code",
   "execution_count": 26,
   "id": "ba1ecf1b",
   "metadata": {},
   "outputs": [
    {
     "data": {
      "text/plain": [
       "0.4775069230303398"
      ]
     },
     "execution_count": 26,
     "metadata": {},
     "output_type": "execute_result"
    }
   ],
   "source": [
    "high_college['treatment_effect_no_corr'].mean()"
   ]
  },
  {
   "cell_type": "code",
   "execution_count": 27,
   "id": "8afe5496",
   "metadata": {},
   "outputs": [],
   "source": [
    "low_mortgage = al_socioeconomic_treatment_effect[al_socioeconomic_treatment_effect['pct_mortgage'] <= al_socioeconomic_treatment_effect['pct_mortgage'].quantile(0.25)]"
   ]
  },
  {
   "cell_type": "code",
   "execution_count": 28,
   "id": "3c57f6a7",
   "metadata": {},
   "outputs": [
    {
     "data": {
      "text/plain": [
       "2.6376870524889564"
      ]
     },
     "execution_count": 28,
     "metadata": {},
     "output_type": "execute_result"
    }
   ],
   "source": [
    "low_mortgage['treatment_effect_no_corr'].mean()"
   ]
  },
  {
   "cell_type": "code",
   "execution_count": 29,
   "id": "a13baa94",
   "metadata": {},
   "outputs": [],
   "source": [
    "high_mortgage = al_socioeconomic_treatment_effect[al_socioeconomic_treatment_effect['pct_mortgage'] >= al_socioeconomic_treatment_effect['pct_mortgage'].quantile(0.75)]"
   ]
  },
  {
   "cell_type": "code",
   "execution_count": 30,
   "id": "dd9f2320",
   "metadata": {},
   "outputs": [
    {
     "data": {
      "text/plain": [
       "0.3064255530855851"
      ]
     },
     "execution_count": 30,
     "metadata": {},
     "output_type": "execute_result"
    }
   ],
   "source": [
    "high_mortgage['treatment_effect_no_corr'].mean()"
   ]
  },
  {
   "cell_type": "code",
   "execution_count": 31,
   "id": "e9a10e51",
   "metadata": {},
   "outputs": [],
   "source": [
    "#Get Alabama socioeconomic status"
   ]
  },
  {
   "cell_type": "code",
   "execution_count": 32,
   "id": "c3c4b54a",
   "metadata": {},
   "outputs": [],
   "source": [
    "socioeconomic_df = pd.read_csv(\"acs_socioeconomic_2019.csv\")"
   ]
  },
  {
   "cell_type": "code",
   "execution_count": 33,
   "id": "7bf86be7",
   "metadata": {},
   "outputs": [],
   "source": [
    "zipdata = pd.read_excel(\"uszips.xlsx\")"
   ]
  },
  {
   "cell_type": "code",
   "execution_count": 34,
   "id": "fe6c7b1a",
   "metadata": {},
   "outputs": [],
   "source": [
    "socioeconomic_df['zip'] = socioeconomic_df['zip'].astype(str).str.zfill(5)\n",
    "zipdata['zip'] = zipdata['zip'].astype(str).str.zfill(5)"
   ]
  },
  {
   "cell_type": "code",
   "execution_count": 35,
   "id": "e1309b92",
   "metadata": {},
   "outputs": [],
   "source": [
    "alabama_zipdata = zipdata[zipdata['state_name'] == 'Alabama']"
   ]
  },
  {
   "cell_type": "code",
   "execution_count": 36,
   "id": "fe970561",
   "metadata": {},
   "outputs": [],
   "source": [
    "al_socioeconomic = pd.merge(socioeconomic_df, alabama_zipdata, on=\"zip\")"
   ]
  },
  {
   "cell_type": "code",
   "execution_count": 37,
   "id": "9b9c4dac",
   "metadata": {},
   "outputs": [],
   "source": [
    "al_socioeconomic = al_socioeconomic.dropna(subset=['pct_poverty', 'pct_black', 'pct_college_plus', 'pct_mortgage'])"
   ]
  },
  {
   "cell_type": "code",
   "execution_count": 38,
   "id": "f90b6119",
   "metadata": {},
   "outputs": [],
   "source": [
    "#Cluster zip using socioeconomic variables"
   ]
  },
  {
   "cell_type": "code",
   "execution_count": 39,
   "id": "40998391",
   "metadata": {},
   "outputs": [],
   "source": [
    "from sklearn.preprocessing import StandardScaler"
   ]
  },
  {
   "cell_type": "code",
   "execution_count": 40,
   "id": "460c5a94",
   "metadata": {},
   "outputs": [],
   "source": [
    "features = ['pct_poverty', 'pct_black', 'pct_college_plus', 'pct_mortgage']"
   ]
  },
  {
   "cell_type": "code",
   "execution_count": 41,
   "id": "c8790e23",
   "metadata": {},
   "outputs": [],
   "source": [
    "scaler = StandardScaler()\n",
    "al_socioeconomic_scaled = scaler.fit_transform(al_socioeconomic[features])"
   ]
  },
  {
   "cell_type": "code",
   "execution_count": 42,
   "id": "13c158df",
   "metadata": {},
   "outputs": [],
   "source": [
    "from sklearn.cluster import KMeans\n",
    "from sklearn.metrics import silhouette_score"
   ]
  },
  {
   "cell_type": "code",
   "execution_count": 43,
   "id": "1f312898",
   "metadata": {},
   "outputs": [
    {
     "name": "stderr",
     "output_type": "stream",
     "text": [
      "C:\\Users\\user\\anaconda3\\Lib\\site-packages\\sklearn\\cluster\\_kmeans.py:1412: FutureWarning: The default value of `n_init` will change from 10 to 'auto' in 1.4. Set the value of `n_init` explicitly to suppress the warning\n",
      "  super()._check_params_vs_input(X, default_n_init=10)\n"
     ]
    },
    {
     "name": "stdout",
     "output_type": "stream",
     "text": [
      "For n_clusters =2, the average silhouette_score is :0.34206801037081536\n",
      "For n_clusters =3, the average silhouette_score is :0.3272881728570336\n",
      "For n_clusters =4, the average silhouette_score is :0.26290705134106146\n",
      "For n_clusters =5, the average silhouette_score is :0.26987249251588613\n"
     ]
    },
    {
     "name": "stderr",
     "output_type": "stream",
     "text": [
      "C:\\Users\\user\\anaconda3\\Lib\\site-packages\\sklearn\\cluster\\_kmeans.py:1412: FutureWarning: The default value of `n_init` will change from 10 to 'auto' in 1.4. Set the value of `n_init` explicitly to suppress the warning\n",
      "  super()._check_params_vs_input(X, default_n_init=10)\n",
      "C:\\Users\\user\\anaconda3\\Lib\\site-packages\\sklearn\\cluster\\_kmeans.py:1412: FutureWarning: The default value of `n_init` will change from 10 to 'auto' in 1.4. Set the value of `n_init` explicitly to suppress the warning\n",
      "  super()._check_params_vs_input(X, default_n_init=10)\n",
      "C:\\Users\\user\\anaconda3\\Lib\\site-packages\\sklearn\\cluster\\_kmeans.py:1412: FutureWarning: The default value of `n_init` will change from 10 to 'auto' in 1.4. Set the value of `n_init` explicitly to suppress the warning\n",
      "  super()._check_params_vs_input(X, default_n_init=10)\n",
      "C:\\Users\\user\\anaconda3\\Lib\\site-packages\\sklearn\\cluster\\_kmeans.py:1412: FutureWarning: The default value of `n_init` will change from 10 to 'auto' in 1.4. Set the value of `n_init` explicitly to suppress the warning\n",
      "  super()._check_params_vs_input(X, default_n_init=10)\n"
     ]
    },
    {
     "name": "stdout",
     "output_type": "stream",
     "text": [
      "For n_clusters =6, the average silhouette_score is :0.2626123272582447\n",
      "For n_clusters =7, the average silhouette_score is :0.2447964570451756\n",
      "For n_clusters =8, the average silhouette_score is :0.25747706407528\n"
     ]
    },
    {
     "name": "stderr",
     "output_type": "stream",
     "text": [
      "C:\\Users\\user\\anaconda3\\Lib\\site-packages\\sklearn\\cluster\\_kmeans.py:1412: FutureWarning: The default value of `n_init` will change from 10 to 'auto' in 1.4. Set the value of `n_init` explicitly to suppress the warning\n",
      "  super()._check_params_vs_input(X, default_n_init=10)\n",
      "C:\\Users\\user\\anaconda3\\Lib\\site-packages\\sklearn\\cluster\\_kmeans.py:1412: FutureWarning: The default value of `n_init` will change from 10 to 'auto' in 1.4. Set the value of `n_init` explicitly to suppress the warning\n",
      "  super()._check_params_vs_input(X, default_n_init=10)\n",
      "C:\\Users\\user\\anaconda3\\Lib\\site-packages\\sklearn\\cluster\\_kmeans.py:1412: FutureWarning: The default value of `n_init` will change from 10 to 'auto' in 1.4. Set the value of `n_init` explicitly to suppress the warning\n",
      "  super()._check_params_vs_input(X, default_n_init=10)\n"
     ]
    },
    {
     "name": "stdout",
     "output_type": "stream",
     "text": [
      "For n_clusters =9, the average silhouette_score is :0.2369965315955513\n",
      "For n_clusters =10, the average silhouette_score is :0.23279110874591585\n"
     ]
    },
    {
     "name": "stderr",
     "output_type": "stream",
     "text": [
      "C:\\Users\\user\\anaconda3\\Lib\\site-packages\\sklearn\\cluster\\_kmeans.py:1412: FutureWarning: The default value of `n_init` will change from 10 to 'auto' in 1.4. Set the value of `n_init` explicitly to suppress the warning\n",
      "  super()._check_params_vs_input(X, default_n_init=10)\n"
     ]
    }
   ],
   "source": [
    "#Clustering\n",
    "range_n_clusters = [2, 3, 4, 5, 6, 7, 8, 9, 10]\n",
    "for k in range_n_clusters: #try different numbers of clusters\n",
    "    kmeans = KMeans(n_clusters=k, random_state=324)\n",
    "    cluster_labels = kmeans.fit_predict(al_socioeconomic_scaled)\n",
    "    #report average Silhouette score\n",
    "    silhouette_avg = silhouette_score(al_socioeconomic_scaled, cluster_labels)\n",
    "    print(\"For n_clusters ={},\".format(k)+\" the average silhouette_score is :{}\".format(silhouette_avg))"
   ]
  },
  {
   "cell_type": "code",
   "execution_count": 44,
   "id": "c6346725",
   "metadata": {},
   "outputs": [
    {
     "name": "stderr",
     "output_type": "stream",
     "text": [
      "C:\\Users\\user\\anaconda3\\Lib\\site-packages\\sklearn\\cluster\\_kmeans.py:1412: FutureWarning: The default value of `n_init` will change from 10 to 'auto' in 1.4. Set the value of `n_init` explicitly to suppress the warning\n",
      "  super()._check_params_vs_input(X, default_n_init=10)\n"
     ]
    }
   ],
   "source": [
    "kmeans = KMeans(n_clusters=2, random_state=324)\n",
    "cluster_labels = kmeans.fit_predict(al_socioeconomic_scaled)"
   ]
  },
  {
   "cell_type": "code",
   "execution_count": 45,
   "id": "179f3414",
   "metadata": {},
   "outputs": [],
   "source": [
    "al_socioeconomic['cluster'] = cluster_labels"
   ]
  },
  {
   "cell_type": "code",
   "execution_count": 46,
   "id": "90db794f",
   "metadata": {},
   "outputs": [
    {
     "name": "stdout",
     "output_type": "stream",
     "text": [
      "         pct_poverty  pct_black  pct_college_plus  pct_mortgage\n",
      "cluster                                                        \n",
      "0           0.292483   0.622569          0.124702      0.371191\n",
      "1           0.148811   0.131215          0.207962      0.498804\n"
     ]
    }
   ],
   "source": [
    "cluster_profile = al_socioeconomic.groupby('cluster')[features].mean()\n",
    "print(cluster_profile)"
   ]
  },
  {
   "cell_type": "code",
   "execution_count": 47,
   "id": "5d15e207",
   "metadata": {},
   "outputs": [
    {
     "data": {
      "text/html": [
       "<div>\n",
       "<style scoped>\n",
       "    .dataframe tbody tr th:only-of-type {\n",
       "        vertical-align: middle;\n",
       "    }\n",
       "\n",
       "    .dataframe tbody tr th {\n",
       "        vertical-align: top;\n",
       "    }\n",
       "\n",
       "    .dataframe thead th {\n",
       "        text-align: right;\n",
       "    }\n",
       "</style>\n",
       "<table border=\"1\" class=\"dataframe\">\n",
       "  <thead>\n",
       "    <tr style=\"text-align: right;\">\n",
       "      <th></th>\n",
       "      <th>zip</th>\n",
       "      <th>pct_poverty</th>\n",
       "      <th>pct_black</th>\n",
       "      <th>pct_college_plus</th>\n",
       "      <th>pct_mortgage</th>\n",
       "      <th>lat</th>\n",
       "      <th>lng</th>\n",
       "      <th>city</th>\n",
       "      <th>state_id</th>\n",
       "      <th>state_name</th>\n",
       "      <th>...</th>\n",
       "      <th>density</th>\n",
       "      <th>county_fips</th>\n",
       "      <th>county_name</th>\n",
       "      <th>county_weights</th>\n",
       "      <th>county_names_all</th>\n",
       "      <th>county_fips_all</th>\n",
       "      <th>imprecise</th>\n",
       "      <th>military</th>\n",
       "      <th>timezone</th>\n",
       "      <th>cluster</th>\n",
       "    </tr>\n",
       "  </thead>\n",
       "  <tbody>\n",
       "    <tr>\n",
       "      <th>0</th>\n",
       "      <td>36521</td>\n",
       "      <td>0.101103</td>\n",
       "      <td>0.059937</td>\n",
       "      <td>0.077958</td>\n",
       "      <td>0.581220</td>\n",
       "      <td>30.96241</td>\n",
       "      <td>-88.18526</td>\n",
       "      <td>Chunchula</td>\n",
       "      <td>AL</td>\n",
       "      <td>Alabama</td>\n",
       "      <td>...</td>\n",
       "      <td>17.7</td>\n",
       "      <td>1097</td>\n",
       "      <td>Mobile</td>\n",
       "      <td>{\"01097\": 100}</td>\n",
       "      <td>Mobile</td>\n",
       "      <td>1097</td>\n",
       "      <td>False</td>\n",
       "      <td>False</td>\n",
       "      <td>America/Chicago</td>\n",
       "      <td>1</td>\n",
       "    </tr>\n",
       "    <tr>\n",
       "      <th>1</th>\n",
       "      <td>36471</td>\n",
       "      <td>0.378319</td>\n",
       "      <td>0.661504</td>\n",
       "      <td>0.065350</td>\n",
       "      <td>0.205674</td>\n",
       "      <td>31.62616</td>\n",
       "      <td>-87.22861</td>\n",
       "      <td>Peterman</td>\n",
       "      <td>AL</td>\n",
       "      <td>Alabama</td>\n",
       "      <td>...</td>\n",
       "      <td>2.7</td>\n",
       "      <td>1099</td>\n",
       "      <td>Monroe</td>\n",
       "      <td>{\"01099\": 90.14, \"01035\": 9.86}</td>\n",
       "      <td>Monroe|Conecuh</td>\n",
       "      <td>01099|01035</td>\n",
       "      <td>False</td>\n",
       "      <td>False</td>\n",
       "      <td>America/Chicago</td>\n",
       "      <td>0</td>\n",
       "    </tr>\n",
       "    <tr>\n",
       "      <th>2</th>\n",
       "      <td>36476</td>\n",
       "      <td>0.000000</td>\n",
       "      <td>1.000000</td>\n",
       "      <td>0.000000</td>\n",
       "      <td>0.285714</td>\n",
       "      <td>31.35359</td>\n",
       "      <td>-86.54633</td>\n",
       "      <td>River Falls</td>\n",
       "      <td>AL</td>\n",
       "      <td>Alabama</td>\n",
       "      <td>...</td>\n",
       "      <td>41.3</td>\n",
       "      <td>1039</td>\n",
       "      <td>Covington</td>\n",
       "      <td>{\"01039\": 100}</td>\n",
       "      <td>Covington</td>\n",
       "      <td>1039</td>\n",
       "      <td>False</td>\n",
       "      <td>False</td>\n",
       "      <td>America/Chicago</td>\n",
       "      <td>0</td>\n",
       "    </tr>\n",
       "    <tr>\n",
       "      <th>3</th>\n",
       "      <td>36480</td>\n",
       "      <td>0.319263</td>\n",
       "      <td>0.118312</td>\n",
       "      <td>0.097500</td>\n",
       "      <td>0.266846</td>\n",
       "      <td>31.32976</td>\n",
       "      <td>-87.61125</td>\n",
       "      <td>Uriah</td>\n",
       "      <td>AL</td>\n",
       "      <td>Alabama</td>\n",
       "      <td>...</td>\n",
       "      <td>3.4</td>\n",
       "      <td>1099</td>\n",
       "      <td>Monroe</td>\n",
       "      <td>{\"01099\": 100}</td>\n",
       "      <td>Monroe</td>\n",
       "      <td>1099</td>\n",
       "      <td>False</td>\n",
       "      <td>False</td>\n",
       "      <td>America/Chicago</td>\n",
       "      <td>0</td>\n",
       "    </tr>\n",
       "    <tr>\n",
       "      <th>4</th>\n",
       "      <td>36513</td>\n",
       "      <td>0.825893</td>\n",
       "      <td>0.093750</td>\n",
       "      <td>0.088957</td>\n",
       "      <td>0.400000</td>\n",
       "      <td>31.15516</td>\n",
       "      <td>-87.99021</td>\n",
       "      <td>Calvert</td>\n",
       "      <td>AL</td>\n",
       "      <td>Alabama</td>\n",
       "      <td>...</td>\n",
       "      <td>7.6</td>\n",
       "      <td>1129</td>\n",
       "      <td>Washington</td>\n",
       "      <td>{\"01129\": 52.84, \"01097\": 47.16}</td>\n",
       "      <td>Washington|Mobile</td>\n",
       "      <td>01129|01097</td>\n",
       "      <td>False</td>\n",
       "      <td>False</td>\n",
       "      <td>America/Chicago</td>\n",
       "      <td>0</td>\n",
       "    </tr>\n",
       "    <tr>\n",
       "      <th>...</th>\n",
       "      <td>...</td>\n",
       "      <td>...</td>\n",
       "      <td>...</td>\n",
       "      <td>...</td>\n",
       "      <td>...</td>\n",
       "      <td>...</td>\n",
       "      <td>...</td>\n",
       "      <td>...</td>\n",
       "      <td>...</td>\n",
       "      <td>...</td>\n",
       "      <td>...</td>\n",
       "      <td>...</td>\n",
       "      <td>...</td>\n",
       "      <td>...</td>\n",
       "      <td>...</td>\n",
       "      <td>...</td>\n",
       "      <td>...</td>\n",
       "      <td>...</td>\n",
       "      <td>...</td>\n",
       "      <td>...</td>\n",
       "      <td>...</td>\n",
       "    </tr>\n",
       "    <tr>\n",
       "      <th>632</th>\n",
       "      <td>36453</td>\n",
       "      <td>0.188031</td>\n",
       "      <td>0.000835</td>\n",
       "      <td>0.113624</td>\n",
       "      <td>0.384389</td>\n",
       "      <td>31.19788</td>\n",
       "      <td>-86.14726</td>\n",
       "      <td>Kinston</td>\n",
       "      <td>AL</td>\n",
       "      <td>Alabama</td>\n",
       "      <td>...</td>\n",
       "      <td>9.8</td>\n",
       "      <td>1031</td>\n",
       "      <td>Coffee</td>\n",
       "      <td>{\"01031\": 52.25, \"01061\": 39.07, \"01039\": 8.68}</td>\n",
       "      <td>Coffee|Geneva|Covington</td>\n",
       "      <td>01031|01061|01039</td>\n",
       "      <td>False</td>\n",
       "      <td>False</td>\n",
       "      <td>America/Chicago</td>\n",
       "      <td>1</td>\n",
       "    </tr>\n",
       "    <tr>\n",
       "      <th>633</th>\n",
       "      <td>36467</td>\n",
       "      <td>0.191784</td>\n",
       "      <td>0.150765</td>\n",
       "      <td>0.131666</td>\n",
       "      <td>0.508535</td>\n",
       "      <td>31.27950</td>\n",
       "      <td>-86.25579</td>\n",
       "      <td>Opp</td>\n",
       "      <td>AL</td>\n",
       "      <td>Alabama</td>\n",
       "      <td>...</td>\n",
       "      <td>24.0</td>\n",
       "      <td>1039</td>\n",
       "      <td>Covington</td>\n",
       "      <td>{\"01039\": 94.16, \"01031\": 5.84}</td>\n",
       "      <td>Covington|Coffee</td>\n",
       "      <td>01039|01031</td>\n",
       "      <td>False</td>\n",
       "      <td>False</td>\n",
       "      <td>America/Chicago</td>\n",
       "      <td>1</td>\n",
       "    </tr>\n",
       "    <tr>\n",
       "      <th>634</th>\n",
       "      <td>36790</td>\n",
       "      <td>0.235955</td>\n",
       "      <td>0.752809</td>\n",
       "      <td>0.000000</td>\n",
       "      <td>0.118644</td>\n",
       "      <td>32.72758</td>\n",
       "      <td>-86.91070</td>\n",
       "      <td>Stanton</td>\n",
       "      <td>AL</td>\n",
       "      <td>Alabama</td>\n",
       "      <td>...</td>\n",
       "      <td>9.6</td>\n",
       "      <td>1021</td>\n",
       "      <td>Chilton</td>\n",
       "      <td>{\"01021\": 100}</td>\n",
       "      <td>Chilton</td>\n",
       "      <td>1021</td>\n",
       "      <td>False</td>\n",
       "      <td>False</td>\n",
       "      <td>America/Chicago</td>\n",
       "      <td>0</td>\n",
       "    </tr>\n",
       "    <tr>\n",
       "      <th>635</th>\n",
       "      <td>36832</td>\n",
       "      <td>0.393381</td>\n",
       "      <td>0.282729</td>\n",
       "      <td>0.446630</td>\n",
       "      <td>0.508937</td>\n",
       "      <td>32.59447</td>\n",
       "      <td>-85.58163</td>\n",
       "      <td>Auburn</td>\n",
       "      <td>AL</td>\n",
       "      <td>Alabama</td>\n",
       "      <td>...</td>\n",
       "      <td>170.1</td>\n",
       "      <td>1081</td>\n",
       "      <td>Lee</td>\n",
       "      <td>{\"01081\": 96.94, \"01087\": 3.06}</td>\n",
       "      <td>Lee|Macon</td>\n",
       "      <td>01081|01087</td>\n",
       "      <td>False</td>\n",
       "      <td>False</td>\n",
       "      <td>America/Chicago</td>\n",
       "      <td>1</td>\n",
       "    </tr>\n",
       "    <tr>\n",
       "      <th>636</th>\n",
       "      <td>36858</td>\n",
       "      <td>0.251515</td>\n",
       "      <td>0.427273</td>\n",
       "      <td>0.251908</td>\n",
       "      <td>0.408000</td>\n",
       "      <td>32.30061</td>\n",
       "      <td>-85.30138</td>\n",
       "      <td>Hatchechubbee</td>\n",
       "      <td>AL</td>\n",
       "      <td>Alabama</td>\n",
       "      <td>...</td>\n",
       "      <td>2.8</td>\n",
       "      <td>1113</td>\n",
       "      <td>Russell</td>\n",
       "      <td>{\"01113\": 100}</td>\n",
       "      <td>Russell</td>\n",
       "      <td>1113</td>\n",
       "      <td>False</td>\n",
       "      <td>False</td>\n",
       "      <td>America/Chicago</td>\n",
       "      <td>0</td>\n",
       "    </tr>\n",
       "  </tbody>\n",
       "</table>\n",
       "<p>620 rows × 23 columns</p>\n",
       "</div>"
      ],
      "text/plain": [
       "       zip  pct_poverty  pct_black  pct_college_plus  pct_mortgage       lat  \\\n",
       "0    36521     0.101103   0.059937          0.077958      0.581220  30.96241   \n",
       "1    36471     0.378319   0.661504          0.065350      0.205674  31.62616   \n",
       "2    36476     0.000000   1.000000          0.000000      0.285714  31.35359   \n",
       "3    36480     0.319263   0.118312          0.097500      0.266846  31.32976   \n",
       "4    36513     0.825893   0.093750          0.088957      0.400000  31.15516   \n",
       "..     ...          ...        ...               ...           ...       ...   \n",
       "632  36453     0.188031   0.000835          0.113624      0.384389  31.19788   \n",
       "633  36467     0.191784   0.150765          0.131666      0.508535  31.27950   \n",
       "634  36790     0.235955   0.752809          0.000000      0.118644  32.72758   \n",
       "635  36832     0.393381   0.282729          0.446630      0.508937  32.59447   \n",
       "636  36858     0.251515   0.427273          0.251908      0.408000  32.30061   \n",
       "\n",
       "          lng           city state_id state_name  ...  density  county_fips  \\\n",
       "0   -88.18526      Chunchula       AL    Alabama  ...     17.7         1097   \n",
       "1   -87.22861       Peterman       AL    Alabama  ...      2.7         1099   \n",
       "2   -86.54633    River Falls       AL    Alabama  ...     41.3         1039   \n",
       "3   -87.61125          Uriah       AL    Alabama  ...      3.4         1099   \n",
       "4   -87.99021        Calvert       AL    Alabama  ...      7.6         1129   \n",
       "..        ...            ...      ...        ...  ...      ...          ...   \n",
       "632 -86.14726        Kinston       AL    Alabama  ...      9.8         1031   \n",
       "633 -86.25579            Opp       AL    Alabama  ...     24.0         1039   \n",
       "634 -86.91070        Stanton       AL    Alabama  ...      9.6         1021   \n",
       "635 -85.58163         Auburn       AL    Alabama  ...    170.1         1081   \n",
       "636 -85.30138  Hatchechubbee       AL    Alabama  ...      2.8         1113   \n",
       "\n",
       "     county_name                                   county_weights  \\\n",
       "0         Mobile                                   {\"01097\": 100}   \n",
       "1         Monroe                  {\"01099\": 90.14, \"01035\": 9.86}   \n",
       "2      Covington                                   {\"01039\": 100}   \n",
       "3         Monroe                                   {\"01099\": 100}   \n",
       "4     Washington                 {\"01129\": 52.84, \"01097\": 47.16}   \n",
       "..           ...                                              ...   \n",
       "632       Coffee  {\"01031\": 52.25, \"01061\": 39.07, \"01039\": 8.68}   \n",
       "633    Covington                  {\"01039\": 94.16, \"01031\": 5.84}   \n",
       "634      Chilton                                   {\"01021\": 100}   \n",
       "635          Lee                  {\"01081\": 96.94, \"01087\": 3.06}   \n",
       "636      Russell                                   {\"01113\": 100}   \n",
       "\n",
       "            county_names_all    county_fips_all imprecise military  \\\n",
       "0                     Mobile               1097     False    False   \n",
       "1             Monroe|Conecuh        01099|01035     False    False   \n",
       "2                  Covington               1039     False    False   \n",
       "3                     Monroe               1099     False    False   \n",
       "4          Washington|Mobile        01129|01097     False    False   \n",
       "..                       ...                ...       ...      ...   \n",
       "632  Coffee|Geneva|Covington  01031|01061|01039     False    False   \n",
       "633         Covington|Coffee        01039|01031     False    False   \n",
       "634                  Chilton               1021     False    False   \n",
       "635                Lee|Macon        01081|01087     False    False   \n",
       "636                  Russell               1113     False    False   \n",
       "\n",
       "            timezone  cluster  \n",
       "0    America/Chicago        1  \n",
       "1    America/Chicago        0  \n",
       "2    America/Chicago        0  \n",
       "3    America/Chicago        0  \n",
       "4    America/Chicago        0  \n",
       "..               ...      ...  \n",
       "632  America/Chicago        1  \n",
       "633  America/Chicago        1  \n",
       "634  America/Chicago        0  \n",
       "635  America/Chicago        1  \n",
       "636  America/Chicago        0  \n",
       "\n",
       "[620 rows x 23 columns]"
      ]
     },
     "execution_count": 47,
     "metadata": {},
     "output_type": "execute_result"
    }
   ],
   "source": [
    "al_socioeconomic"
   ]
  },
  {
   "cell_type": "code",
   "execution_count": 48,
   "id": "46fb773e",
   "metadata": {},
   "outputs": [],
   "source": [
    "al_socioeconomic.to_csv(\"al_socioeconomic.csv\", index=False)"
   ]
  }
 ],
 "metadata": {
  "kernelspec": {
   "display_name": "Python (Anaconda Base)",
   "language": "python",
   "name": "base"
  },
  "language_info": {
   "codemirror_mode": {
    "name": "ipython",
    "version": 3
   },
   "file_extension": ".py",
   "mimetype": "text/x-python",
   "name": "python",
   "nbconvert_exporter": "python",
   "pygments_lexer": "ipython3",
   "version": "3.11.4"
  }
 },
 "nbformat": 4,
 "nbformat_minor": 5
}
