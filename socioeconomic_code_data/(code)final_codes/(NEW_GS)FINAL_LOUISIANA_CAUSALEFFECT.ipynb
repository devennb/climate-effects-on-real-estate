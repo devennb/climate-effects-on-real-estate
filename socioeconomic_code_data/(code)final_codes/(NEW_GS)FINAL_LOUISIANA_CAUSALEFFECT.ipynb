{
 "cells": [
  {
   "cell_type": "code",
   "execution_count": 1,
   "id": "6f001d4a",
   "metadata": {},
   "outputs": [],
   "source": [
    "import pandas as pd"
   ]
  },
  {
   "cell_type": "code",
   "execution_count": 2,
   "id": "42ea4fcb",
   "metadata": {},
   "outputs": [],
   "source": [
    "#Read socioeconomic status per zipcode"
   ]
  },
  {
   "cell_type": "code",
   "execution_count": 3,
   "id": "4d37aedf",
   "metadata": {},
   "outputs": [],
   "source": [
    "socioeconomic_df = pd.read_csv(\"acs_socioeconomic_2019.csv\")"
   ]
  },
  {
   "cell_type": "code",
   "execution_count": 4,
   "id": "64d58985",
   "metadata": {},
   "outputs": [],
   "source": [
    "#Read causal effect file(North Carolina)"
   ]
  },
  {
   "cell_type": "code",
   "execution_count": 5,
   "id": "da0b9a7e",
   "metadata": {},
   "outputs": [],
   "source": [
    "la_treatment_effect = pd.read_csv('la_climate_causal_effect.csv')"
   ]
  },
  {
   "cell_type": "code",
   "execution_count": 6,
   "id": "58e30396",
   "metadata": {},
   "outputs": [
    {
     "data": {
      "text/html": [
       "<div>\n",
       "<style scoped>\n",
       "    .dataframe tbody tr th:only-of-type {\n",
       "        vertical-align: middle;\n",
       "    }\n",
       "\n",
       "    .dataframe tbody tr th {\n",
       "        vertical-align: top;\n",
       "    }\n",
       "\n",
       "    .dataframe thead th {\n",
       "        text-align: right;\n",
       "    }\n",
       "</style>\n",
       "<table border=\"1\" class=\"dataframe\">\n",
       "  <thead>\n",
       "    <tr style=\"text-align: right;\">\n",
       "      <th></th>\n",
       "      <th>zip</th>\n",
       "      <th>1</th>\n",
       "      <th>2</th>\n",
       "      <th>3</th>\n",
       "      <th>4</th>\n",
       "      <th>5</th>\n",
       "      <th>6</th>\n",
       "      <th>elderlyReturns</th>\n",
       "      <th>returnsTotalwSalariesWages</th>\n",
       "      <th>returnsDependentCareCredit</th>\n",
       "      <th>returnsEducationCredit</th>\n",
       "      <th>risk_group</th>\n",
       "      <th>propensity_score</th>\n",
       "      <th>price_shift</th>\n",
       "      <th>y_0</th>\n",
       "      <th>y_0_corrected</th>\n",
       "      <th>y_1</th>\n",
       "      <th>y_1_corrected</th>\n",
       "      <th>treatment_effect</th>\n",
       "      <th>treatment_effect_no_corr</th>\n",
       "    </tr>\n",
       "  </thead>\n",
       "  <tbody>\n",
       "    <tr>\n",
       "      <th>0</th>\n",
       "      <td>70001</td>\n",
       "      <td>0.312609</td>\n",
       "      <td>0.235909</td>\n",
       "      <td>0.147008</td>\n",
       "      <td>0.084834</td>\n",
       "      <td>0.150494</td>\n",
       "      <td>0.069146</td>\n",
       "      <td>0.287623</td>\n",
       "      <td>0.764091</td>\n",
       "      <td>0.201046</td>\n",
       "      <td>0.045322</td>\n",
       "      <td>False</td>\n",
       "      <td>0.394034</td>\n",
       "      <td>3.365298</td>\n",
       "      <td>-0.859496</td>\n",
       "      <td>6.112506</td>\n",
       "      <td>0.929496</td>\n",
       "      <td>0.929496</td>\n",
       "      <td>-5.183010</td>\n",
       "      <td>1.788992</td>\n",
       "    </tr>\n",
       "    <tr>\n",
       "      <th>1</th>\n",
       "      <td>70002</td>\n",
       "      <td>0.330726</td>\n",
       "      <td>0.212291</td>\n",
       "      <td>0.132961</td>\n",
       "      <td>0.071508</td>\n",
       "      <td>0.146369</td>\n",
       "      <td>0.106145</td>\n",
       "      <td>0.335196</td>\n",
       "      <td>0.716201</td>\n",
       "      <td>0.191061</td>\n",
       "      <td>0.043575</td>\n",
       "      <td>False</td>\n",
       "      <td>0.383346</td>\n",
       "      <td>-1.004854</td>\n",
       "      <td>-0.353720</td>\n",
       "      <td>-1.409634</td>\n",
       "      <td>-0.154891</td>\n",
       "      <td>-0.154891</td>\n",
       "      <td>1.254744</td>\n",
       "      <td>0.198830</td>\n",
       "    </tr>\n",
       "    <tr>\n",
       "      <th>2</th>\n",
       "      <td>70003</td>\n",
       "      <td>0.321839</td>\n",
       "      <td>0.227148</td>\n",
       "      <td>0.149425</td>\n",
       "      <td>0.098522</td>\n",
       "      <td>0.157635</td>\n",
       "      <td>0.045430</td>\n",
       "      <td>0.291188</td>\n",
       "      <td>0.758621</td>\n",
       "      <td>0.228790</td>\n",
       "      <td>0.045977</td>\n",
       "      <td>True</td>\n",
       "      <td>0.385311</td>\n",
       "      <td>-0.184748</td>\n",
       "      <td>-1.249009</td>\n",
       "      <td>-1.249009</td>\n",
       "      <td>-1.156793</td>\n",
       "      <td>1.365963</td>\n",
       "      <td>2.614972</td>\n",
       "      <td>0.092216</td>\n",
       "    </tr>\n",
       "    <tr>\n",
       "      <th>3</th>\n",
       "      <td>70005</td>\n",
       "      <td>0.258844</td>\n",
       "      <td>0.183779</td>\n",
       "      <td>0.133736</td>\n",
       "      <td>0.084556</td>\n",
       "      <td>0.165660</td>\n",
       "      <td>0.173425</td>\n",
       "      <td>0.374461</td>\n",
       "      <td>0.715272</td>\n",
       "      <td>0.177739</td>\n",
       "      <td>0.035375</td>\n",
       "      <td>False</td>\n",
       "      <td>0.390043</td>\n",
       "      <td>1.338837</td>\n",
       "      <td>-0.463862</td>\n",
       "      <td>2.491589</td>\n",
       "      <td>-0.399341</td>\n",
       "      <td>-0.399341</td>\n",
       "      <td>-2.890931</td>\n",
       "      <td>0.064521</td>\n",
       "    </tr>\n",
       "    <tr>\n",
       "      <th>4</th>\n",
       "      <td>70006</td>\n",
       "      <td>0.333791</td>\n",
       "      <td>0.206044</td>\n",
       "      <td>0.130495</td>\n",
       "      <td>0.090659</td>\n",
       "      <td>0.164835</td>\n",
       "      <td>0.074176</td>\n",
       "      <td>0.311813</td>\n",
       "      <td>0.712912</td>\n",
       "      <td>0.225275</td>\n",
       "      <td>0.046703</td>\n",
       "      <td>False</td>\n",
       "      <td>0.380659</td>\n",
       "      <td>-1.584689</td>\n",
       "      <td>-0.268904</td>\n",
       "      <td>-2.393395</td>\n",
       "      <td>-2.097403</td>\n",
       "      <td>-2.097403</td>\n",
       "      <td>0.295992</td>\n",
       "      <td>-1.828499</td>\n",
       "    </tr>\n",
       "  </tbody>\n",
       "</table>\n",
       "</div>"
      ],
      "text/plain": [
       "     zip         1         2         3         4         5         6  \\\n",
       "0  70001  0.312609  0.235909  0.147008  0.084834  0.150494  0.069146   \n",
       "1  70002  0.330726  0.212291  0.132961  0.071508  0.146369  0.106145   \n",
       "2  70003  0.321839  0.227148  0.149425  0.098522  0.157635  0.045430   \n",
       "3  70005  0.258844  0.183779  0.133736  0.084556  0.165660  0.173425   \n",
       "4  70006  0.333791  0.206044  0.130495  0.090659  0.164835  0.074176   \n",
       "\n",
       "   elderlyReturns  returnsTotalwSalariesWages  returnsDependentCareCredit  \\\n",
       "0        0.287623                    0.764091                    0.201046   \n",
       "1        0.335196                    0.716201                    0.191061   \n",
       "2        0.291188                    0.758621                    0.228790   \n",
       "3        0.374461                    0.715272                    0.177739   \n",
       "4        0.311813                    0.712912                    0.225275   \n",
       "\n",
       "   returnsEducationCredit  risk_group  propensity_score  price_shift  \\\n",
       "0                0.045322       False          0.394034     3.365298   \n",
       "1                0.043575       False          0.383346    -1.004854   \n",
       "2                0.045977        True          0.385311    -0.184748   \n",
       "3                0.035375       False          0.390043     1.338837   \n",
       "4                0.046703       False          0.380659    -1.584689   \n",
       "\n",
       "        y_0  y_0_corrected       y_1  y_1_corrected  treatment_effect  \\\n",
       "0 -0.859496       6.112506  0.929496       0.929496         -5.183010   \n",
       "1 -0.353720      -1.409634 -0.154891      -0.154891          1.254744   \n",
       "2 -1.249009      -1.249009 -1.156793       1.365963          2.614972   \n",
       "3 -0.463862       2.491589 -0.399341      -0.399341         -2.890931   \n",
       "4 -0.268904      -2.393395 -2.097403      -2.097403          0.295992   \n",
       "\n",
       "   treatment_effect_no_corr  \n",
       "0                  1.788992  \n",
       "1                  0.198830  \n",
       "2                  0.092216  \n",
       "3                  0.064521  \n",
       "4                 -1.828499  "
      ]
     },
     "execution_count": 6,
     "metadata": {},
     "output_type": "execute_result"
    }
   ],
   "source": [
    "la_treatment_effect.head()"
   ]
  },
  {
   "cell_type": "code",
   "execution_count": 7,
   "id": "cbb14259",
   "metadata": {},
   "outputs": [],
   "source": [
    "#Merge by zip"
   ]
  },
  {
   "cell_type": "code",
   "execution_count": 8,
   "id": "60df4ca3",
   "metadata": {},
   "outputs": [],
   "source": [
    "socioeconomic_df['zip'] = socioeconomic_df['zip'].astype(str).str.zfill(5)\n",
    "la_treatment_effect['zip'] = la_treatment_effect['zip'].astype(str).str.zfill(5)"
   ]
  },
  {
   "cell_type": "code",
   "execution_count": 9,
   "id": "e90e0615",
   "metadata": {},
   "outputs": [],
   "source": [
    "la_socioeconomic_treatment_effect = pd.merge(socioeconomic_df, la_treatment_effect, on=\"zip\")"
   ]
  },
  {
   "cell_type": "code",
   "execution_count": 10,
   "id": "998bd2e0",
   "metadata": {},
   "outputs": [],
   "source": [
    "#OLS regression treatment effect ~ socioeconomic variables"
   ]
  },
  {
   "cell_type": "code",
   "execution_count": 11,
   "id": "c39f8dcd",
   "metadata": {},
   "outputs": [
    {
     "name": "stdout",
     "output_type": "stream",
     "text": [
      "                               OLS Regression Results                               \n",
      "====================================================================================\n",
      "Dep. Variable:     treatment_effect_no_corr   R-squared:                       0.131\n",
      "Model:                                  OLS   Adj. R-squared:                  0.118\n",
      "Method:                       Least Squares   F-statistic:                     10.32\n",
      "Date:                      Thu, 08 May 2025   Prob (F-statistic):           8.49e-08\n",
      "Time:                              20:43:45   Log-Likelihood:                -708.03\n",
      "No. Observations:                       279   AIC:                             1426.\n",
      "Df Residuals:                           274   BIC:                             1444.\n",
      "Df Model:                                 4                                         \n",
      "Covariance Type:                  nonrobust                                         \n",
      "====================================================================================\n",
      "                       coef    std err          t      P>|t|      [0.025      0.975]\n",
      "------------------------------------------------------------------------------------\n",
      "const                4.6751      1.129      4.141      0.000       2.453       6.897\n",
      "pct_poverty        -11.0559      2.908     -3.802      0.000     -16.781      -5.330\n",
      "pct_black            2.0241      0.969      2.088      0.038       0.116       3.932\n",
      "pct_college_plus    -9.1560      1.786     -5.127      0.000     -12.672      -5.640\n",
      "pct_mortgage        -1.7610      1.940     -0.908      0.365      -5.580       2.059\n",
      "==============================================================================\n",
      "Omnibus:                       11.126   Durbin-Watson:                   1.632\n",
      "Prob(Omnibus):                  0.004   Jarque-Bera (JB):               17.398\n",
      "Skew:                           0.248   Prob(JB):                     0.000167\n",
      "Kurtosis:                       4.118   Cond. No.                         20.6\n",
      "==============================================================================\n",
      "\n",
      "Notes:\n",
      "[1] Standard Errors assume that the covariance matrix of the errors is correctly specified.\n"
     ]
    }
   ],
   "source": [
    "import statsmodels.api as sm\n",
    "\n",
    "X = la_socioeconomic_treatment_effect[['pct_poverty', 'pct_black', 'pct_college_plus', 'pct_mortgage']]\n",
    "X = sm.add_constant(X)\n",
    "y = la_socioeconomic_treatment_effect['treatment_effect_no_corr']\n",
    "\n",
    "model = sm.OLS(y, X).fit()\n",
    "print(model.summary())"
   ]
  },
  {
   "cell_type": "code",
   "execution_count": 12,
   "id": "0a8414f1",
   "metadata": {},
   "outputs": [],
   "source": [
    "# Mean treatment effect"
   ]
  },
  {
   "cell_type": "code",
   "execution_count": 13,
   "id": "d9b605fa",
   "metadata": {},
   "outputs": [
    {
     "data": {
      "text/plain": [
       "0.3943421002505805"
      ]
     },
     "execution_count": 13,
     "metadata": {},
     "output_type": "execute_result"
    }
   ],
   "source": [
    "la_socioeconomic_treatment_effect['treatment_effect_no_corr'].mean()"
   ]
  },
  {
   "cell_type": "code",
   "execution_count": 14,
   "id": "6844b33d",
   "metadata": {},
   "outputs": [],
   "source": [
    "# Mean treatment effect: Lower 25% & Upper 25%"
   ]
  },
  {
   "cell_type": "code",
   "execution_count": 15,
   "id": "166bc668",
   "metadata": {},
   "outputs": [],
   "source": [
    "low_poverty = la_socioeconomic_treatment_effect[la_socioeconomic_treatment_effect['pct_poverty'] <= la_socioeconomic_treatment_effect['pct_poverty'].quantile(0.25)]"
   ]
  },
  {
   "cell_type": "code",
   "execution_count": 16,
   "id": "07dfebd9",
   "metadata": {},
   "outputs": [
    {
     "data": {
      "text/plain": [
       "-0.010516415882594325"
      ]
     },
     "execution_count": 16,
     "metadata": {},
     "output_type": "execute_result"
    }
   ],
   "source": [
    "low_poverty['treatment_effect_no_corr'].mean()"
   ]
  },
  {
   "cell_type": "code",
   "execution_count": 17,
   "id": "b2ed7e70",
   "metadata": {},
   "outputs": [],
   "source": [
    "high_poverty = la_socioeconomic_treatment_effect[la_socioeconomic_treatment_effect['pct_poverty'] >= la_socioeconomic_treatment_effect['pct_poverty'].quantile(0.75)]"
   ]
  },
  {
   "cell_type": "code",
   "execution_count": 18,
   "id": "39997af0",
   "metadata": {},
   "outputs": [
    {
     "data": {
      "text/plain": [
       "-0.06682687105843019"
      ]
     },
     "execution_count": 18,
     "metadata": {},
     "output_type": "execute_result"
    }
   ],
   "source": [
    "high_poverty['treatment_effect_no_corr'].mean()"
   ]
  },
  {
   "cell_type": "code",
   "execution_count": 19,
   "id": "e30cede1",
   "metadata": {},
   "outputs": [],
   "source": [
    "low_black = la_socioeconomic_treatment_effect[la_socioeconomic_treatment_effect['pct_black'] <= la_socioeconomic_treatment_effect['pct_black'].quantile(0.25)]"
   ]
  },
  {
   "cell_type": "code",
   "execution_count": 20,
   "id": "531d375f",
   "metadata": {},
   "outputs": [
    {
     "data": {
      "text/plain": [
       "0.24497541613522342"
      ]
     },
     "execution_count": 20,
     "metadata": {},
     "output_type": "execute_result"
    }
   ],
   "source": [
    "low_black['treatment_effect_no_corr'].mean()"
   ]
  },
  {
   "cell_type": "code",
   "execution_count": 21,
   "id": "d07f8954",
   "metadata": {},
   "outputs": [],
   "source": [
    "high_black = la_socioeconomic_treatment_effect[la_socioeconomic_treatment_effect['pct_black'] >= la_socioeconomic_treatment_effect['pct_black'].quantile(0.75)]"
   ]
  },
  {
   "cell_type": "code",
   "execution_count": 22,
   "id": "a0556a4d",
   "metadata": {},
   "outputs": [
    {
     "data": {
      "text/plain": [
       "0.381063315426222"
      ]
     },
     "execution_count": 22,
     "metadata": {},
     "output_type": "execute_result"
    }
   ],
   "source": [
    "high_black['treatment_effect_no_corr'].mean()"
   ]
  },
  {
   "cell_type": "code",
   "execution_count": 23,
   "id": "4c68b65d",
   "metadata": {},
   "outputs": [],
   "source": [
    "low_college = la_socioeconomic_treatment_effect[la_socioeconomic_treatment_effect['pct_college_plus'] <= la_socioeconomic_treatment_effect['pct_college_plus'].quantile(0.25)]"
   ]
  },
  {
   "cell_type": "code",
   "execution_count": 24,
   "id": "56607b95",
   "metadata": {},
   "outputs": [
    {
     "data": {
      "text/plain": [
       "0.9785976630490982"
      ]
     },
     "execution_count": 24,
     "metadata": {},
     "output_type": "execute_result"
    }
   ],
   "source": [
    "low_college['treatment_effect_no_corr'].mean()"
   ]
  },
  {
   "cell_type": "code",
   "execution_count": 25,
   "id": "13e39319",
   "metadata": {},
   "outputs": [],
   "source": [
    "high_college = la_socioeconomic_treatment_effect[la_socioeconomic_treatment_effect['pct_college_plus'] >= la_socioeconomic_treatment_effect['pct_college_plus'].quantile(0.75)]"
   ]
  },
  {
   "cell_type": "code",
   "execution_count": 26,
   "id": "d1db9985",
   "metadata": {},
   "outputs": [
    {
     "data": {
      "text/plain": [
       "-1.0265898514925205"
      ]
     },
     "execution_count": 26,
     "metadata": {},
     "output_type": "execute_result"
    }
   ],
   "source": [
    "high_college['treatment_effect_no_corr'].mean()"
   ]
  },
  {
   "cell_type": "code",
   "execution_count": 27,
   "id": "33ba3998",
   "metadata": {},
   "outputs": [],
   "source": [
    "low_mortgage = la_socioeconomic_treatment_effect[la_socioeconomic_treatment_effect['pct_mortgage'] <= la_socioeconomic_treatment_effect['pct_mortgage'].quantile(0.25)]"
   ]
  },
  {
   "cell_type": "code",
   "execution_count": 28,
   "id": "3eeb4d6d",
   "metadata": {},
   "outputs": [
    {
     "data": {
      "text/plain": [
       "0.8219806407494781"
      ]
     },
     "execution_count": 28,
     "metadata": {},
     "output_type": "execute_result"
    }
   ],
   "source": [
    "low_mortgage['treatment_effect_no_corr'].mean()"
   ]
  },
  {
   "cell_type": "code",
   "execution_count": 29,
   "id": "d19f6fd0",
   "metadata": {},
   "outputs": [],
   "source": [
    "high_mortgage = la_socioeconomic_treatment_effect[la_socioeconomic_treatment_effect['pct_mortgage'] >= la_socioeconomic_treatment_effect['pct_mortgage'].quantile(0.75)]"
   ]
  },
  {
   "cell_type": "code",
   "execution_count": 30,
   "id": "66d04be5",
   "metadata": {},
   "outputs": [
    {
     "data": {
      "text/plain": [
       "-0.16919046871578977"
      ]
     },
     "execution_count": 30,
     "metadata": {},
     "output_type": "execute_result"
    }
   ],
   "source": [
    "high_mortgage['treatment_effect_no_corr'].mean()"
   ]
  },
  {
   "cell_type": "code",
   "execution_count": 31,
   "id": "b3c87870",
   "metadata": {},
   "outputs": [],
   "source": [
    "#Get Louisiana socioeconomic status"
   ]
  },
  {
   "cell_type": "code",
   "execution_count": 32,
   "id": "d6765e18",
   "metadata": {},
   "outputs": [],
   "source": [
    "socioeconomic_df = pd.read_csv(\"acs_socioeconomic_2019.csv\")"
   ]
  },
  {
   "cell_type": "code",
   "execution_count": 33,
   "id": "6e88a58f",
   "metadata": {},
   "outputs": [],
   "source": [
    "zipdata = pd.read_excel(\"uszips.xlsx\")"
   ]
  },
  {
   "cell_type": "code",
   "execution_count": 34,
   "id": "d00caa97",
   "metadata": {},
   "outputs": [],
   "source": [
    "socioeconomic_df['zip'] = socioeconomic_df['zip'].astype(str).str.zfill(5)\n",
    "zipdata['zip'] = zipdata['zip'].astype(str).str.zfill(5)"
   ]
  },
  {
   "cell_type": "code",
   "execution_count": 35,
   "id": "2b482d9d",
   "metadata": {},
   "outputs": [],
   "source": [
    "louisiana_zipdata = zipdata[zipdata['state_name'] == 'Louisiana']"
   ]
  },
  {
   "cell_type": "code",
   "execution_count": 36,
   "id": "e3b11ef6",
   "metadata": {},
   "outputs": [],
   "source": [
    "la_socioeconomic = pd.merge(socioeconomic_df, louisiana_zipdata, on=\"zip\")"
   ]
  },
  {
   "cell_type": "code",
   "execution_count": 37,
   "id": "d57be348",
   "metadata": {},
   "outputs": [],
   "source": [
    "la_socioeconomic = la_socioeconomic.dropna(subset=['pct_poverty', 'pct_black', 'pct_college_plus', 'pct_mortgage'])"
   ]
  },
  {
   "cell_type": "code",
   "execution_count": 38,
   "id": "af107c70",
   "metadata": {},
   "outputs": [],
   "source": [
    "#Cluster zip using socioeconomic variables"
   ]
  },
  {
   "cell_type": "code",
   "execution_count": 39,
   "id": "d4d3e8f4",
   "metadata": {},
   "outputs": [],
   "source": [
    "from sklearn.preprocessing import StandardScaler"
   ]
  },
  {
   "cell_type": "code",
   "execution_count": 40,
   "id": "bfbd016d",
   "metadata": {},
   "outputs": [],
   "source": [
    "features = ['pct_poverty', 'pct_black', 'pct_college_plus', 'pct_mortgage']"
   ]
  },
  {
   "cell_type": "code",
   "execution_count": 41,
   "id": "140da45f",
   "metadata": {},
   "outputs": [],
   "source": [
    "scaler = StandardScaler()\n",
    "la_socioeconomic_scaled = scaler.fit_transform(la_socioeconomic[features])"
   ]
  },
  {
   "cell_type": "code",
   "execution_count": 42,
   "id": "ca6d444d",
   "metadata": {},
   "outputs": [],
   "source": [
    "from sklearn.cluster import KMeans\n",
    "from sklearn.metrics import silhouette_score"
   ]
  },
  {
   "cell_type": "code",
   "execution_count": 43,
   "id": "d5c2e5fe",
   "metadata": {},
   "outputs": [
    {
     "name": "stderr",
     "output_type": "stream",
     "text": [
      "C:\\Users\\user\\anaconda3\\Lib\\site-packages\\sklearn\\cluster\\_kmeans.py:1412: FutureWarning: The default value of `n_init` will change from 10 to 'auto' in 1.4. Set the value of `n_init` explicitly to suppress the warning\n",
      "  super()._check_params_vs_input(X, default_n_init=10)\n"
     ]
    },
    {
     "name": "stdout",
     "output_type": "stream",
     "text": [
      "For n_clusters =2, the average silhouette_score is :0.23399276005464176\n",
      "For n_clusters =3, the average silhouette_score is :0.26919387096692365\n",
      "For n_clusters =4, the average silhouette_score is :0.22924136393977723\n",
      "For n_clusters =5, the average silhouette_score is :0.21458142560792415\n"
     ]
    },
    {
     "name": "stderr",
     "output_type": "stream",
     "text": [
      "C:\\Users\\user\\anaconda3\\Lib\\site-packages\\sklearn\\cluster\\_kmeans.py:1412: FutureWarning: The default value of `n_init` will change from 10 to 'auto' in 1.4. Set the value of `n_init` explicitly to suppress the warning\n",
      "  super()._check_params_vs_input(X, default_n_init=10)\n",
      "C:\\Users\\user\\anaconda3\\Lib\\site-packages\\sklearn\\cluster\\_kmeans.py:1412: FutureWarning: The default value of `n_init` will change from 10 to 'auto' in 1.4. Set the value of `n_init` explicitly to suppress the warning\n",
      "  super()._check_params_vs_input(X, default_n_init=10)\n",
      "C:\\Users\\user\\anaconda3\\Lib\\site-packages\\sklearn\\cluster\\_kmeans.py:1412: FutureWarning: The default value of `n_init` will change from 10 to 'auto' in 1.4. Set the value of `n_init` explicitly to suppress the warning\n",
      "  super()._check_params_vs_input(X, default_n_init=10)\n",
      "C:\\Users\\user\\anaconda3\\Lib\\site-packages\\sklearn\\cluster\\_kmeans.py:1412: FutureWarning: The default value of `n_init` will change from 10 to 'auto' in 1.4. Set the value of `n_init` explicitly to suppress the warning\n",
      "  super()._check_params_vs_input(X, default_n_init=10)\n"
     ]
    },
    {
     "name": "stdout",
     "output_type": "stream",
     "text": [
      "For n_clusters =6, the average silhouette_score is :0.22121847400857872\n",
      "For n_clusters =7, the average silhouette_score is :0.1992301703423487\n",
      "For n_clusters =8, the average silhouette_score is :0.21305116828942794\n"
     ]
    },
    {
     "name": "stderr",
     "output_type": "stream",
     "text": [
      "C:\\Users\\user\\anaconda3\\Lib\\site-packages\\sklearn\\cluster\\_kmeans.py:1412: FutureWarning: The default value of `n_init` will change from 10 to 'auto' in 1.4. Set the value of `n_init` explicitly to suppress the warning\n",
      "  super()._check_params_vs_input(X, default_n_init=10)\n",
      "C:\\Users\\user\\anaconda3\\Lib\\site-packages\\sklearn\\cluster\\_kmeans.py:1412: FutureWarning: The default value of `n_init` will change from 10 to 'auto' in 1.4. Set the value of `n_init` explicitly to suppress the warning\n",
      "  super()._check_params_vs_input(X, default_n_init=10)\n",
      "C:\\Users\\user\\anaconda3\\Lib\\site-packages\\sklearn\\cluster\\_kmeans.py:1412: FutureWarning: The default value of `n_init` will change from 10 to 'auto' in 1.4. Set the value of `n_init` explicitly to suppress the warning\n",
      "  super()._check_params_vs_input(X, default_n_init=10)\n"
     ]
    },
    {
     "name": "stdout",
     "output_type": "stream",
     "text": [
      "For n_clusters =9, the average silhouette_score is :0.214845225704575\n",
      "For n_clusters =10, the average silhouette_score is :0.22846419886765462\n"
     ]
    },
    {
     "name": "stderr",
     "output_type": "stream",
     "text": [
      "C:\\Users\\user\\anaconda3\\Lib\\site-packages\\sklearn\\cluster\\_kmeans.py:1412: FutureWarning: The default value of `n_init` will change from 10 to 'auto' in 1.4. Set the value of `n_init` explicitly to suppress the warning\n",
      "  super()._check_params_vs_input(X, default_n_init=10)\n"
     ]
    }
   ],
   "source": [
    "#Clustering\n",
    "range_n_clusters = [2, 3, 4, 5, 6, 7, 8, 9, 10]\n",
    "for k in range_n_clusters: #try different numbers of clusters\n",
    "    kmeans = KMeans(n_clusters=k, random_state=324)\n",
    "    cluster_labels = kmeans.fit_predict(la_socioeconomic_scaled)\n",
    "    #report average Silhouette score\n",
    "    silhouette_avg = silhouette_score(la_socioeconomic_scaled, cluster_labels)\n",
    "    print(\"For n_clusters ={},\".format(k)+\" the average silhouette_score is :{}\".format(silhouette_avg))"
   ]
  },
  {
   "cell_type": "code",
   "execution_count": 44,
   "id": "9d2cb3b2",
   "metadata": {},
   "outputs": [
    {
     "name": "stderr",
     "output_type": "stream",
     "text": [
      "C:\\Users\\user\\anaconda3\\Lib\\site-packages\\sklearn\\cluster\\_kmeans.py:1412: FutureWarning: The default value of `n_init` will change from 10 to 'auto' in 1.4. Set the value of `n_init` explicitly to suppress the warning\n",
      "  super()._check_params_vs_input(X, default_n_init=10)\n"
     ]
    }
   ],
   "source": [
    "kmeans = KMeans(n_clusters=3, random_state=324)\n",
    "cluster_labels = kmeans.fit_predict(la_socioeconomic_scaled)"
   ]
  },
  {
   "cell_type": "code",
   "execution_count": 45,
   "id": "2b61b98c",
   "metadata": {},
   "outputs": [],
   "source": [
    "la_socioeconomic['cluster'] = cluster_labels"
   ]
  },
  {
   "cell_type": "code",
   "execution_count": 46,
   "id": "fe076137",
   "metadata": {},
   "outputs": [
    {
     "name": "stdout",
     "output_type": "stream",
     "text": [
      "         pct_poverty  pct_black  pct_college_plus  pct_mortgage\n",
      "cluster                                                        \n",
      "0           0.303549   0.571669          0.128700      0.379259\n",
      "1           0.135916   0.249236          0.302838      0.602286\n",
      "2           0.172975   0.135380          0.125052      0.368854\n"
     ]
    }
   ],
   "source": [
    "cluster_profile = la_socioeconomic.groupby('cluster')[features].mean()\n",
    "print(cluster_profile)"
   ]
  },
  {
   "cell_type": "code",
   "execution_count": 47,
   "id": "85c1e32c",
   "metadata": {},
   "outputs": [
    {
     "data": {
      "text/html": [
       "<div>\n",
       "<style scoped>\n",
       "    .dataframe tbody tr th:only-of-type {\n",
       "        vertical-align: middle;\n",
       "    }\n",
       "\n",
       "    .dataframe tbody tr th {\n",
       "        vertical-align: top;\n",
       "    }\n",
       "\n",
       "    .dataframe thead th {\n",
       "        text-align: right;\n",
       "    }\n",
       "</style>\n",
       "<table border=\"1\" class=\"dataframe\">\n",
       "  <thead>\n",
       "    <tr style=\"text-align: right;\">\n",
       "      <th></th>\n",
       "      <th>zip</th>\n",
       "      <th>pct_poverty</th>\n",
       "      <th>pct_black</th>\n",
       "      <th>pct_college_plus</th>\n",
       "      <th>pct_mortgage</th>\n",
       "      <th>lat</th>\n",
       "      <th>lng</th>\n",
       "      <th>city</th>\n",
       "      <th>state_id</th>\n",
       "      <th>state_name</th>\n",
       "      <th>...</th>\n",
       "      <th>density</th>\n",
       "      <th>county_fips</th>\n",
       "      <th>county_name</th>\n",
       "      <th>county_weights</th>\n",
       "      <th>county_names_all</th>\n",
       "      <th>county_fips_all</th>\n",
       "      <th>imprecise</th>\n",
       "      <th>military</th>\n",
       "      <th>timezone</th>\n",
       "      <th>cluster</th>\n",
       "    </tr>\n",
       "  </thead>\n",
       "  <tbody>\n",
       "    <tr>\n",
       "      <th>0</th>\n",
       "      <td>71227</td>\n",
       "      <td>0.155201</td>\n",
       "      <td>0.110609</td>\n",
       "      <td>0.319428</td>\n",
       "      <td>0.404181</td>\n",
       "      <td>32.52866</td>\n",
       "      <td>-92.48353</td>\n",
       "      <td>Choudrant</td>\n",
       "      <td>LA</td>\n",
       "      <td>Louisiana</td>\n",
       "      <td>...</td>\n",
       "      <td>13.7</td>\n",
       "      <td>22061</td>\n",
       "      <td>Lincoln</td>\n",
       "      <td>{\"22061\": 60.38, \"22049\": 36.81, \"22073\": 2.81}</td>\n",
       "      <td>Lincoln|Jackson|Ouachita</td>\n",
       "      <td>22061|22049|22073</td>\n",
       "      <td>False</td>\n",
       "      <td>False</td>\n",
       "      <td>America/Chicago</td>\n",
       "      <td>1</td>\n",
       "    </tr>\n",
       "    <tr>\n",
       "      <th>1</th>\n",
       "      <td>71238</td>\n",
       "      <td>0.160939</td>\n",
       "      <td>0.036021</td>\n",
       "      <td>0.159796</td>\n",
       "      <td>0.447172</td>\n",
       "      <td>32.36716</td>\n",
       "      <td>-92.38139</td>\n",
       "      <td>Eros</td>\n",
       "      <td>LA</td>\n",
       "      <td>Louisiana</td>\n",
       "      <td>...</td>\n",
       "      <td>8.6</td>\n",
       "      <td>22049</td>\n",
       "      <td>Jackson</td>\n",
       "      <td>{\"22049\": 64.81, \"22073\": 35.19}</td>\n",
       "      <td>Jackson|Ouachita</td>\n",
       "      <td>22049|22073</td>\n",
       "      <td>False</td>\n",
       "      <td>False</td>\n",
       "      <td>America/Chicago</td>\n",
       "      <td>2</td>\n",
       "    </tr>\n",
       "    <tr>\n",
       "      <th>2</th>\n",
       "      <td>71256</td>\n",
       "      <td>0.469231</td>\n",
       "      <td>0.609231</td>\n",
       "      <td>0.078627</td>\n",
       "      <td>0.328671</td>\n",
       "      <td>32.94852</td>\n",
       "      <td>-92.71471</td>\n",
       "      <td>Lillie</td>\n",
       "      <td>LA</td>\n",
       "      <td>Louisiana</td>\n",
       "      <td>...</td>\n",
       "      <td>5.1</td>\n",
       "      <td>22111</td>\n",
       "      <td>Union</td>\n",
       "      <td>{\"22111\": 61.64, \"22027\": 38.36}</td>\n",
       "      <td>Union|Claiborne</td>\n",
       "      <td>22111|22027</td>\n",
       "      <td>False</td>\n",
       "      <td>False</td>\n",
       "      <td>America/Chicago</td>\n",
       "      <td>0</td>\n",
       "    </tr>\n",
       "    <tr>\n",
       "      <th>3</th>\n",
       "      <td>71275</td>\n",
       "      <td>0.122549</td>\n",
       "      <td>0.384238</td>\n",
       "      <td>0.146301</td>\n",
       "      <td>0.337386</td>\n",
       "      <td>32.51276</td>\n",
       "      <td>-92.81991</td>\n",
       "      <td>Simsboro</td>\n",
       "      <td>LA</td>\n",
       "      <td>Louisiana</td>\n",
       "      <td>...</td>\n",
       "      <td>10.2</td>\n",
       "      <td>22061</td>\n",
       "      <td>Lincoln</td>\n",
       "      <td>{\"22061\": 76.95, \"22013\": 23.05}</td>\n",
       "      <td>Lincoln|Bienville</td>\n",
       "      <td>22061|22013</td>\n",
       "      <td>False</td>\n",
       "      <td>False</td>\n",
       "      <td>America/Chicago</td>\n",
       "      <td>2</td>\n",
       "    </tr>\n",
       "    <tr>\n",
       "      <th>4</th>\n",
       "      <td>71280</td>\n",
       "      <td>0.198357</td>\n",
       "      <td>0.223220</td>\n",
       "      <td>0.228506</td>\n",
       "      <td>0.536193</td>\n",
       "      <td>32.72344</td>\n",
       "      <td>-92.10389</td>\n",
       "      <td>Sterlington</td>\n",
       "      <td>LA</td>\n",
       "      <td>Louisiana</td>\n",
       "      <td>...</td>\n",
       "      <td>32.5</td>\n",
       "      <td>22111</td>\n",
       "      <td>Union</td>\n",
       "      <td>{\"22111\": 71.15, \"22073\": 22.63, \"22067\": 6.22}</td>\n",
       "      <td>Union|Ouachita|Morehouse</td>\n",
       "      <td>22111|22073|22067</td>\n",
       "      <td>False</td>\n",
       "      <td>False</td>\n",
       "      <td>America/Chicago</td>\n",
       "      <td>1</td>\n",
       "    </tr>\n",
       "    <tr>\n",
       "      <th>...</th>\n",
       "      <td>...</td>\n",
       "      <td>...</td>\n",
       "      <td>...</td>\n",
       "      <td>...</td>\n",
       "      <td>...</td>\n",
       "      <td>...</td>\n",
       "      <td>...</td>\n",
       "      <td>...</td>\n",
       "      <td>...</td>\n",
       "      <td>...</td>\n",
       "      <td>...</td>\n",
       "      <td>...</td>\n",
       "      <td>...</td>\n",
       "      <td>...</td>\n",
       "      <td>...</td>\n",
       "      <td>...</td>\n",
       "      <td>...</td>\n",
       "      <td>...</td>\n",
       "      <td>...</td>\n",
       "      <td>...</td>\n",
       "      <td>...</td>\n",
       "    </tr>\n",
       "    <tr>\n",
       "      <th>508</th>\n",
       "      <td>70820</td>\n",
       "      <td>0.428939</td>\n",
       "      <td>0.238162</td>\n",
       "      <td>0.533911</td>\n",
       "      <td>0.628598</td>\n",
       "      <td>30.36812</td>\n",
       "      <td>-91.18279</td>\n",
       "      <td>Baton Rouge</td>\n",
       "      <td>LA</td>\n",
       "      <td>Louisiana</td>\n",
       "      <td>...</td>\n",
       "      <td>420.1</td>\n",
       "      <td>22033</td>\n",
       "      <td>East Baton Rouge</td>\n",
       "      <td>{\"22033\": 100}</td>\n",
       "      <td>East Baton Rouge</td>\n",
       "      <td>22033</td>\n",
       "      <td>False</td>\n",
       "      <td>False</td>\n",
       "      <td>America/Chicago</td>\n",
       "      <td>1</td>\n",
       "    </tr>\n",
       "    <tr>\n",
       "      <th>510</th>\n",
       "      <td>70643</td>\n",
       "      <td>0.009174</td>\n",
       "      <td>0.000000</td>\n",
       "      <td>0.186813</td>\n",
       "      <td>0.250000</td>\n",
       "      <td>29.73649</td>\n",
       "      <td>-92.79390</td>\n",
       "      <td>Grand Chenier</td>\n",
       "      <td>LA</td>\n",
       "      <td>Louisiana</td>\n",
       "      <td>...</td>\n",
       "      <td>0.3</td>\n",
       "      <td>22023</td>\n",
       "      <td>Cameron</td>\n",
       "      <td>{\"22023\": 100}</td>\n",
       "      <td>Cameron</td>\n",
       "      <td>22023</td>\n",
       "      <td>False</td>\n",
       "      <td>False</td>\n",
       "      <td>America/Chicago</td>\n",
       "      <td>2</td>\n",
       "    </tr>\n",
       "    <tr>\n",
       "      <th>511</th>\n",
       "      <td>70712</td>\n",
       "      <td>0.115321</td>\n",
       "      <td>0.614286</td>\n",
       "      <td>0.084234</td>\n",
       "      <td>0.437500</td>\n",
       "      <td>30.96574</td>\n",
       "      <td>-91.58573</td>\n",
       "      <td>Angola</td>\n",
       "      <td>LA</td>\n",
       "      <td>Louisiana</td>\n",
       "      <td>...</td>\n",
       "      <td>79.9</td>\n",
       "      <td>22125</td>\n",
       "      <td>West Feliciana</td>\n",
       "      <td>{\"22125\": 100}</td>\n",
       "      <td>West Feliciana</td>\n",
       "      <td>22125</td>\n",
       "      <td>False</td>\n",
       "      <td>False</td>\n",
       "      <td>America/Chicago</td>\n",
       "      <td>0</td>\n",
       "    </tr>\n",
       "    <tr>\n",
       "      <th>512</th>\n",
       "      <td>70769</td>\n",
       "      <td>0.071620</td>\n",
       "      <td>0.113967</td>\n",
       "      <td>0.344020</td>\n",
       "      <td>0.693798</td>\n",
       "      <td>30.30802</td>\n",
       "      <td>-90.93967</td>\n",
       "      <td>Prairieville</td>\n",
       "      <td>LA</td>\n",
       "      <td>Louisiana</td>\n",
       "      <td>...</td>\n",
       "      <td>387.8</td>\n",
       "      <td>22005</td>\n",
       "      <td>Ascension</td>\n",
       "      <td>{\"22005\": 99.64, \"22063\": 0.36}</td>\n",
       "      <td>Ascension|Livingston</td>\n",
       "      <td>22005|22063</td>\n",
       "      <td>False</td>\n",
       "      <td>False</td>\n",
       "      <td>America/Chicago</td>\n",
       "      <td>1</td>\n",
       "    </tr>\n",
       "    <tr>\n",
       "      <th>513</th>\n",
       "      <td>70438</td>\n",
       "      <td>0.218291</td>\n",
       "      <td>0.231283</td>\n",
       "      <td>0.114381</td>\n",
       "      <td>0.419597</td>\n",
       "      <td>30.84139</td>\n",
       "      <td>-90.11186</td>\n",
       "      <td>Franklinton</td>\n",
       "      <td>LA</td>\n",
       "      <td>Louisiana</td>\n",
       "      <td>...</td>\n",
       "      <td>22.1</td>\n",
       "      <td>22117</td>\n",
       "      <td>Washington</td>\n",
       "      <td>{\"22117\": 96.35, \"22103\": 2.83, \"22105\": 0.82}</td>\n",
       "      <td>Washington|St. Tammany|Tangipahoa</td>\n",
       "      <td>22117|22103|22105</td>\n",
       "      <td>False</td>\n",
       "      <td>False</td>\n",
       "      <td>America/Chicago</td>\n",
       "      <td>2</td>\n",
       "    </tr>\n",
       "  </tbody>\n",
       "</table>\n",
       "<p>502 rows × 23 columns</p>\n",
       "</div>"
      ],
      "text/plain": [
       "       zip  pct_poverty  pct_black  pct_college_plus  pct_mortgage       lat  \\\n",
       "0    71227     0.155201   0.110609          0.319428      0.404181  32.52866   \n",
       "1    71238     0.160939   0.036021          0.159796      0.447172  32.36716   \n",
       "2    71256     0.469231   0.609231          0.078627      0.328671  32.94852   \n",
       "3    71275     0.122549   0.384238          0.146301      0.337386  32.51276   \n",
       "4    71280     0.198357   0.223220          0.228506      0.536193  32.72344   \n",
       "..     ...          ...        ...               ...           ...       ...   \n",
       "508  70820     0.428939   0.238162          0.533911      0.628598  30.36812   \n",
       "510  70643     0.009174   0.000000          0.186813      0.250000  29.73649   \n",
       "511  70712     0.115321   0.614286          0.084234      0.437500  30.96574   \n",
       "512  70769     0.071620   0.113967          0.344020      0.693798  30.30802   \n",
       "513  70438     0.218291   0.231283          0.114381      0.419597  30.84139   \n",
       "\n",
       "          lng           city state_id state_name  ...  density  county_fips  \\\n",
       "0   -92.48353      Choudrant       LA  Louisiana  ...     13.7        22061   \n",
       "1   -92.38139           Eros       LA  Louisiana  ...      8.6        22049   \n",
       "2   -92.71471         Lillie       LA  Louisiana  ...      5.1        22111   \n",
       "3   -92.81991       Simsboro       LA  Louisiana  ...     10.2        22061   \n",
       "4   -92.10389    Sterlington       LA  Louisiana  ...     32.5        22111   \n",
       "..        ...            ...      ...        ...  ...      ...          ...   \n",
       "508 -91.18279    Baton Rouge       LA  Louisiana  ...    420.1        22033   \n",
       "510 -92.79390  Grand Chenier       LA  Louisiana  ...      0.3        22023   \n",
       "511 -91.58573         Angola       LA  Louisiana  ...     79.9        22125   \n",
       "512 -90.93967   Prairieville       LA  Louisiana  ...    387.8        22005   \n",
       "513 -90.11186    Franklinton       LA  Louisiana  ...     22.1        22117   \n",
       "\n",
       "          county_name                                   county_weights  \\\n",
       "0             Lincoln  {\"22061\": 60.38, \"22049\": 36.81, \"22073\": 2.81}   \n",
       "1             Jackson                 {\"22049\": 64.81, \"22073\": 35.19}   \n",
       "2               Union                 {\"22111\": 61.64, \"22027\": 38.36}   \n",
       "3             Lincoln                 {\"22061\": 76.95, \"22013\": 23.05}   \n",
       "4               Union  {\"22111\": 71.15, \"22073\": 22.63, \"22067\": 6.22}   \n",
       "..                ...                                              ...   \n",
       "508  East Baton Rouge                                   {\"22033\": 100}   \n",
       "510           Cameron                                   {\"22023\": 100}   \n",
       "511    West Feliciana                                   {\"22125\": 100}   \n",
       "512         Ascension                  {\"22005\": 99.64, \"22063\": 0.36}   \n",
       "513        Washington   {\"22117\": 96.35, \"22103\": 2.83, \"22105\": 0.82}   \n",
       "\n",
       "                      county_names_all    county_fips_all imprecise military  \\\n",
       "0             Lincoln|Jackson|Ouachita  22061|22049|22073     False    False   \n",
       "1                     Jackson|Ouachita        22049|22073     False    False   \n",
       "2                      Union|Claiborne        22111|22027     False    False   \n",
       "3                    Lincoln|Bienville        22061|22013     False    False   \n",
       "4             Union|Ouachita|Morehouse  22111|22073|22067     False    False   \n",
       "..                                 ...                ...       ...      ...   \n",
       "508                   East Baton Rouge              22033     False    False   \n",
       "510                            Cameron              22023     False    False   \n",
       "511                     West Feliciana              22125     False    False   \n",
       "512               Ascension|Livingston        22005|22063     False    False   \n",
       "513  Washington|St. Tammany|Tangipahoa  22117|22103|22105     False    False   \n",
       "\n",
       "            timezone  cluster  \n",
       "0    America/Chicago        1  \n",
       "1    America/Chicago        2  \n",
       "2    America/Chicago        0  \n",
       "3    America/Chicago        2  \n",
       "4    America/Chicago        1  \n",
       "..               ...      ...  \n",
       "508  America/Chicago        1  \n",
       "510  America/Chicago        2  \n",
       "511  America/Chicago        0  \n",
       "512  America/Chicago        1  \n",
       "513  America/Chicago        2  \n",
       "\n",
       "[502 rows x 23 columns]"
      ]
     },
     "execution_count": 47,
     "metadata": {},
     "output_type": "execute_result"
    }
   ],
   "source": [
    "la_socioeconomic"
   ]
  },
  {
   "cell_type": "code",
   "execution_count": 48,
   "id": "e69466eb",
   "metadata": {},
   "outputs": [],
   "source": [
    "la_socioeconomic.to_csv(\"la_socioeconomic.csv\", index=False)"
   ]
  },
  {
   "cell_type": "code",
   "execution_count": null,
   "id": "6e8ccb63",
   "metadata": {},
   "outputs": [],
   "source": []
  }
 ],
 "metadata": {
  "kernelspec": {
   "display_name": "Python (Anaconda Base)",
   "language": "python",
   "name": "base"
  },
  "language_info": {
   "codemirror_mode": {
    "name": "ipython",
    "version": 3
   },
   "file_extension": ".py",
   "mimetype": "text/x-python",
   "name": "python",
   "nbconvert_exporter": "python",
   "pygments_lexer": "ipython3",
   "version": "3.11.4"
  }
 },
 "nbformat": 4,
 "nbformat_minor": 5
}
